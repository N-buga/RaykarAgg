{
 "cells": [
  {
   "cell_type": "code",
   "execution_count": 21,
   "metadata": {},
   "outputs": [
    {
     "data": {
      "text/html": [
       "<script>requirejs.config({paths: { 'plotly': ['https://cdn.plot.ly/plotly-latest.min']},});if(!window.Plotly) {{require(['plotly'],function(plotly) {window.Plotly=plotly;});}}</script>"
      ],
      "text/vnd.plotly.v1+html": [
       "<script>requirejs.config({paths: { 'plotly': ['https://cdn.plot.ly/plotly-latest.min']},});if(!window.Plotly) {{require(['plotly'],function(plotly) {window.Plotly=plotly;});}}</script>"
      ]
     },
     "metadata": {},
     "output_type": "display_data"
    }
   ],
   "source": [
    "from plotly.offline import iplot, init_notebook_mode\n",
    "import plotly.graph_objs as go\n",
    "from plotly import tools\n",
    "import json\n",
    "import os\n",
    "import itertools\n",
    "\n",
    "init_notebook_mode(connected=True)"
   ]
  },
  {
   "cell_type": "code",
   "execution_count": 30,
   "metadata": {},
   "outputs": [],
   "source": [
    "dir_ = 'tests/simulations_tests'\n",
    "file_name = 'res_test_old.json'"
   ]
  },
  {
   "cell_type": "code",
   "execution_count": 31,
   "metadata": {},
   "outputs": [],
   "source": [
    "with open(os.path.join(dir_, file_name), 'r') as file_from:\n",
    "    old_points = json.load(file_from)"
   ]
  },
  {
   "cell_type": "code",
   "execution_count": 24,
   "metadata": {},
   "outputs": [],
   "source": [
    "def transforme_data(points):\n",
    "    gs = ((method_name, a_b, l, feature, algo, res) for method_name, d1 in points.items() for a_b, d2 in d1.items() for l,d3 in d2.items() for feature, d4 in d3.items() for algo, res in d4.items())\n",
    "    plots_descr = {}\n",
    "    for gr in gs:\n",
    "        m_name, a_b, l, f, a, r = gr\n",
    "        if f not in plots_descr:\n",
    "            plots_descr[f] = {}\n",
    "        if m_name not in plots_descr[f]:\n",
    "            plots_descr[f][m_name] = {}\n",
    "        if a_b not in plots_descr[f][m_name]:\n",
    "            plots_descr[f][m_name][a_b] = {}\n",
    "        if a not in plots_descr[f][m_name][a_b]:\n",
    "            plots_descr[f][m_name][a_b][a] = []\n",
    "\n",
    "        plots_descr[f][m_name][a_b][a].append((l, r))\n",
    "    for f in plots_descr:\n",
    "        for m_name in plots_descr[f]:\n",
    "            for a_b in plots_descr[f][m_name]:\n",
    "                for a in plots_descr[f][m_name][a_b]:\n",
    "                    ps = plots_descr[f][m_name][a_b][a]\n",
    "                    plots_descr[f][m_name][a_b][a] = sorted(ps)\n",
    "    return plots_descr"
   ]
  },
  {
   "cell_type": "code",
   "execution_count": 25,
   "metadata": {},
   "outputs": [],
   "source": [
    "def show_plots(f_name, plots_descr):\n",
    "    print(f_name)\n",
    "    for method_name in plots_descr[f_name]:\n",
    "        for a_b in plots_descr[f_name][method_name]:\n",
    "            fig = tools.make_subplots(rows=1, cols=1, subplot_titles=[method_name + ' ' + a_b])\n",
    "            plot_lines = plots_descr[f_name][method_name][a_b]\n",
    "            for num, line_label in enumerate(plot_lines):\n",
    "                l = []\n",
    "                mean_res = []\n",
    "                for point_label in plot_lines[line_label]:\n",
    "                    l.append(point_label[0])\n",
    "                    mean_res.append(point_label[1])\n",
    "\n",
    "                trace = go.Scatter(\n",
    "                    x=l,\n",
    "                    y=mean_res,\n",
    "                    mode='lines+markers',\n",
    "                    name=line_label,\n",
    "                )\n",
    "\n",
    "                fig.append_trace(trace, 1, 1)\n",
    "            iplot(fig)"
   ]
  },
  {
   "cell_type": "code",
   "execution_count": 32,
   "metadata": {},
   "outputs": [
    {
     "name": "stdout",
     "output_type": "stream",
     "text": [
      "acc\n",
      "This is the format of your plot grid:\n",
      "[ (1,1) x1,y1 ]\n",
      "\n"
     ]
    },
    {
     "data": {
      "application/vnd.plotly.v1+json": {
       "data": [
        {
         "mode": "lines+markers",
         "name": "RaykarDS",
         "type": "scatter",
         "x": [
          "0.49978",
          "0.60079",
          "0.7507",
          "0.89899",
          "1.0"
         ],
         "xaxis": "x1",
         "y": [
          0.7518,
          0.74713,
          0.74838,
          0.77853,
          0.78557
         ],
         "yaxis": "y1"
        },
        {
         "mode": "lines+markers",
         "name": "RaykarDS_l",
         "type": "scatter",
         "x": [
          "0.49978",
          "0.60079",
          "0.7507",
          "0.89899",
          "1.0"
         ],
         "xaxis": "x1",
         "y": [
          0.74905,
          0.70077,
          0.7512,
          0.89857,
          0.99945
         ],
         "yaxis": "y1"
        },
        {
         "mode": "lines+markers",
         "name": "DS",
         "type": "scatter",
         "x": [
          "0.49978",
          "0.60079",
          "0.7507",
          "0.89899",
          "1.0"
         ],
         "xaxis": "x1",
         "y": [
          0.74905,
          0.74905,
          0.74905,
          0.74905,
          0.74905
         ],
         "yaxis": "y1"
        },
        {
         "mode": "lines+markers",
         "name": "Raykar",
         "type": "scatter",
         "x": [
          "0.49978",
          "0.60079",
          "0.7507",
          "0.89899",
          "1.0"
         ],
         "xaxis": "x1",
         "y": [
          0.49968,
          0.40477,
          0.74772,
          0.89787,
          0.99945
         ],
         "yaxis": "y1"
        }
       ],
       "layout": {
        "annotations": [
         {
          "font": {
           "size": 16
          },
          "showarrow": false,
          "text": "METHOD generate_AB_points ([0.6, 0.6, 0.6, 0.7, 0.7], [0.6, 0.6, 0.6, 0.7, 0.7])",
          "x": 0.5,
          "xanchor": "center",
          "xref": "paper",
          "y": 1,
          "yanchor": "bottom",
          "yref": "paper"
         }
        ],
        "xaxis1": {
         "anchor": "y1",
         "domain": [
          0,
          1
         ]
        },
        "yaxis1": {
         "anchor": "x1",
         "domain": [
          0,
          1
         ]
        }
       }
      },
      "text/html": [
       "<div id=\"c6bb1be9-d988-4347-aa1c-6e195c4f1029\" style=\"height: 525px; width: 100%;\" class=\"plotly-graph-div\"></div><script type=\"text/javascript\">require([\"plotly\"], function(Plotly) { window.PLOTLYENV=window.PLOTLYENV || {};window.PLOTLYENV.BASE_URL=\"https://plot.ly\";Plotly.newPlot(\"c6bb1be9-d988-4347-aa1c-6e195c4f1029\", [{\"type\": \"scatter\", \"x\": [\"0.49978\", \"0.60079\", \"0.7507\", \"0.89899\", \"1.0\"], \"y\": [0.7518, 0.74713, 0.74838, 0.77853, 0.78557], \"mode\": \"lines+markers\", \"name\": \"RaykarDS\", \"xaxis\": \"x1\", \"yaxis\": \"y1\"}, {\"type\": \"scatter\", \"x\": [\"0.49978\", \"0.60079\", \"0.7507\", \"0.89899\", \"1.0\"], \"y\": [0.74905, 0.70077, 0.7512, 0.89857, 0.99945], \"mode\": \"lines+markers\", \"name\": \"RaykarDS_l\", \"xaxis\": \"x1\", \"yaxis\": \"y1\"}, {\"type\": \"scatter\", \"x\": [\"0.49978\", \"0.60079\", \"0.7507\", \"0.89899\", \"1.0\"], \"y\": [0.74905, 0.74905, 0.74905, 0.74905, 0.74905], \"mode\": \"lines+markers\", \"name\": \"DS\", \"xaxis\": \"x1\", \"yaxis\": \"y1\"}, {\"type\": \"scatter\", \"x\": [\"0.49978\", \"0.60079\", \"0.7507\", \"0.89899\", \"1.0\"], \"y\": [0.49968, 0.40477, 0.74772, 0.89787, 0.99945], \"mode\": \"lines+markers\", \"name\": \"Raykar\", \"xaxis\": \"x1\", \"yaxis\": \"y1\"}], {\"xaxis1\": {\"domain\": [0.0, 1.0], \"anchor\": \"y1\"}, \"yaxis1\": {\"domain\": [0.0, 1.0], \"anchor\": \"x1\"}, \"annotations\": [{\"y\": 1.0, \"xref\": \"paper\", \"x\": 0.5, \"yref\": \"paper\", \"text\": \"METHOD generate_AB_points ([0.6, 0.6, 0.6, 0.7, 0.7], [0.6, 0.6, 0.6, 0.7, 0.7])\", \"showarrow\": false, \"font\": {\"size\": 16}, \"xanchor\": \"center\", \"yanchor\": \"bottom\"}]}, {\"showLink\": true, \"linkText\": \"Export to plot.ly\"})});</script>"
      ],
      "text/vnd.plotly.v1+html": [
       "<div id=\"c6bb1be9-d988-4347-aa1c-6e195c4f1029\" style=\"height: 525px; width: 100%;\" class=\"plotly-graph-div\"></div><script type=\"text/javascript\">require([\"plotly\"], function(Plotly) { window.PLOTLYENV=window.PLOTLYENV || {};window.PLOTLYENV.BASE_URL=\"https://plot.ly\";Plotly.newPlot(\"c6bb1be9-d988-4347-aa1c-6e195c4f1029\", [{\"type\": \"scatter\", \"x\": [\"0.49978\", \"0.60079\", \"0.7507\", \"0.89899\", \"1.0\"], \"y\": [0.7518, 0.74713, 0.74838, 0.77853, 0.78557], \"mode\": \"lines+markers\", \"name\": \"RaykarDS\", \"xaxis\": \"x1\", \"yaxis\": \"y1\"}, {\"type\": \"scatter\", \"x\": [\"0.49978\", \"0.60079\", \"0.7507\", \"0.89899\", \"1.0\"], \"y\": [0.74905, 0.70077, 0.7512, 0.89857, 0.99945], \"mode\": \"lines+markers\", \"name\": \"RaykarDS_l\", \"xaxis\": \"x1\", \"yaxis\": \"y1\"}, {\"type\": \"scatter\", \"x\": [\"0.49978\", \"0.60079\", \"0.7507\", \"0.89899\", \"1.0\"], \"y\": [0.74905, 0.74905, 0.74905, 0.74905, 0.74905], \"mode\": \"lines+markers\", \"name\": \"DS\", \"xaxis\": \"x1\", \"yaxis\": \"y1\"}, {\"type\": \"scatter\", \"x\": [\"0.49978\", \"0.60079\", \"0.7507\", \"0.89899\", \"1.0\"], \"y\": [0.49968, 0.40477, 0.74772, 0.89787, 0.99945], \"mode\": \"lines+markers\", \"name\": \"Raykar\", \"xaxis\": \"x1\", \"yaxis\": \"y1\"}], {\"xaxis1\": {\"domain\": [0.0, 1.0], \"anchor\": \"y1\"}, \"yaxis1\": {\"domain\": [0.0, 1.0], \"anchor\": \"x1\"}, \"annotations\": [{\"y\": 1.0, \"xref\": \"paper\", \"x\": 0.5, \"yref\": \"paper\", \"text\": \"METHOD generate_AB_points ([0.6, 0.6, 0.6, 0.7, 0.7], [0.6, 0.6, 0.6, 0.7, 0.7])\", \"showarrow\": false, \"font\": {\"size\": 16}, \"xanchor\": \"center\", \"yanchor\": \"bottom\"}]}, {\"showLink\": true, \"linkText\": \"Export to plot.ly\"})});</script>"
      ]
     },
     "metadata": {},
     "output_type": "display_data"
    },
    {
     "name": "stdout",
     "output_type": "stream",
     "text": [
      "This is the format of your plot grid:\n",
      "[ (1,1) x1,y1 ]\n",
      "\n"
     ]
    },
    {
     "data": {
      "application/vnd.plotly.v1+json": {
       "data": [
        {
         "mode": "lines+markers",
         "name": "RaykarDS",
         "type": "scatter",
         "x": [
          "0.49978",
          "0.60079",
          "0.7507",
          "0.89899",
          "1.0"
         ],
         "xaxis": "x1",
         "y": [
          0.83876,
          0.83407,
          0.8358,
          0.84298,
          0.90621
         ],
         "yaxis": "y1"
        },
        {
         "mode": "lines+markers",
         "name": "RaykarDS_l",
         "type": "scatter",
         "x": [
          "0.49978",
          "0.60079",
          "0.7507",
          "0.89899",
          "1.0"
         ],
         "xaxis": "x1",
         "y": [
          0.83876,
          0.74895,
          0.76019,
          0.89885,
          0.99966
         ],
         "yaxis": "y1"
        },
        {
         "mode": "lines+markers",
         "name": "DS",
         "type": "scatter",
         "x": [
          "0.49978",
          "0.60079",
          "0.7507",
          "0.89899",
          "1.0"
         ],
         "xaxis": "x1",
         "y": [
          0.83876,
          0.83876,
          0.83876,
          0.83876,
          0.83876
         ],
         "yaxis": "y1"
        },
        {
         "mode": "lines+markers",
         "name": "Raykar",
         "type": "scatter",
         "x": [
          "0.49978",
          "0.60079",
          "0.7507",
          "0.89899",
          "1.0"
         ],
         "xaxis": "x1",
         "y": [
          0.49834,
          0.40157,
          0.74822,
          0.89789,
          0.99966
         ],
         "yaxis": "y1"
        }
       ],
       "layout": {
        "annotations": [
         {
          "font": {
           "size": 16
          },
          "showarrow": false,
          "text": "METHOD generate_AB_points ([0.6, 0.7, 0.7, 0.7, 0.8], [0.6, 0.7, 0.7, 0.7, 0.8])",
          "x": 0.5,
          "xanchor": "center",
          "xref": "paper",
          "y": 1,
          "yanchor": "bottom",
          "yref": "paper"
         }
        ],
        "xaxis1": {
         "anchor": "y1",
         "domain": [
          0,
          1
         ]
        },
        "yaxis1": {
         "anchor": "x1",
         "domain": [
          0,
          1
         ]
        }
       }
      },
      "text/html": [
       "<div id=\"9fad623c-2791-4780-85c7-df7f1b6b8dab\" style=\"height: 525px; width: 100%;\" class=\"plotly-graph-div\"></div><script type=\"text/javascript\">require([\"plotly\"], function(Plotly) { window.PLOTLYENV=window.PLOTLYENV || {};window.PLOTLYENV.BASE_URL=\"https://plot.ly\";Plotly.newPlot(\"9fad623c-2791-4780-85c7-df7f1b6b8dab\", [{\"type\": \"scatter\", \"x\": [\"0.49978\", \"0.60079\", \"0.7507\", \"0.89899\", \"1.0\"], \"y\": [0.83876, 0.83407, 0.8358, 0.84298, 0.90621], \"mode\": \"lines+markers\", \"name\": \"RaykarDS\", \"xaxis\": \"x1\", \"yaxis\": \"y1\"}, {\"type\": \"scatter\", \"x\": [\"0.49978\", \"0.60079\", \"0.7507\", \"0.89899\", \"1.0\"], \"y\": [0.83876, 0.74895, 0.76019, 0.89885, 0.99966], \"mode\": \"lines+markers\", \"name\": \"RaykarDS_l\", \"xaxis\": \"x1\", \"yaxis\": \"y1\"}, {\"type\": \"scatter\", \"x\": [\"0.49978\", \"0.60079\", \"0.7507\", \"0.89899\", \"1.0\"], \"y\": [0.83876, 0.83876, 0.83876, 0.83876, 0.83876], \"mode\": \"lines+markers\", \"name\": \"DS\", \"xaxis\": \"x1\", \"yaxis\": \"y1\"}, {\"type\": \"scatter\", \"x\": [\"0.49978\", \"0.60079\", \"0.7507\", \"0.89899\", \"1.0\"], \"y\": [0.49834, 0.40157, 0.74822, 0.89789, 0.99966], \"mode\": \"lines+markers\", \"name\": \"Raykar\", \"xaxis\": \"x1\", \"yaxis\": \"y1\"}], {\"xaxis1\": {\"domain\": [0.0, 1.0], \"anchor\": \"y1\"}, \"yaxis1\": {\"domain\": [0.0, 1.0], \"anchor\": \"x1\"}, \"annotations\": [{\"y\": 1.0, \"xref\": \"paper\", \"x\": 0.5, \"yref\": \"paper\", \"text\": \"METHOD generate_AB_points ([0.6, 0.7, 0.7, 0.7, 0.8], [0.6, 0.7, 0.7, 0.7, 0.8])\", \"showarrow\": false, \"font\": {\"size\": 16}, \"xanchor\": \"center\", \"yanchor\": \"bottom\"}]}, {\"showLink\": true, \"linkText\": \"Export to plot.ly\"})});</script>"
      ],
      "text/vnd.plotly.v1+html": [
       "<div id=\"9fad623c-2791-4780-85c7-df7f1b6b8dab\" style=\"height: 525px; width: 100%;\" class=\"plotly-graph-div\"></div><script type=\"text/javascript\">require([\"plotly\"], function(Plotly) { window.PLOTLYENV=window.PLOTLYENV || {};window.PLOTLYENV.BASE_URL=\"https://plot.ly\";Plotly.newPlot(\"9fad623c-2791-4780-85c7-df7f1b6b8dab\", [{\"type\": \"scatter\", \"x\": [\"0.49978\", \"0.60079\", \"0.7507\", \"0.89899\", \"1.0\"], \"y\": [0.83876, 0.83407, 0.8358, 0.84298, 0.90621], \"mode\": \"lines+markers\", \"name\": \"RaykarDS\", \"xaxis\": \"x1\", \"yaxis\": \"y1\"}, {\"type\": \"scatter\", \"x\": [\"0.49978\", \"0.60079\", \"0.7507\", \"0.89899\", \"1.0\"], \"y\": [0.83876, 0.74895, 0.76019, 0.89885, 0.99966], \"mode\": \"lines+markers\", \"name\": \"RaykarDS_l\", \"xaxis\": \"x1\", \"yaxis\": \"y1\"}, {\"type\": \"scatter\", \"x\": [\"0.49978\", \"0.60079\", \"0.7507\", \"0.89899\", \"1.0\"], \"y\": [0.83876, 0.83876, 0.83876, 0.83876, 0.83876], \"mode\": \"lines+markers\", \"name\": \"DS\", \"xaxis\": \"x1\", \"yaxis\": \"y1\"}, {\"type\": \"scatter\", \"x\": [\"0.49978\", \"0.60079\", \"0.7507\", \"0.89899\", \"1.0\"], \"y\": [0.49834, 0.40157, 0.74822, 0.89789, 0.99966], \"mode\": \"lines+markers\", \"name\": \"Raykar\", \"xaxis\": \"x1\", \"yaxis\": \"y1\"}], {\"xaxis1\": {\"domain\": [0.0, 1.0], \"anchor\": \"y1\"}, \"yaxis1\": {\"domain\": [0.0, 1.0], \"anchor\": \"x1\"}, \"annotations\": [{\"y\": 1.0, \"xref\": \"paper\", \"x\": 0.5, \"yref\": \"paper\", \"text\": \"METHOD generate_AB_points ([0.6, 0.7, 0.7, 0.7, 0.8], [0.6, 0.7, 0.7, 0.7, 0.8])\", \"showarrow\": false, \"font\": {\"size\": 16}, \"xanchor\": \"center\", \"yanchor\": \"bottom\"}]}, {\"showLink\": true, \"linkText\": \"Export to plot.ly\"})});</script>"
      ]
     },
     "metadata": {},
     "output_type": "display_data"
    },
    {
     "name": "stdout",
     "output_type": "stream",
     "text": [
      "This is the format of your plot grid:\n",
      "[ (1,1) x1,y1 ]\n",
      "\n"
     ]
    },
    {
     "data": {
      "application/vnd.plotly.v1+json": {
       "data": [
        {
         "mode": "lines+markers",
         "name": "RaykarDS",
         "type": "scatter",
         "x": [
          "0.49978",
          "0.60079",
          "0.7507",
          "0.89899",
          "1.0"
         ],
         "xaxis": "x1",
         "y": [
          0.91812,
          0.90979,
          0.93947,
          0.9624,
          0.98024
         ],
         "yaxis": "y1"
        },
        {
         "mode": "lines+markers",
         "name": "RaykarDS_l",
         "type": "scatter",
         "x": [
          "0.49978",
          "0.60079",
          "0.7507",
          "0.89899",
          "1.0"
         ],
         "xaxis": "x1",
         "y": [
          0.91947,
          0.82278,
          0.7639,
          0.89973,
          0.99989
         ],
         "yaxis": "y1"
        },
        {
         "mode": "lines+markers",
         "name": "DS",
         "type": "scatter",
         "x": [
          "0.49978",
          "0.60079",
          "0.7507",
          "0.89899",
          "1.0"
         ],
         "xaxis": "x1",
         "y": [
          0.91969,
          0.92033,
          0.92027,
          0.91879,
          0.91943
         ],
         "yaxis": "y1"
        },
        {
         "mode": "lines+markers",
         "name": "Raykar",
         "type": "scatter",
         "x": [
          "0.49978",
          "0.60079",
          "0.7507",
          "0.89899",
          "1.0"
         ],
         "xaxis": "x1",
         "y": [
          0.50198,
          0.5988,
          0.74878,
          0.89797,
          0.99989
         ],
         "yaxis": "y1"
        }
       ],
       "layout": {
        "annotations": [
         {
          "font": {
           "size": 16
          },
          "showarrow": false,
          "text": "METHOD generate_AB_points ([0.6, 0.7, 0.7, 0.8, 0.9, 0.9], [0.6, 0.7, 0.7, 0.8, 0.9, 0.9])",
          "x": 0.5,
          "xanchor": "center",
          "xref": "paper",
          "y": 1,
          "yanchor": "bottom",
          "yref": "paper"
         }
        ],
        "xaxis1": {
         "anchor": "y1",
         "domain": [
          0,
          1
         ]
        },
        "yaxis1": {
         "anchor": "x1",
         "domain": [
          0,
          1
         ]
        }
       }
      },
      "text/html": [
       "<div id=\"33709fdd-8a87-42ca-944e-a5e26731f26e\" style=\"height: 525px; width: 100%;\" class=\"plotly-graph-div\"></div><script type=\"text/javascript\">require([\"plotly\"], function(Plotly) { window.PLOTLYENV=window.PLOTLYENV || {};window.PLOTLYENV.BASE_URL=\"https://plot.ly\";Plotly.newPlot(\"33709fdd-8a87-42ca-944e-a5e26731f26e\", [{\"type\": \"scatter\", \"x\": [\"0.49978\", \"0.60079\", \"0.7507\", \"0.89899\", \"1.0\"], \"y\": [0.91812, 0.90979, 0.93947, 0.9624, 0.98024], \"mode\": \"lines+markers\", \"name\": \"RaykarDS\", \"xaxis\": \"x1\", \"yaxis\": \"y1\"}, {\"type\": \"scatter\", \"x\": [\"0.49978\", \"0.60079\", \"0.7507\", \"0.89899\", \"1.0\"], \"y\": [0.91947, 0.82278, 0.7639, 0.89973, 0.99989], \"mode\": \"lines+markers\", \"name\": \"RaykarDS_l\", \"xaxis\": \"x1\", \"yaxis\": \"y1\"}, {\"type\": \"scatter\", \"x\": [\"0.49978\", \"0.60079\", \"0.7507\", \"0.89899\", \"1.0\"], \"y\": [0.91969, 0.92033, 0.92027, 0.91879, 0.91943], \"mode\": \"lines+markers\", \"name\": \"DS\", \"xaxis\": \"x1\", \"yaxis\": \"y1\"}, {\"type\": \"scatter\", \"x\": [\"0.49978\", \"0.60079\", \"0.7507\", \"0.89899\", \"1.0\"], \"y\": [0.50198, 0.5988, 0.74878, 0.89797, 0.99989], \"mode\": \"lines+markers\", \"name\": \"Raykar\", \"xaxis\": \"x1\", \"yaxis\": \"y1\"}], {\"xaxis1\": {\"domain\": [0.0, 1.0], \"anchor\": \"y1\"}, \"yaxis1\": {\"domain\": [0.0, 1.0], \"anchor\": \"x1\"}, \"annotations\": [{\"y\": 1.0, \"xref\": \"paper\", \"x\": 0.5, \"yref\": \"paper\", \"text\": \"METHOD generate_AB_points ([0.6, 0.7, 0.7, 0.8, 0.9, 0.9], [0.6, 0.7, 0.7, 0.8, 0.9, 0.9])\", \"showarrow\": false, \"font\": {\"size\": 16}, \"xanchor\": \"center\", \"yanchor\": \"bottom\"}]}, {\"showLink\": true, \"linkText\": \"Export to plot.ly\"})});</script>"
      ],
      "text/vnd.plotly.v1+html": [
       "<div id=\"33709fdd-8a87-42ca-944e-a5e26731f26e\" style=\"height: 525px; width: 100%;\" class=\"plotly-graph-div\"></div><script type=\"text/javascript\">require([\"plotly\"], function(Plotly) { window.PLOTLYENV=window.PLOTLYENV || {};window.PLOTLYENV.BASE_URL=\"https://plot.ly\";Plotly.newPlot(\"33709fdd-8a87-42ca-944e-a5e26731f26e\", [{\"type\": \"scatter\", \"x\": [\"0.49978\", \"0.60079\", \"0.7507\", \"0.89899\", \"1.0\"], \"y\": [0.91812, 0.90979, 0.93947, 0.9624, 0.98024], \"mode\": \"lines+markers\", \"name\": \"RaykarDS\", \"xaxis\": \"x1\", \"yaxis\": \"y1\"}, {\"type\": \"scatter\", \"x\": [\"0.49978\", \"0.60079\", \"0.7507\", \"0.89899\", \"1.0\"], \"y\": [0.91947, 0.82278, 0.7639, 0.89973, 0.99989], \"mode\": \"lines+markers\", \"name\": \"RaykarDS_l\", \"xaxis\": \"x1\", \"yaxis\": \"y1\"}, {\"type\": \"scatter\", \"x\": [\"0.49978\", \"0.60079\", \"0.7507\", \"0.89899\", \"1.0\"], \"y\": [0.91969, 0.92033, 0.92027, 0.91879, 0.91943], \"mode\": \"lines+markers\", \"name\": \"DS\", \"xaxis\": \"x1\", \"yaxis\": \"y1\"}, {\"type\": \"scatter\", \"x\": [\"0.49978\", \"0.60079\", \"0.7507\", \"0.89899\", \"1.0\"], \"y\": [0.50198, 0.5988, 0.74878, 0.89797, 0.99989], \"mode\": \"lines+markers\", \"name\": \"Raykar\", \"xaxis\": \"x1\", \"yaxis\": \"y1\"}], {\"xaxis1\": {\"domain\": [0.0, 1.0], \"anchor\": \"y1\"}, \"yaxis1\": {\"domain\": [0.0, 1.0], \"anchor\": \"x1\"}, \"annotations\": [{\"y\": 1.0, \"xref\": \"paper\", \"x\": 0.5, \"yref\": \"paper\", \"text\": \"METHOD generate_AB_points ([0.6, 0.7, 0.7, 0.8, 0.9, 0.9], [0.6, 0.7, 0.7, 0.8, 0.9, 0.9])\", \"showarrow\": false, \"font\": {\"size\": 16}, \"xanchor\": \"center\", \"yanchor\": \"bottom\"}]}, {\"showLink\": true, \"linkText\": \"Export to plot.ly\"})});</script>"
      ]
     },
     "metadata": {},
     "output_type": "display_data"
    },
    {
     "name": "stdout",
     "output_type": "stream",
     "text": [
      "This is the format of your plot grid:\n",
      "[ (1,1) x1,y1 ]\n",
      "\n"
     ]
    },
    {
     "data": {
      "application/vnd.plotly.v1+json": {
       "data": [
        {
         "mode": "lines+markers",
         "name": "RaykarDS",
         "type": "scatter",
         "x": [
          "0.49978",
          "0.60079",
          "0.7507",
          "0.89899",
          "1.0"
         ],
         "xaxis": "x1",
         "y": [
          0.89446,
          0.90262,
          0.9197,
          0.93864,
          0.95248
         ],
         "yaxis": "y1"
        },
        {
         "mode": "lines+markers",
         "name": "RaykarDS_l",
         "type": "scatter",
         "x": [
          "0.49978",
          "0.60079",
          "0.7507",
          "0.89899",
          "1.0"
         ],
         "xaxis": "x1",
         "y": [
          0.89185,
          0.78425,
          0.76159,
          0.89943,
          0.99974
         ],
         "yaxis": "y1"
        },
        {
         "mode": "lines+markers",
         "name": "DS",
         "type": "scatter",
         "x": [
          "0.49978",
          "0.60079",
          "0.7507",
          "0.89899",
          "1.0"
         ],
         "xaxis": "x1",
         "y": [
          0.89185,
          0.89185,
          0.89185,
          0.89185,
          0.89185
         ],
         "yaxis": "y1"
        },
        {
         "mode": "lines+markers",
         "name": "Raykar",
         "type": "scatter",
         "x": [
          "0.49978",
          "0.60079",
          "0.7507",
          "0.89899",
          "1.0"
         ],
         "xaxis": "x1",
         "y": [
          0.4989,
          0.40198,
          0.2512,
          0.89798,
          0.99974
         ],
         "yaxis": "y1"
        }
       ],
       "layout": {
        "annotations": [
         {
          "font": {
           "size": 16
          },
          "showarrow": false,
          "text": "METHOD generate_AB_points ([0.6, 0.7, 0.7, 0.8, 0.9], [0.6, 0.7, 0.7, 0.8, 0.9])",
          "x": 0.5,
          "xanchor": "center",
          "xref": "paper",
          "y": 1,
          "yanchor": "bottom",
          "yref": "paper"
         }
        ],
        "xaxis1": {
         "anchor": "y1",
         "domain": [
          0,
          1
         ]
        },
        "yaxis1": {
         "anchor": "x1",
         "domain": [
          0,
          1
         ]
        }
       }
      },
      "text/html": [
       "<div id=\"1672cfdb-973e-4033-a6ef-a28d75ed05fd\" style=\"height: 525px; width: 100%;\" class=\"plotly-graph-div\"></div><script type=\"text/javascript\">require([\"plotly\"], function(Plotly) { window.PLOTLYENV=window.PLOTLYENV || {};window.PLOTLYENV.BASE_URL=\"https://plot.ly\";Plotly.newPlot(\"1672cfdb-973e-4033-a6ef-a28d75ed05fd\", [{\"type\": \"scatter\", \"x\": [\"0.49978\", \"0.60079\", \"0.7507\", \"0.89899\", \"1.0\"], \"y\": [0.89446, 0.90262, 0.9197, 0.93864, 0.95248], \"mode\": \"lines+markers\", \"name\": \"RaykarDS\", \"xaxis\": \"x1\", \"yaxis\": \"y1\"}, {\"type\": \"scatter\", \"x\": [\"0.49978\", \"0.60079\", \"0.7507\", \"0.89899\", \"1.0\"], \"y\": [0.89185, 0.78425, 0.76159, 0.89943, 0.99974], \"mode\": \"lines+markers\", \"name\": \"RaykarDS_l\", \"xaxis\": \"x1\", \"yaxis\": \"y1\"}, {\"type\": \"scatter\", \"x\": [\"0.49978\", \"0.60079\", \"0.7507\", \"0.89899\", \"1.0\"], \"y\": [0.89185, 0.89185, 0.89185, 0.89185, 0.89185], \"mode\": \"lines+markers\", \"name\": \"DS\", \"xaxis\": \"x1\", \"yaxis\": \"y1\"}, {\"type\": \"scatter\", \"x\": [\"0.49978\", \"0.60079\", \"0.7507\", \"0.89899\", \"1.0\"], \"y\": [0.4989, 0.40198, 0.2512, 0.89798, 0.99974], \"mode\": \"lines+markers\", \"name\": \"Raykar\", \"xaxis\": \"x1\", \"yaxis\": \"y1\"}], {\"xaxis1\": {\"domain\": [0.0, 1.0], \"anchor\": \"y1\"}, \"yaxis1\": {\"domain\": [0.0, 1.0], \"anchor\": \"x1\"}, \"annotations\": [{\"y\": 1.0, \"xref\": \"paper\", \"x\": 0.5, \"yref\": \"paper\", \"text\": \"METHOD generate_AB_points ([0.6, 0.7, 0.7, 0.8, 0.9], [0.6, 0.7, 0.7, 0.8, 0.9])\", \"showarrow\": false, \"font\": {\"size\": 16}, \"xanchor\": \"center\", \"yanchor\": \"bottom\"}]}, {\"showLink\": true, \"linkText\": \"Export to plot.ly\"})});</script>"
      ],
      "text/vnd.plotly.v1+html": [
       "<div id=\"1672cfdb-973e-4033-a6ef-a28d75ed05fd\" style=\"height: 525px; width: 100%;\" class=\"plotly-graph-div\"></div><script type=\"text/javascript\">require([\"plotly\"], function(Plotly) { window.PLOTLYENV=window.PLOTLYENV || {};window.PLOTLYENV.BASE_URL=\"https://plot.ly\";Plotly.newPlot(\"1672cfdb-973e-4033-a6ef-a28d75ed05fd\", [{\"type\": \"scatter\", \"x\": [\"0.49978\", \"0.60079\", \"0.7507\", \"0.89899\", \"1.0\"], \"y\": [0.89446, 0.90262, 0.9197, 0.93864, 0.95248], \"mode\": \"lines+markers\", \"name\": \"RaykarDS\", \"xaxis\": \"x1\", \"yaxis\": \"y1\"}, {\"type\": \"scatter\", \"x\": [\"0.49978\", \"0.60079\", \"0.7507\", \"0.89899\", \"1.0\"], \"y\": [0.89185, 0.78425, 0.76159, 0.89943, 0.99974], \"mode\": \"lines+markers\", \"name\": \"RaykarDS_l\", \"xaxis\": \"x1\", \"yaxis\": \"y1\"}, {\"type\": \"scatter\", \"x\": [\"0.49978\", \"0.60079\", \"0.7507\", \"0.89899\", \"1.0\"], \"y\": [0.89185, 0.89185, 0.89185, 0.89185, 0.89185], \"mode\": \"lines+markers\", \"name\": \"DS\", \"xaxis\": \"x1\", \"yaxis\": \"y1\"}, {\"type\": \"scatter\", \"x\": [\"0.49978\", \"0.60079\", \"0.7507\", \"0.89899\", \"1.0\"], \"y\": [0.4989, 0.40198, 0.2512, 0.89798, 0.99974], \"mode\": \"lines+markers\", \"name\": \"Raykar\", \"xaxis\": \"x1\", \"yaxis\": \"y1\"}], {\"xaxis1\": {\"domain\": [0.0, 1.0], \"anchor\": \"y1\"}, \"yaxis1\": {\"domain\": [0.0, 1.0], \"anchor\": \"x1\"}, \"annotations\": [{\"y\": 1.0, \"xref\": \"paper\", \"x\": 0.5, \"yref\": \"paper\", \"text\": \"METHOD generate_AB_points ([0.6, 0.7, 0.7, 0.8, 0.9], [0.6, 0.7, 0.7, 0.8, 0.9])\", \"showarrow\": false, \"font\": {\"size\": 16}, \"xanchor\": \"center\", \"yanchor\": \"bottom\"}]}, {\"showLink\": true, \"linkText\": \"Export to plot.ly\"})});</script>"
      ]
     },
     "metadata": {},
     "output_type": "display_data"
    },
    {
     "name": "stdout",
     "output_type": "stream",
     "text": [
      "This is the format of your plot grid:\n",
      "[ (1,1) x1,y1 ]\n",
      "\n"
     ]
    },
    {
     "data": {
      "application/vnd.plotly.v1+json": {
       "data": [
        {
         "mode": "lines+markers",
         "name": "RaykarDS",
         "type": "scatter",
         "x": [
          "0",
          "0.2",
          "0.5",
          "0.8",
          "1"
         ],
         "xaxis": "x1",
         "y": [
          0.78324,
          0.76873,
          0.75111,
          0.76868,
          0.78454
         ],
         "yaxis": "y1"
        },
        {
         "mode": "lines+markers",
         "name": "RaykarDS_l",
         "type": "scatter",
         "x": [
          "0",
          "0.2",
          "0.5",
          "0.8",
          "1"
         ],
         "xaxis": "x1",
         "y": [
          0.74824,
          0.80228,
          0.74824,
          0.79914,
          0.99937
         ],
         "yaxis": "y1"
        },
        {
         "mode": "lines+markers",
         "name": "DS",
         "type": "scatter",
         "x": [
          "0",
          "0.2",
          "0.5",
          "0.8",
          "1"
         ],
         "xaxis": "x1",
         "y": [
          0.74824,
          0.74824,
          0.74824,
          0.74824,
          0.74824
         ],
         "yaxis": "y1"
        },
        {
         "mode": "lines+markers",
         "name": "Raykar",
         "type": "scatter",
         "x": [
          "0",
          "0.2",
          "0.5",
          "0.8",
          "1"
         ],
         "xaxis": "x1",
         "y": [
          0.00063,
          0.42513,
          0.50053,
          0.57487,
          0.99937
         ],
         "yaxis": "y1"
        }
       ],
       "layout": {
        "annotations": [
         {
          "font": {
           "size": 16
          },
          "showarrow": false,
          "text": "METHOD generate_points ([0.6, 0.6, 0.6, 0.7, 0.7], [0.6, 0.6, 0.6, 0.7, 0.7])",
          "x": 0.5,
          "xanchor": "center",
          "xref": "paper",
          "y": 1,
          "yanchor": "bottom",
          "yref": "paper"
         }
        ],
        "xaxis1": {
         "anchor": "y1",
         "domain": [
          0,
          1
         ]
        },
        "yaxis1": {
         "anchor": "x1",
         "domain": [
          0,
          1
         ]
        }
       }
      },
      "text/html": [
       "<div id=\"14403a60-2b34-4933-8152-ccb907525e28\" style=\"height: 525px; width: 100%;\" class=\"plotly-graph-div\"></div><script type=\"text/javascript\">require([\"plotly\"], function(Plotly) { window.PLOTLYENV=window.PLOTLYENV || {};window.PLOTLYENV.BASE_URL=\"https://plot.ly\";Plotly.newPlot(\"14403a60-2b34-4933-8152-ccb907525e28\", [{\"type\": \"scatter\", \"x\": [\"0\", \"0.2\", \"0.5\", \"0.8\", \"1\"], \"y\": [0.78324, 0.76873, 0.75111, 0.76868, 0.78454], \"mode\": \"lines+markers\", \"name\": \"RaykarDS\", \"xaxis\": \"x1\", \"yaxis\": \"y1\"}, {\"type\": \"scatter\", \"x\": [\"0\", \"0.2\", \"0.5\", \"0.8\", \"1\"], \"y\": [0.74824, 0.80228, 0.74824, 0.79914, 0.99937], \"mode\": \"lines+markers\", \"name\": \"RaykarDS_l\", \"xaxis\": \"x1\", \"yaxis\": \"y1\"}, {\"type\": \"scatter\", \"x\": [\"0\", \"0.2\", \"0.5\", \"0.8\", \"1\"], \"y\": [0.74824, 0.74824, 0.74824, 0.74824, 0.74824], \"mode\": \"lines+markers\", \"name\": \"DS\", \"xaxis\": \"x1\", \"yaxis\": \"y1\"}, {\"type\": \"scatter\", \"x\": [\"0\", \"0.2\", \"0.5\", \"0.8\", \"1\"], \"y\": [0.00063, 0.42513, 0.50053, 0.57487, 0.99937], \"mode\": \"lines+markers\", \"name\": \"Raykar\", \"xaxis\": \"x1\", \"yaxis\": \"y1\"}], {\"xaxis1\": {\"domain\": [0.0, 1.0], \"anchor\": \"y1\"}, \"yaxis1\": {\"domain\": [0.0, 1.0], \"anchor\": \"x1\"}, \"annotations\": [{\"y\": 1.0, \"xref\": \"paper\", \"x\": 0.5, \"yref\": \"paper\", \"text\": \"METHOD generate_points ([0.6, 0.6, 0.6, 0.7, 0.7], [0.6, 0.6, 0.6, 0.7, 0.7])\", \"showarrow\": false, \"font\": {\"size\": 16}, \"xanchor\": \"center\", \"yanchor\": \"bottom\"}]}, {\"showLink\": true, \"linkText\": \"Export to plot.ly\"})});</script>"
      ],
      "text/vnd.plotly.v1+html": [
       "<div id=\"14403a60-2b34-4933-8152-ccb907525e28\" style=\"height: 525px; width: 100%;\" class=\"plotly-graph-div\"></div><script type=\"text/javascript\">require([\"plotly\"], function(Plotly) { window.PLOTLYENV=window.PLOTLYENV || {};window.PLOTLYENV.BASE_URL=\"https://plot.ly\";Plotly.newPlot(\"14403a60-2b34-4933-8152-ccb907525e28\", [{\"type\": \"scatter\", \"x\": [\"0\", \"0.2\", \"0.5\", \"0.8\", \"1\"], \"y\": [0.78324, 0.76873, 0.75111, 0.76868, 0.78454], \"mode\": \"lines+markers\", \"name\": \"RaykarDS\", \"xaxis\": \"x1\", \"yaxis\": \"y1\"}, {\"type\": \"scatter\", \"x\": [\"0\", \"0.2\", \"0.5\", \"0.8\", \"1\"], \"y\": [0.74824, 0.80228, 0.74824, 0.79914, 0.99937], \"mode\": \"lines+markers\", \"name\": \"RaykarDS_l\", \"xaxis\": \"x1\", \"yaxis\": \"y1\"}, {\"type\": \"scatter\", \"x\": [\"0\", \"0.2\", \"0.5\", \"0.8\", \"1\"], \"y\": [0.74824, 0.74824, 0.74824, 0.74824, 0.74824], \"mode\": \"lines+markers\", \"name\": \"DS\", \"xaxis\": \"x1\", \"yaxis\": \"y1\"}, {\"type\": \"scatter\", \"x\": [\"0\", \"0.2\", \"0.5\", \"0.8\", \"1\"], \"y\": [0.00063, 0.42513, 0.50053, 0.57487, 0.99937], \"mode\": \"lines+markers\", \"name\": \"Raykar\", \"xaxis\": \"x1\", \"yaxis\": \"y1\"}], {\"xaxis1\": {\"domain\": [0.0, 1.0], \"anchor\": \"y1\"}, \"yaxis1\": {\"domain\": [0.0, 1.0], \"anchor\": \"x1\"}, \"annotations\": [{\"y\": 1.0, \"xref\": \"paper\", \"x\": 0.5, \"yref\": \"paper\", \"text\": \"METHOD generate_points ([0.6, 0.6, 0.6, 0.7, 0.7], [0.6, 0.6, 0.6, 0.7, 0.7])\", \"showarrow\": false, \"font\": {\"size\": 16}, \"xanchor\": \"center\", \"yanchor\": \"bottom\"}]}, {\"showLink\": true, \"linkText\": \"Export to plot.ly\"})});</script>"
      ]
     },
     "metadata": {},
     "output_type": "display_data"
    },
    {
     "name": "stdout",
     "output_type": "stream",
     "text": [
      "This is the format of your plot grid:\n",
      "[ (1,1) x1,y1 ]\n",
      "\n"
     ]
    },
    {
     "data": {
      "application/vnd.plotly.v1+json": {
       "data": [
        {
         "mode": "lines+markers",
         "name": "RaykarDS",
         "type": "scatter",
         "x": [
          "0",
          "0.2",
          "0.5",
          "0.8",
          "1"
         ],
         "xaxis": "x1",
         "y": [
          0.85699,
          0.83663,
          0.83815,
          0.83706,
          0.84641
         ],
         "yaxis": "y1"
        },
        {
         "mode": "lines+markers",
         "name": "RaykarDS_l",
         "type": "scatter",
         "x": [
          "0",
          "0.2",
          "0.5",
          "0.8",
          "1"
         ],
         "xaxis": "x1",
         "y": [
          0.83815,
          0.86679,
          0.83815,
          0.80314,
          0.99961
         ],
         "yaxis": "y1"
        },
        {
         "mode": "lines+markers",
         "name": "DS",
         "type": "scatter",
         "x": [
          "0",
          "0.2",
          "0.5",
          "0.8",
          "1"
         ],
         "xaxis": "x1",
         "y": [
          0.83815,
          0.83815,
          0.83815,
          0.83815,
          0.83815
         ],
         "yaxis": "y1"
        },
        {
         "mode": "lines+markers",
         "name": "Raykar",
         "type": "scatter",
         "x": [
          "0",
          "0.2",
          "0.5",
          "0.8",
          "1"
         ],
         "xaxis": "x1",
         "y": [
          0.00039,
          0.20408,
          0.49934,
          0.79592,
          0.99961
         ],
         "yaxis": "y1"
        }
       ],
       "layout": {
        "annotations": [
         {
          "font": {
           "size": 16
          },
          "showarrow": false,
          "text": "METHOD generate_points ([0.6, 0.7, 0.7, 0.7, 0.8], [0.6, 0.7, 0.7, 0.7, 0.8])",
          "x": 0.5,
          "xanchor": "center",
          "xref": "paper",
          "y": 1,
          "yanchor": "bottom",
          "yref": "paper"
         }
        ],
        "xaxis1": {
         "anchor": "y1",
         "domain": [
          0,
          1
         ]
        },
        "yaxis1": {
         "anchor": "x1",
         "domain": [
          0,
          1
         ]
        }
       }
      },
      "text/html": [
       "<div id=\"2a20e338-dc50-403c-b791-4f152694d3a7\" style=\"height: 525px; width: 100%;\" class=\"plotly-graph-div\"></div><script type=\"text/javascript\">require([\"plotly\"], function(Plotly) { window.PLOTLYENV=window.PLOTLYENV || {};window.PLOTLYENV.BASE_URL=\"https://plot.ly\";Plotly.newPlot(\"2a20e338-dc50-403c-b791-4f152694d3a7\", [{\"type\": \"scatter\", \"x\": [\"0\", \"0.2\", \"0.5\", \"0.8\", \"1\"], \"y\": [0.85699, 0.83663, 0.83815, 0.83706, 0.84641], \"mode\": \"lines+markers\", \"name\": \"RaykarDS\", \"xaxis\": \"x1\", \"yaxis\": \"y1\"}, {\"type\": \"scatter\", \"x\": [\"0\", \"0.2\", \"0.5\", \"0.8\", \"1\"], \"y\": [0.83815, 0.86679, 0.83815, 0.80314, 0.99961], \"mode\": \"lines+markers\", \"name\": \"RaykarDS_l\", \"xaxis\": \"x1\", \"yaxis\": \"y1\"}, {\"type\": \"scatter\", \"x\": [\"0\", \"0.2\", \"0.5\", \"0.8\", \"1\"], \"y\": [0.83815, 0.83815, 0.83815, 0.83815, 0.83815], \"mode\": \"lines+markers\", \"name\": \"DS\", \"xaxis\": \"x1\", \"yaxis\": \"y1\"}, {\"type\": \"scatter\", \"x\": [\"0\", \"0.2\", \"0.5\", \"0.8\", \"1\"], \"y\": [0.00039, 0.20408, 0.49934, 0.79592, 0.99961], \"mode\": \"lines+markers\", \"name\": \"Raykar\", \"xaxis\": \"x1\", \"yaxis\": \"y1\"}], {\"xaxis1\": {\"domain\": [0.0, 1.0], \"anchor\": \"y1\"}, \"yaxis1\": {\"domain\": [0.0, 1.0], \"anchor\": \"x1\"}, \"annotations\": [{\"y\": 1.0, \"xref\": \"paper\", \"x\": 0.5, \"yref\": \"paper\", \"text\": \"METHOD generate_points ([0.6, 0.7, 0.7, 0.7, 0.8], [0.6, 0.7, 0.7, 0.7, 0.8])\", \"showarrow\": false, \"font\": {\"size\": 16}, \"xanchor\": \"center\", \"yanchor\": \"bottom\"}]}, {\"showLink\": true, \"linkText\": \"Export to plot.ly\"})});</script>"
      ],
      "text/vnd.plotly.v1+html": [
       "<div id=\"2a20e338-dc50-403c-b791-4f152694d3a7\" style=\"height: 525px; width: 100%;\" class=\"plotly-graph-div\"></div><script type=\"text/javascript\">require([\"plotly\"], function(Plotly) { window.PLOTLYENV=window.PLOTLYENV || {};window.PLOTLYENV.BASE_URL=\"https://plot.ly\";Plotly.newPlot(\"2a20e338-dc50-403c-b791-4f152694d3a7\", [{\"type\": \"scatter\", \"x\": [\"0\", \"0.2\", \"0.5\", \"0.8\", \"1\"], \"y\": [0.85699, 0.83663, 0.83815, 0.83706, 0.84641], \"mode\": \"lines+markers\", \"name\": \"RaykarDS\", \"xaxis\": \"x1\", \"yaxis\": \"y1\"}, {\"type\": \"scatter\", \"x\": [\"0\", \"0.2\", \"0.5\", \"0.8\", \"1\"], \"y\": [0.83815, 0.86679, 0.83815, 0.80314, 0.99961], \"mode\": \"lines+markers\", \"name\": \"RaykarDS_l\", \"xaxis\": \"x1\", \"yaxis\": \"y1\"}, {\"type\": \"scatter\", \"x\": [\"0\", \"0.2\", \"0.5\", \"0.8\", \"1\"], \"y\": [0.83815, 0.83815, 0.83815, 0.83815, 0.83815], \"mode\": \"lines+markers\", \"name\": \"DS\", \"xaxis\": \"x1\", \"yaxis\": \"y1\"}, {\"type\": \"scatter\", \"x\": [\"0\", \"0.2\", \"0.5\", \"0.8\", \"1\"], \"y\": [0.00039, 0.20408, 0.49934, 0.79592, 0.99961], \"mode\": \"lines+markers\", \"name\": \"Raykar\", \"xaxis\": \"x1\", \"yaxis\": \"y1\"}], {\"xaxis1\": {\"domain\": [0.0, 1.0], \"anchor\": \"y1\"}, \"yaxis1\": {\"domain\": [0.0, 1.0], \"anchor\": \"x1\"}, \"annotations\": [{\"y\": 1.0, \"xref\": \"paper\", \"x\": 0.5, \"yref\": \"paper\", \"text\": \"METHOD generate_points ([0.6, 0.7, 0.7, 0.7, 0.8], [0.6, 0.7, 0.7, 0.7, 0.8])\", \"showarrow\": false, \"font\": {\"size\": 16}, \"xanchor\": \"center\", \"yanchor\": \"bottom\"}]}, {\"showLink\": true, \"linkText\": \"Export to plot.ly\"})});</script>"
      ]
     },
     "metadata": {},
     "output_type": "display_data"
    },
    {
     "name": "stdout",
     "output_type": "stream",
     "text": [
      "This is the format of your plot grid:\n",
      "[ (1,1) x1,y1 ]\n",
      "\n"
     ]
    },
    {
     "data": {
      "application/vnd.plotly.v1+json": {
       "data": [
        {
         "mode": "lines+markers",
         "name": "RaykarDS",
         "type": "scatter",
         "x": [
          "0",
          "0.2",
          "0.5",
          "0.8",
          "1"
         ],
         "xaxis": "x1",
         "y": [
          0.98021,
          0.9528,
          0.9297,
          0.94494,
          0.9811
         ],
         "yaxis": "y1"
        },
        {
         "mode": "lines+markers",
         "name": "RaykarDS_l",
         "type": "scatter",
         "x": [
          "0",
          "0.2",
          "0.5",
          "0.8",
          "1"
         ],
         "xaxis": "x1",
         "y": [
          0.92021,
          0.95323,
          0.92042,
          0.8048,
          0.99984
         ],
         "yaxis": "y1"
        },
        {
         "mode": "lines+markers",
         "name": "DS",
         "type": "scatter",
         "x": [
          "0",
          "0.2",
          "0.5",
          "0.8",
          "1"
         ],
         "xaxis": "x1",
         "y": [
          0.92021,
          0.91999,
          0.92035,
          0.92028,
          0.92006
         ],
         "yaxis": "y1"
        },
        {
         "mode": "lines+markers",
         "name": "Raykar",
         "type": "scatter",
         "x": [
          "0",
          "0.2",
          "0.5",
          "0.8",
          "1"
         ],
         "xaxis": "x1",
         "y": [
          0.00016,
          0.20257,
          0.49896,
          0.79743,
          0.99984
         ],
         "yaxis": "y1"
        }
       ],
       "layout": {
        "annotations": [
         {
          "font": {
           "size": 16
          },
          "showarrow": false,
          "text": "METHOD generate_points ([0.6, 0.7, 0.7, 0.8, 0.9, 0.9], [0.6, 0.7, 0.7, 0.8, 0.9, 0.9])",
          "x": 0.5,
          "xanchor": "center",
          "xref": "paper",
          "y": 1,
          "yanchor": "bottom",
          "yref": "paper"
         }
        ],
        "xaxis1": {
         "anchor": "y1",
         "domain": [
          0,
          1
         ]
        },
        "yaxis1": {
         "anchor": "x1",
         "domain": [
          0,
          1
         ]
        }
       }
      },
      "text/html": [
       "<div id=\"56e09bf4-9b2e-4b12-8b8e-f214f3ceea0f\" style=\"height: 525px; width: 100%;\" class=\"plotly-graph-div\"></div><script type=\"text/javascript\">require([\"plotly\"], function(Plotly) { window.PLOTLYENV=window.PLOTLYENV || {};window.PLOTLYENV.BASE_URL=\"https://plot.ly\";Plotly.newPlot(\"56e09bf4-9b2e-4b12-8b8e-f214f3ceea0f\", [{\"type\": \"scatter\", \"x\": [\"0\", \"0.2\", \"0.5\", \"0.8\", \"1\"], \"y\": [0.98021, 0.9528, 0.9297, 0.94494, 0.9811], \"mode\": \"lines+markers\", \"name\": \"RaykarDS\", \"xaxis\": \"x1\", \"yaxis\": \"y1\"}, {\"type\": \"scatter\", \"x\": [\"0\", \"0.2\", \"0.5\", \"0.8\", \"1\"], \"y\": [0.92021, 0.95323, 0.92042, 0.8048, 0.99984], \"mode\": \"lines+markers\", \"name\": \"RaykarDS_l\", \"xaxis\": \"x1\", \"yaxis\": \"y1\"}, {\"type\": \"scatter\", \"x\": [\"0\", \"0.2\", \"0.5\", \"0.8\", \"1\"], \"y\": [0.92021, 0.91999, 0.92035, 0.92028, 0.92006], \"mode\": \"lines+markers\", \"name\": \"DS\", \"xaxis\": \"x1\", \"yaxis\": \"y1\"}, {\"type\": \"scatter\", \"x\": [\"0\", \"0.2\", \"0.5\", \"0.8\", \"1\"], \"y\": [0.00016, 0.20257, 0.49896, 0.79743, 0.99984], \"mode\": \"lines+markers\", \"name\": \"Raykar\", \"xaxis\": \"x1\", \"yaxis\": \"y1\"}], {\"xaxis1\": {\"domain\": [0.0, 1.0], \"anchor\": \"y1\"}, \"yaxis1\": {\"domain\": [0.0, 1.0], \"anchor\": \"x1\"}, \"annotations\": [{\"y\": 1.0, \"xref\": \"paper\", \"x\": 0.5, \"yref\": \"paper\", \"text\": \"METHOD generate_points ([0.6, 0.7, 0.7, 0.8, 0.9, 0.9], [0.6, 0.7, 0.7, 0.8, 0.9, 0.9])\", \"showarrow\": false, \"font\": {\"size\": 16}, \"xanchor\": \"center\", \"yanchor\": \"bottom\"}]}, {\"showLink\": true, \"linkText\": \"Export to plot.ly\"})});</script>"
      ],
      "text/vnd.plotly.v1+html": [
       "<div id=\"56e09bf4-9b2e-4b12-8b8e-f214f3ceea0f\" style=\"height: 525px; width: 100%;\" class=\"plotly-graph-div\"></div><script type=\"text/javascript\">require([\"plotly\"], function(Plotly) { window.PLOTLYENV=window.PLOTLYENV || {};window.PLOTLYENV.BASE_URL=\"https://plot.ly\";Plotly.newPlot(\"56e09bf4-9b2e-4b12-8b8e-f214f3ceea0f\", [{\"type\": \"scatter\", \"x\": [\"0\", \"0.2\", \"0.5\", \"0.8\", \"1\"], \"y\": [0.98021, 0.9528, 0.9297, 0.94494, 0.9811], \"mode\": \"lines+markers\", \"name\": \"RaykarDS\", \"xaxis\": \"x1\", \"yaxis\": \"y1\"}, {\"type\": \"scatter\", \"x\": [\"0\", \"0.2\", \"0.5\", \"0.8\", \"1\"], \"y\": [0.92021, 0.95323, 0.92042, 0.8048, 0.99984], \"mode\": \"lines+markers\", \"name\": \"RaykarDS_l\", \"xaxis\": \"x1\", \"yaxis\": \"y1\"}, {\"type\": \"scatter\", \"x\": [\"0\", \"0.2\", \"0.5\", \"0.8\", \"1\"], \"y\": [0.92021, 0.91999, 0.92035, 0.92028, 0.92006], \"mode\": \"lines+markers\", \"name\": \"DS\", \"xaxis\": \"x1\", \"yaxis\": \"y1\"}, {\"type\": \"scatter\", \"x\": [\"0\", \"0.2\", \"0.5\", \"0.8\", \"1\"], \"y\": [0.00016, 0.20257, 0.49896, 0.79743, 0.99984], \"mode\": \"lines+markers\", \"name\": \"Raykar\", \"xaxis\": \"x1\", \"yaxis\": \"y1\"}], {\"xaxis1\": {\"domain\": [0.0, 1.0], \"anchor\": \"y1\"}, \"yaxis1\": {\"domain\": [0.0, 1.0], \"anchor\": \"x1\"}, \"annotations\": [{\"y\": 1.0, \"xref\": \"paper\", \"x\": 0.5, \"yref\": \"paper\", \"text\": \"METHOD generate_points ([0.6, 0.7, 0.7, 0.8, 0.9, 0.9], [0.6, 0.7, 0.7, 0.8, 0.9, 0.9])\", \"showarrow\": false, \"font\": {\"size\": 16}, \"xanchor\": \"center\", \"yanchor\": \"bottom\"}]}, {\"showLink\": true, \"linkText\": \"Export to plot.ly\"})});</script>"
      ]
     },
     "metadata": {},
     "output_type": "display_data"
    },
    {
     "name": "stdout",
     "output_type": "stream",
     "text": [
      "This is the format of your plot grid:\n",
      "[ (1,1) x1,y1 ]\n",
      "\n"
     ]
    },
    {
     "data": {
      "application/vnd.plotly.v1+json": {
       "data": [
        {
         "mode": "lines+markers",
         "name": "RaykarDS",
         "type": "scatter",
         "x": [
          "0",
          "0.2",
          "0.5",
          "0.8",
          "1"
         ],
         "xaxis": "x1",
         "y": [
          0.95065,
          0.9241,
          0.89272,
          0.92255,
          0.95119
         ],
         "yaxis": "y1"
        },
        {
         "mode": "lines+markers",
         "name": "RaykarDS_l",
         "type": "scatter",
         "x": [
          "0",
          "0.2",
          "0.5",
          "0.8",
          "1"
         ],
         "xaxis": "x1",
         "y": [
          0.89124,
          0.90345,
          0.89124,
          0.80389,
          0.99981
         ],
         "yaxis": "y1"
        },
        {
         "mode": "lines+markers",
         "name": "DS",
         "type": "scatter",
         "x": [
          "0",
          "0.2",
          "0.5",
          "0.8",
          "1"
         ],
         "xaxis": "x1",
         "y": [
          0.89124,
          0.89124,
          0.89124,
          0.89124,
          0.89124
         ],
         "yaxis": "y1"
        },
        {
         "mode": "lines+markers",
         "name": "Raykar",
         "type": "scatter",
         "x": [
          "0",
          "0.2",
          "0.5",
          "0.8",
          "1"
         ],
         "xaxis": "x1",
         "y": [
          0.00019,
          0.20274,
          0.49895,
          0.79726,
          0.99981
         ],
         "yaxis": "y1"
        }
       ],
       "layout": {
        "annotations": [
         {
          "font": {
           "size": 16
          },
          "showarrow": false,
          "text": "METHOD generate_points ([0.6, 0.7, 0.7, 0.8, 0.9], [0.6, 0.7, 0.7, 0.8, 0.9])",
          "x": 0.5,
          "xanchor": "center",
          "xref": "paper",
          "y": 1,
          "yanchor": "bottom",
          "yref": "paper"
         }
        ],
        "xaxis1": {
         "anchor": "y1",
         "domain": [
          0,
          1
         ]
        },
        "yaxis1": {
         "anchor": "x1",
         "domain": [
          0,
          1
         ]
        }
       }
      },
      "text/html": [
       "<div id=\"bd201901-1e84-4f2e-baae-43aa02f3a19b\" style=\"height: 525px; width: 100%;\" class=\"plotly-graph-div\"></div><script type=\"text/javascript\">require([\"plotly\"], function(Plotly) { window.PLOTLYENV=window.PLOTLYENV || {};window.PLOTLYENV.BASE_URL=\"https://plot.ly\";Plotly.newPlot(\"bd201901-1e84-4f2e-baae-43aa02f3a19b\", [{\"type\": \"scatter\", \"x\": [\"0\", \"0.2\", \"0.5\", \"0.8\", \"1\"], \"y\": [0.95065, 0.9241, 0.89272, 0.92255, 0.95119], \"mode\": \"lines+markers\", \"name\": \"RaykarDS\", \"xaxis\": \"x1\", \"yaxis\": \"y1\"}, {\"type\": \"scatter\", \"x\": [\"0\", \"0.2\", \"0.5\", \"0.8\", \"1\"], \"y\": [0.89124, 0.90345, 0.89124, 0.80389, 0.99981], \"mode\": \"lines+markers\", \"name\": \"RaykarDS_l\", \"xaxis\": \"x1\", \"yaxis\": \"y1\"}, {\"type\": \"scatter\", \"x\": [\"0\", \"0.2\", \"0.5\", \"0.8\", \"1\"], \"y\": [0.89124, 0.89124, 0.89124, 0.89124, 0.89124], \"mode\": \"lines+markers\", \"name\": \"DS\", \"xaxis\": \"x1\", \"yaxis\": \"y1\"}, {\"type\": \"scatter\", \"x\": [\"0\", \"0.2\", \"0.5\", \"0.8\", \"1\"], \"y\": [0.00019, 0.20274, 0.49895, 0.79726, 0.99981], \"mode\": \"lines+markers\", \"name\": \"Raykar\", \"xaxis\": \"x1\", \"yaxis\": \"y1\"}], {\"xaxis1\": {\"domain\": [0.0, 1.0], \"anchor\": \"y1\"}, \"yaxis1\": {\"domain\": [0.0, 1.0], \"anchor\": \"x1\"}, \"annotations\": [{\"y\": 1.0, \"xref\": \"paper\", \"x\": 0.5, \"yref\": \"paper\", \"text\": \"METHOD generate_points ([0.6, 0.7, 0.7, 0.8, 0.9], [0.6, 0.7, 0.7, 0.8, 0.9])\", \"showarrow\": false, \"font\": {\"size\": 16}, \"xanchor\": \"center\", \"yanchor\": \"bottom\"}]}, {\"showLink\": true, \"linkText\": \"Export to plot.ly\"})});</script>"
      ],
      "text/vnd.plotly.v1+html": [
       "<div id=\"bd201901-1e84-4f2e-baae-43aa02f3a19b\" style=\"height: 525px; width: 100%;\" class=\"plotly-graph-div\"></div><script type=\"text/javascript\">require([\"plotly\"], function(Plotly) { window.PLOTLYENV=window.PLOTLYENV || {};window.PLOTLYENV.BASE_URL=\"https://plot.ly\";Plotly.newPlot(\"bd201901-1e84-4f2e-baae-43aa02f3a19b\", [{\"type\": \"scatter\", \"x\": [\"0\", \"0.2\", \"0.5\", \"0.8\", \"1\"], \"y\": [0.95065, 0.9241, 0.89272, 0.92255, 0.95119], \"mode\": \"lines+markers\", \"name\": \"RaykarDS\", \"xaxis\": \"x1\", \"yaxis\": \"y1\"}, {\"type\": \"scatter\", \"x\": [\"0\", \"0.2\", \"0.5\", \"0.8\", \"1\"], \"y\": [0.89124, 0.90345, 0.89124, 0.80389, 0.99981], \"mode\": \"lines+markers\", \"name\": \"RaykarDS_l\", \"xaxis\": \"x1\", \"yaxis\": \"y1\"}, {\"type\": \"scatter\", \"x\": [\"0\", \"0.2\", \"0.5\", \"0.8\", \"1\"], \"y\": [0.89124, 0.89124, 0.89124, 0.89124, 0.89124], \"mode\": \"lines+markers\", \"name\": \"DS\", \"xaxis\": \"x1\", \"yaxis\": \"y1\"}, {\"type\": \"scatter\", \"x\": [\"0\", \"0.2\", \"0.5\", \"0.8\", \"1\"], \"y\": [0.00019, 0.20274, 0.49895, 0.79726, 0.99981], \"mode\": \"lines+markers\", \"name\": \"Raykar\", \"xaxis\": \"x1\", \"yaxis\": \"y1\"}], {\"xaxis1\": {\"domain\": [0.0, 1.0], \"anchor\": \"y1\"}, \"yaxis1\": {\"domain\": [0.0, 1.0], \"anchor\": \"x1\"}, \"annotations\": [{\"y\": 1.0, \"xref\": \"paper\", \"x\": 0.5, \"yref\": \"paper\", \"text\": \"METHOD generate_points ([0.6, 0.7, 0.7, 0.8, 0.9], [0.6, 0.7, 0.7, 0.8, 0.9])\", \"showarrow\": false, \"font\": {\"size\": 16}, \"xanchor\": \"center\", \"yanchor\": \"bottom\"}]}, {\"showLink\": true, \"linkText\": \"Export to plot.ly\"})});</script>"
      ]
     },
     "metadata": {},
     "output_type": "display_data"
    }
   ],
   "source": [
    "show_plots('acc', transforme_data(old_points))"
   ]
  },
  {
   "cell_type": "code",
   "execution_count": 36,
   "metadata": {},
   "outputs": [],
   "source": [
    "file_name = 'res_test_01.json'"
   ]
  },
  {
   "cell_type": "code",
   "execution_count": 37,
   "metadata": {},
   "outputs": [],
   "source": [
    "with open(os.path.join(dir_, file_name), 'r') as file_from:\n",
    "    points_01 = json.load(file_from)"
   ]
  },
  {
   "cell_type": "code",
   "execution_count": 38,
   "metadata": {},
   "outputs": [
    {
     "name": "stdout",
     "output_type": "stream",
     "text": [
      "acc\n",
      "This is the format of your plot grid:\n",
      "[ (1,1) x1,y1 ]\n",
      "\n"
     ]
    },
    {
     "data": {
      "application/vnd.plotly.v1+json": {
       "data": [
        {
         "mode": "lines+markers",
         "name": "RaykarDS",
         "type": "scatter",
         "x": [
          "0.49978",
          "0.60079",
          "0.7507",
          "0.89899",
          "1.0"
         ],
         "xaxis": "x1",
         "y": [
          0.74905,
          0.74905,
          0.74905,
          0.77526,
          0.78014
         ],
         "yaxis": "y1"
        },
        {
         "mode": "lines+markers",
         "name": "RaykarDS_l",
         "type": "scatter",
         "x": [
          "0.49978",
          "0.60079",
          "0.7507",
          "0.89899",
          "1.0"
         ],
         "xaxis": "x1",
         "y": [
          0.74905,
          0.70077,
          0.7512,
          0.89857,
          0.99945
         ],
         "yaxis": "y1"
        },
        {
         "mode": "lines+markers",
         "name": "DS",
         "type": "scatter",
         "x": [
          "0.49978",
          "0.60079",
          "0.7507",
          "0.89899",
          "1.0"
         ],
         "xaxis": "x1",
         "y": [
          0.74905,
          0.74905,
          0.74905,
          0.74905,
          0.74905
         ],
         "yaxis": "y1"
        },
        {
         "mode": "lines+markers",
         "name": "Raykar",
         "type": "scatter",
         "x": [
          "0.49978",
          "0.60079",
          "0.7507",
          "0.89899",
          "1.0"
         ],
         "xaxis": "x1",
         "y": [
          0.49968,
          0.40477,
          0.74772,
          0.89787,
          0.99945
         ],
         "yaxis": "y1"
        }
       ],
       "layout": {
        "annotations": [
         {
          "font": {
           "size": 16
          },
          "showarrow": false,
          "text": "METHOD generate_AB_points ([0.6, 0.6, 0.6, 0.7, 0.7], [0.6, 0.6, 0.6, 0.7, 0.7])",
          "x": 0.5,
          "xanchor": "center",
          "xref": "paper",
          "y": 1,
          "yanchor": "bottom",
          "yref": "paper"
         }
        ],
        "xaxis1": {
         "anchor": "y1",
         "domain": [
          0,
          1
         ]
        },
        "yaxis1": {
         "anchor": "x1",
         "domain": [
          0,
          1
         ]
        }
       }
      },
      "text/html": [
       "<div id=\"85a8a262-91b6-4d24-b043-7ad98ab4b81a\" style=\"height: 525px; width: 100%;\" class=\"plotly-graph-div\"></div><script type=\"text/javascript\">require([\"plotly\"], function(Plotly) { window.PLOTLYENV=window.PLOTLYENV || {};window.PLOTLYENV.BASE_URL=\"https://plot.ly\";Plotly.newPlot(\"85a8a262-91b6-4d24-b043-7ad98ab4b81a\", [{\"type\": \"scatter\", \"x\": [\"0.49978\", \"0.60079\", \"0.7507\", \"0.89899\", \"1.0\"], \"y\": [0.74905, 0.74905, 0.74905, 0.77526, 0.78014], \"mode\": \"lines+markers\", \"name\": \"RaykarDS\", \"xaxis\": \"x1\", \"yaxis\": \"y1\"}, {\"type\": \"scatter\", \"x\": [\"0.49978\", \"0.60079\", \"0.7507\", \"0.89899\", \"1.0\"], \"y\": [0.74905, 0.70077, 0.7512, 0.89857, 0.99945], \"mode\": \"lines+markers\", \"name\": \"RaykarDS_l\", \"xaxis\": \"x1\", \"yaxis\": \"y1\"}, {\"type\": \"scatter\", \"x\": [\"0.49978\", \"0.60079\", \"0.7507\", \"0.89899\", \"1.0\"], \"y\": [0.74905, 0.74905, 0.74905, 0.74905, 0.74905], \"mode\": \"lines+markers\", \"name\": \"DS\", \"xaxis\": \"x1\", \"yaxis\": \"y1\"}, {\"type\": \"scatter\", \"x\": [\"0.49978\", \"0.60079\", \"0.7507\", \"0.89899\", \"1.0\"], \"y\": [0.49968, 0.40477, 0.74772, 0.89787, 0.99945], \"mode\": \"lines+markers\", \"name\": \"Raykar\", \"xaxis\": \"x1\", \"yaxis\": \"y1\"}], {\"xaxis1\": {\"domain\": [0.0, 1.0], \"anchor\": \"y1\"}, \"yaxis1\": {\"domain\": [0.0, 1.0], \"anchor\": \"x1\"}, \"annotations\": [{\"y\": 1.0, \"xref\": \"paper\", \"x\": 0.5, \"yref\": \"paper\", \"text\": \"METHOD generate_AB_points ([0.6, 0.6, 0.6, 0.7, 0.7], [0.6, 0.6, 0.6, 0.7, 0.7])\", \"showarrow\": false, \"font\": {\"size\": 16}, \"xanchor\": \"center\", \"yanchor\": \"bottom\"}]}, {\"showLink\": true, \"linkText\": \"Export to plot.ly\"})});</script>"
      ],
      "text/vnd.plotly.v1+html": [
       "<div id=\"85a8a262-91b6-4d24-b043-7ad98ab4b81a\" style=\"height: 525px; width: 100%;\" class=\"plotly-graph-div\"></div><script type=\"text/javascript\">require([\"plotly\"], function(Plotly) { window.PLOTLYENV=window.PLOTLYENV || {};window.PLOTLYENV.BASE_URL=\"https://plot.ly\";Plotly.newPlot(\"85a8a262-91b6-4d24-b043-7ad98ab4b81a\", [{\"type\": \"scatter\", \"x\": [\"0.49978\", \"0.60079\", \"0.7507\", \"0.89899\", \"1.0\"], \"y\": [0.74905, 0.74905, 0.74905, 0.77526, 0.78014], \"mode\": \"lines+markers\", \"name\": \"RaykarDS\", \"xaxis\": \"x1\", \"yaxis\": \"y1\"}, {\"type\": \"scatter\", \"x\": [\"0.49978\", \"0.60079\", \"0.7507\", \"0.89899\", \"1.0\"], \"y\": [0.74905, 0.70077, 0.7512, 0.89857, 0.99945], \"mode\": \"lines+markers\", \"name\": \"RaykarDS_l\", \"xaxis\": \"x1\", \"yaxis\": \"y1\"}, {\"type\": \"scatter\", \"x\": [\"0.49978\", \"0.60079\", \"0.7507\", \"0.89899\", \"1.0\"], \"y\": [0.74905, 0.74905, 0.74905, 0.74905, 0.74905], \"mode\": \"lines+markers\", \"name\": \"DS\", \"xaxis\": \"x1\", \"yaxis\": \"y1\"}, {\"type\": \"scatter\", \"x\": [\"0.49978\", \"0.60079\", \"0.7507\", \"0.89899\", \"1.0\"], \"y\": [0.49968, 0.40477, 0.74772, 0.89787, 0.99945], \"mode\": \"lines+markers\", \"name\": \"Raykar\", \"xaxis\": \"x1\", \"yaxis\": \"y1\"}], {\"xaxis1\": {\"domain\": [0.0, 1.0], \"anchor\": \"y1\"}, \"yaxis1\": {\"domain\": [0.0, 1.0], \"anchor\": \"x1\"}, \"annotations\": [{\"y\": 1.0, \"xref\": \"paper\", \"x\": 0.5, \"yref\": \"paper\", \"text\": \"METHOD generate_AB_points ([0.6, 0.6, 0.6, 0.7, 0.7], [0.6, 0.6, 0.6, 0.7, 0.7])\", \"showarrow\": false, \"font\": {\"size\": 16}, \"xanchor\": \"center\", \"yanchor\": \"bottom\"}]}, {\"showLink\": true, \"linkText\": \"Export to plot.ly\"})});</script>"
      ]
     },
     "metadata": {},
     "output_type": "display_data"
    },
    {
     "name": "stdout",
     "output_type": "stream",
     "text": [
      "This is the format of your plot grid:\n",
      "[ (1,1) x1,y1 ]\n",
      "\n"
     ]
    },
    {
     "data": {
      "application/vnd.plotly.v1+json": {
       "data": [
        {
         "mode": "lines+markers",
         "name": "RaykarDS",
         "type": "scatter",
         "x": [
          "0.49978",
          "0.60079",
          "0.7507",
          "0.89899",
          "1.0"
         ],
         "xaxis": "x1",
         "y": [
          0.83876,
          0.83876,
          0.83876,
          0.83876,
          0.83876
         ],
         "yaxis": "y1"
        },
        {
         "mode": "lines+markers",
         "name": "RaykarDS_l",
         "type": "scatter",
         "x": [
          "0.49978",
          "0.60079",
          "0.7507",
          "0.89899",
          "1.0"
         ],
         "xaxis": "x1",
         "y": [
          0.83876,
          0.74895,
          0.76019,
          0.89885,
          0.99966
         ],
         "yaxis": "y1"
        },
        {
         "mode": "lines+markers",
         "name": "DS",
         "type": "scatter",
         "x": [
          "0.49978",
          "0.60079",
          "0.7507",
          "0.89899",
          "1.0"
         ],
         "xaxis": "x1",
         "y": [
          0.83876,
          0.83876,
          0.83876,
          0.83876,
          0.83876
         ],
         "yaxis": "y1"
        },
        {
         "mode": "lines+markers",
         "name": "Raykar",
         "type": "scatter",
         "x": [
          "0.49978",
          "0.60079",
          "0.7507",
          "0.89899",
          "1.0"
         ],
         "xaxis": "x1",
         "y": [
          0.49834,
          0.40157,
          0.74822,
          0.89789,
          0.99966
         ],
         "yaxis": "y1"
        }
       ],
       "layout": {
        "annotations": [
         {
          "font": {
           "size": 16
          },
          "showarrow": false,
          "text": "METHOD generate_AB_points ([0.6, 0.7, 0.7, 0.7, 0.8], [0.6, 0.7, 0.7, 0.7, 0.8])",
          "x": 0.5,
          "xanchor": "center",
          "xref": "paper",
          "y": 1,
          "yanchor": "bottom",
          "yref": "paper"
         }
        ],
        "xaxis1": {
         "anchor": "y1",
         "domain": [
          0,
          1
         ]
        },
        "yaxis1": {
         "anchor": "x1",
         "domain": [
          0,
          1
         ]
        }
       }
      },
      "text/html": [
       "<div id=\"976785dd-6a9d-43d8-8467-aab8d206f29d\" style=\"height: 525px; width: 100%;\" class=\"plotly-graph-div\"></div><script type=\"text/javascript\">require([\"plotly\"], function(Plotly) { window.PLOTLYENV=window.PLOTLYENV || {};window.PLOTLYENV.BASE_URL=\"https://plot.ly\";Plotly.newPlot(\"976785dd-6a9d-43d8-8467-aab8d206f29d\", [{\"type\": \"scatter\", \"x\": [\"0.49978\", \"0.60079\", \"0.7507\", \"0.89899\", \"1.0\"], \"y\": [0.83876, 0.83876, 0.83876, 0.83876, 0.83876], \"mode\": \"lines+markers\", \"name\": \"RaykarDS\", \"xaxis\": \"x1\", \"yaxis\": \"y1\"}, {\"type\": \"scatter\", \"x\": [\"0.49978\", \"0.60079\", \"0.7507\", \"0.89899\", \"1.0\"], \"y\": [0.83876, 0.74895, 0.76019, 0.89885, 0.99966], \"mode\": \"lines+markers\", \"name\": \"RaykarDS_l\", \"xaxis\": \"x1\", \"yaxis\": \"y1\"}, {\"type\": \"scatter\", \"x\": [\"0.49978\", \"0.60079\", \"0.7507\", \"0.89899\", \"1.0\"], \"y\": [0.83876, 0.83876, 0.83876, 0.83876, 0.83876], \"mode\": \"lines+markers\", \"name\": \"DS\", \"xaxis\": \"x1\", \"yaxis\": \"y1\"}, {\"type\": \"scatter\", \"x\": [\"0.49978\", \"0.60079\", \"0.7507\", \"0.89899\", \"1.0\"], \"y\": [0.49834, 0.40157, 0.74822, 0.89789, 0.99966], \"mode\": \"lines+markers\", \"name\": \"Raykar\", \"xaxis\": \"x1\", \"yaxis\": \"y1\"}], {\"xaxis1\": {\"domain\": [0.0, 1.0], \"anchor\": \"y1\"}, \"yaxis1\": {\"domain\": [0.0, 1.0], \"anchor\": \"x1\"}, \"annotations\": [{\"y\": 1.0, \"xref\": \"paper\", \"x\": 0.5, \"yref\": \"paper\", \"text\": \"METHOD generate_AB_points ([0.6, 0.7, 0.7, 0.7, 0.8], [0.6, 0.7, 0.7, 0.7, 0.8])\", \"showarrow\": false, \"font\": {\"size\": 16}, \"xanchor\": \"center\", \"yanchor\": \"bottom\"}]}, {\"showLink\": true, \"linkText\": \"Export to plot.ly\"})});</script>"
      ],
      "text/vnd.plotly.v1+html": [
       "<div id=\"976785dd-6a9d-43d8-8467-aab8d206f29d\" style=\"height: 525px; width: 100%;\" class=\"plotly-graph-div\"></div><script type=\"text/javascript\">require([\"plotly\"], function(Plotly) { window.PLOTLYENV=window.PLOTLYENV || {};window.PLOTLYENV.BASE_URL=\"https://plot.ly\";Plotly.newPlot(\"976785dd-6a9d-43d8-8467-aab8d206f29d\", [{\"type\": \"scatter\", \"x\": [\"0.49978\", \"0.60079\", \"0.7507\", \"0.89899\", \"1.0\"], \"y\": [0.83876, 0.83876, 0.83876, 0.83876, 0.83876], \"mode\": \"lines+markers\", \"name\": \"RaykarDS\", \"xaxis\": \"x1\", \"yaxis\": \"y1\"}, {\"type\": \"scatter\", \"x\": [\"0.49978\", \"0.60079\", \"0.7507\", \"0.89899\", \"1.0\"], \"y\": [0.83876, 0.74895, 0.76019, 0.89885, 0.99966], \"mode\": \"lines+markers\", \"name\": \"RaykarDS_l\", \"xaxis\": \"x1\", \"yaxis\": \"y1\"}, {\"type\": \"scatter\", \"x\": [\"0.49978\", \"0.60079\", \"0.7507\", \"0.89899\", \"1.0\"], \"y\": [0.83876, 0.83876, 0.83876, 0.83876, 0.83876], \"mode\": \"lines+markers\", \"name\": \"DS\", \"xaxis\": \"x1\", \"yaxis\": \"y1\"}, {\"type\": \"scatter\", \"x\": [\"0.49978\", \"0.60079\", \"0.7507\", \"0.89899\", \"1.0\"], \"y\": [0.49834, 0.40157, 0.74822, 0.89789, 0.99966], \"mode\": \"lines+markers\", \"name\": \"Raykar\", \"xaxis\": \"x1\", \"yaxis\": \"y1\"}], {\"xaxis1\": {\"domain\": [0.0, 1.0], \"anchor\": \"y1\"}, \"yaxis1\": {\"domain\": [0.0, 1.0], \"anchor\": \"x1\"}, \"annotations\": [{\"y\": 1.0, \"xref\": \"paper\", \"x\": 0.5, \"yref\": \"paper\", \"text\": \"METHOD generate_AB_points ([0.6, 0.7, 0.7, 0.7, 0.8], [0.6, 0.7, 0.7, 0.7, 0.8])\", \"showarrow\": false, \"font\": {\"size\": 16}, \"xanchor\": \"center\", \"yanchor\": \"bottom\"}]}, {\"showLink\": true, \"linkText\": \"Export to plot.ly\"})});</script>"
      ]
     },
     "metadata": {},
     "output_type": "display_data"
    },
    {
     "name": "stdout",
     "output_type": "stream",
     "text": [
      "This is the format of your plot grid:\n",
      "[ (1,1) x1,y1 ]\n",
      "\n"
     ]
    },
    {
     "data": {
      "application/vnd.plotly.v1+json": {
       "data": [
        {
         "mode": "lines+markers",
         "name": "RaykarDS",
         "type": "scatter",
         "x": [
          "0.49978",
          "0.60079",
          "0.7507",
          "0.89899",
          "1.0"
         ],
         "xaxis": "x1",
         "y": [
          0.92156,
          0.93403,
          0.95183,
          0.96841,
          0.9813
         ],
         "yaxis": "y1"
        },
        {
         "mode": "lines+markers",
         "name": "RaykarDS_l",
         "type": "scatter",
         "x": [
          "0.49978",
          "0.60079",
          "0.7507",
          "0.89899",
          "1.0"
         ],
         "xaxis": "x1",
         "y": [
          0.91947,
          0.82278,
          0.7639,
          0.89973,
          0.99989
         ],
         "yaxis": "y1"
        },
        {
         "mode": "lines+markers",
         "name": "DS",
         "type": "scatter",
         "x": [
          "0.49978",
          "0.60079",
          "0.7507",
          "0.89899",
          "1.0"
         ],
         "xaxis": "x1",
         "y": [
          0.91969,
          0.92033,
          0.92027,
          0.91879,
          0.91943
         ],
         "yaxis": "y1"
        },
        {
         "mode": "lines+markers",
         "name": "Raykar",
         "type": "scatter",
         "x": [
          "0.49978",
          "0.60079",
          "0.7507",
          "0.89899",
          "1.0"
         ],
         "xaxis": "x1",
         "y": [
          0.50198,
          0.5988,
          0.74878,
          0.89797,
          0.99989
         ],
         "yaxis": "y1"
        }
       ],
       "layout": {
        "annotations": [
         {
          "font": {
           "size": 16
          },
          "showarrow": false,
          "text": "METHOD generate_AB_points ([0.6, 0.7, 0.7, 0.8, 0.9, 0.9], [0.6, 0.7, 0.7, 0.8, 0.9, 0.9])",
          "x": 0.5,
          "xanchor": "center",
          "xref": "paper",
          "y": 1,
          "yanchor": "bottom",
          "yref": "paper"
         }
        ],
        "xaxis1": {
         "anchor": "y1",
         "domain": [
          0,
          1
         ]
        },
        "yaxis1": {
         "anchor": "x1",
         "domain": [
          0,
          1
         ]
        }
       }
      },
      "text/html": [
       "<div id=\"47736e1b-4471-4409-b417-b18dbe628878\" style=\"height: 525px; width: 100%;\" class=\"plotly-graph-div\"></div><script type=\"text/javascript\">require([\"plotly\"], function(Plotly) { window.PLOTLYENV=window.PLOTLYENV || {};window.PLOTLYENV.BASE_URL=\"https://plot.ly\";Plotly.newPlot(\"47736e1b-4471-4409-b417-b18dbe628878\", [{\"type\": \"scatter\", \"x\": [\"0.49978\", \"0.60079\", \"0.7507\", \"0.89899\", \"1.0\"], \"y\": [0.92156, 0.93403, 0.95183, 0.96841, 0.9813], \"mode\": \"lines+markers\", \"name\": \"RaykarDS\", \"xaxis\": \"x1\", \"yaxis\": \"y1\"}, {\"type\": \"scatter\", \"x\": [\"0.49978\", \"0.60079\", \"0.7507\", \"0.89899\", \"1.0\"], \"y\": [0.91947, 0.82278, 0.7639, 0.89973, 0.99989], \"mode\": \"lines+markers\", \"name\": \"RaykarDS_l\", \"xaxis\": \"x1\", \"yaxis\": \"y1\"}, {\"type\": \"scatter\", \"x\": [\"0.49978\", \"0.60079\", \"0.7507\", \"0.89899\", \"1.0\"], \"y\": [0.91969, 0.92033, 0.92027, 0.91879, 0.91943], \"mode\": \"lines+markers\", \"name\": \"DS\", \"xaxis\": \"x1\", \"yaxis\": \"y1\"}, {\"type\": \"scatter\", \"x\": [\"0.49978\", \"0.60079\", \"0.7507\", \"0.89899\", \"1.0\"], \"y\": [0.50198, 0.5988, 0.74878, 0.89797, 0.99989], \"mode\": \"lines+markers\", \"name\": \"Raykar\", \"xaxis\": \"x1\", \"yaxis\": \"y1\"}], {\"xaxis1\": {\"domain\": [0.0, 1.0], \"anchor\": \"y1\"}, \"yaxis1\": {\"domain\": [0.0, 1.0], \"anchor\": \"x1\"}, \"annotations\": [{\"y\": 1.0, \"xref\": \"paper\", \"x\": 0.5, \"yref\": \"paper\", \"text\": \"METHOD generate_AB_points ([0.6, 0.7, 0.7, 0.8, 0.9, 0.9], [0.6, 0.7, 0.7, 0.8, 0.9, 0.9])\", \"showarrow\": false, \"font\": {\"size\": 16}, \"xanchor\": \"center\", \"yanchor\": \"bottom\"}]}, {\"showLink\": true, \"linkText\": \"Export to plot.ly\"})});</script>"
      ],
      "text/vnd.plotly.v1+html": [
       "<div id=\"47736e1b-4471-4409-b417-b18dbe628878\" style=\"height: 525px; width: 100%;\" class=\"plotly-graph-div\"></div><script type=\"text/javascript\">require([\"plotly\"], function(Plotly) { window.PLOTLYENV=window.PLOTLYENV || {};window.PLOTLYENV.BASE_URL=\"https://plot.ly\";Plotly.newPlot(\"47736e1b-4471-4409-b417-b18dbe628878\", [{\"type\": \"scatter\", \"x\": [\"0.49978\", \"0.60079\", \"0.7507\", \"0.89899\", \"1.0\"], \"y\": [0.92156, 0.93403, 0.95183, 0.96841, 0.9813], \"mode\": \"lines+markers\", \"name\": \"RaykarDS\", \"xaxis\": \"x1\", \"yaxis\": \"y1\"}, {\"type\": \"scatter\", \"x\": [\"0.49978\", \"0.60079\", \"0.7507\", \"0.89899\", \"1.0\"], \"y\": [0.91947, 0.82278, 0.7639, 0.89973, 0.99989], \"mode\": \"lines+markers\", \"name\": \"RaykarDS_l\", \"xaxis\": \"x1\", \"yaxis\": \"y1\"}, {\"type\": \"scatter\", \"x\": [\"0.49978\", \"0.60079\", \"0.7507\", \"0.89899\", \"1.0\"], \"y\": [0.91969, 0.92033, 0.92027, 0.91879, 0.91943], \"mode\": \"lines+markers\", \"name\": \"DS\", \"xaxis\": \"x1\", \"yaxis\": \"y1\"}, {\"type\": \"scatter\", \"x\": [\"0.49978\", \"0.60079\", \"0.7507\", \"0.89899\", \"1.0\"], \"y\": [0.50198, 0.5988, 0.74878, 0.89797, 0.99989], \"mode\": \"lines+markers\", \"name\": \"Raykar\", \"xaxis\": \"x1\", \"yaxis\": \"y1\"}], {\"xaxis1\": {\"domain\": [0.0, 1.0], \"anchor\": \"y1\"}, \"yaxis1\": {\"domain\": [0.0, 1.0], \"anchor\": \"x1\"}, \"annotations\": [{\"y\": 1.0, \"xref\": \"paper\", \"x\": 0.5, \"yref\": \"paper\", \"text\": \"METHOD generate_AB_points ([0.6, 0.7, 0.7, 0.8, 0.9, 0.9], [0.6, 0.7, 0.7, 0.8, 0.9, 0.9])\", \"showarrow\": false, \"font\": {\"size\": 16}, \"xanchor\": \"center\", \"yanchor\": \"bottom\"}]}, {\"showLink\": true, \"linkText\": \"Export to plot.ly\"})});</script>"
      ]
     },
     "metadata": {},
     "output_type": "display_data"
    },
    {
     "name": "stdout",
     "output_type": "stream",
     "text": [
      "This is the format of your plot grid:\n",
      "[ (1,1) x1,y1 ]\n",
      "\n"
     ]
    },
    {
     "data": {
      "application/vnd.plotly.v1+json": {
       "data": [
        {
         "mode": "lines+markers",
         "name": "RaykarDS",
         "type": "scatter",
         "x": [
          "0.49978",
          "0.60079",
          "0.7507",
          "0.89899",
          "1.0"
         ],
         "xaxis": "x1",
         "y": [
          0.90796,
          0.91606,
          0.92832,
          0.93937,
          0.94819
         ],
         "yaxis": "y1"
        },
        {
         "mode": "lines+markers",
         "name": "RaykarDS_l",
         "type": "scatter",
         "x": [
          "0.49978",
          "0.60079",
          "0.7507",
          "0.89899",
          "1.0"
         ],
         "xaxis": "x1",
         "y": [
          0.89185,
          0.78425,
          0.76159,
          0.89943,
          0.99974
         ],
         "yaxis": "y1"
        },
        {
         "mode": "lines+markers",
         "name": "DS",
         "type": "scatter",
         "x": [
          "0.49978",
          "0.60079",
          "0.7507",
          "0.89899",
          "1.0"
         ],
         "xaxis": "x1",
         "y": [
          0.89185,
          0.89185,
          0.89185,
          0.89185,
          0.89185
         ],
         "yaxis": "y1"
        },
        {
         "mode": "lines+markers",
         "name": "Raykar",
         "type": "scatter",
         "x": [
          "0.49978",
          "0.60079",
          "0.7507",
          "0.89899",
          "1.0"
         ],
         "xaxis": "x1",
         "y": [
          0.4989,
          0.40198,
          0.2512,
          0.89798,
          0.99974
         ],
         "yaxis": "y1"
        }
       ],
       "layout": {
        "annotations": [
         {
          "font": {
           "size": 16
          },
          "showarrow": false,
          "text": "METHOD generate_AB_points ([0.6, 0.7, 0.7, 0.8, 0.9], [0.6, 0.7, 0.7, 0.8, 0.9])",
          "x": 0.5,
          "xanchor": "center",
          "xref": "paper",
          "y": 1,
          "yanchor": "bottom",
          "yref": "paper"
         }
        ],
        "xaxis1": {
         "anchor": "y1",
         "domain": [
          0,
          1
         ]
        },
        "yaxis1": {
         "anchor": "x1",
         "domain": [
          0,
          1
         ]
        }
       }
      },
      "text/html": [
       "<div id=\"84e3acc3-6c76-4e1e-b9ba-4ef9f3ae85aa\" style=\"height: 525px; width: 100%;\" class=\"plotly-graph-div\"></div><script type=\"text/javascript\">require([\"plotly\"], function(Plotly) { window.PLOTLYENV=window.PLOTLYENV || {};window.PLOTLYENV.BASE_URL=\"https://plot.ly\";Plotly.newPlot(\"84e3acc3-6c76-4e1e-b9ba-4ef9f3ae85aa\", [{\"type\": \"scatter\", \"x\": [\"0.49978\", \"0.60079\", \"0.7507\", \"0.89899\", \"1.0\"], \"y\": [0.90796, 0.91606, 0.92832, 0.93937, 0.94819], \"mode\": \"lines+markers\", \"name\": \"RaykarDS\", \"xaxis\": \"x1\", \"yaxis\": \"y1\"}, {\"type\": \"scatter\", \"x\": [\"0.49978\", \"0.60079\", \"0.7507\", \"0.89899\", \"1.0\"], \"y\": [0.89185, 0.78425, 0.76159, 0.89943, 0.99974], \"mode\": \"lines+markers\", \"name\": \"RaykarDS_l\", \"xaxis\": \"x1\", \"yaxis\": \"y1\"}, {\"type\": \"scatter\", \"x\": [\"0.49978\", \"0.60079\", \"0.7507\", \"0.89899\", \"1.0\"], \"y\": [0.89185, 0.89185, 0.89185, 0.89185, 0.89185], \"mode\": \"lines+markers\", \"name\": \"DS\", \"xaxis\": \"x1\", \"yaxis\": \"y1\"}, {\"type\": \"scatter\", \"x\": [\"0.49978\", \"0.60079\", \"0.7507\", \"0.89899\", \"1.0\"], \"y\": [0.4989, 0.40198, 0.2512, 0.89798, 0.99974], \"mode\": \"lines+markers\", \"name\": \"Raykar\", \"xaxis\": \"x1\", \"yaxis\": \"y1\"}], {\"xaxis1\": {\"domain\": [0.0, 1.0], \"anchor\": \"y1\"}, \"yaxis1\": {\"domain\": [0.0, 1.0], \"anchor\": \"x1\"}, \"annotations\": [{\"y\": 1.0, \"xref\": \"paper\", \"x\": 0.5, \"yref\": \"paper\", \"text\": \"METHOD generate_AB_points ([0.6, 0.7, 0.7, 0.8, 0.9], [0.6, 0.7, 0.7, 0.8, 0.9])\", \"showarrow\": false, \"font\": {\"size\": 16}, \"xanchor\": \"center\", \"yanchor\": \"bottom\"}]}, {\"showLink\": true, \"linkText\": \"Export to plot.ly\"})});</script>"
      ],
      "text/vnd.plotly.v1+html": [
       "<div id=\"84e3acc3-6c76-4e1e-b9ba-4ef9f3ae85aa\" style=\"height: 525px; width: 100%;\" class=\"plotly-graph-div\"></div><script type=\"text/javascript\">require([\"plotly\"], function(Plotly) { window.PLOTLYENV=window.PLOTLYENV || {};window.PLOTLYENV.BASE_URL=\"https://plot.ly\";Plotly.newPlot(\"84e3acc3-6c76-4e1e-b9ba-4ef9f3ae85aa\", [{\"type\": \"scatter\", \"x\": [\"0.49978\", \"0.60079\", \"0.7507\", \"0.89899\", \"1.0\"], \"y\": [0.90796, 0.91606, 0.92832, 0.93937, 0.94819], \"mode\": \"lines+markers\", \"name\": \"RaykarDS\", \"xaxis\": \"x1\", \"yaxis\": \"y1\"}, {\"type\": \"scatter\", \"x\": [\"0.49978\", \"0.60079\", \"0.7507\", \"0.89899\", \"1.0\"], \"y\": [0.89185, 0.78425, 0.76159, 0.89943, 0.99974], \"mode\": \"lines+markers\", \"name\": \"RaykarDS_l\", \"xaxis\": \"x1\", \"yaxis\": \"y1\"}, {\"type\": \"scatter\", \"x\": [\"0.49978\", \"0.60079\", \"0.7507\", \"0.89899\", \"1.0\"], \"y\": [0.89185, 0.89185, 0.89185, 0.89185, 0.89185], \"mode\": \"lines+markers\", \"name\": \"DS\", \"xaxis\": \"x1\", \"yaxis\": \"y1\"}, {\"type\": \"scatter\", \"x\": [\"0.49978\", \"0.60079\", \"0.7507\", \"0.89899\", \"1.0\"], \"y\": [0.4989, 0.40198, 0.2512, 0.89798, 0.99974], \"mode\": \"lines+markers\", \"name\": \"Raykar\", \"xaxis\": \"x1\", \"yaxis\": \"y1\"}], {\"xaxis1\": {\"domain\": [0.0, 1.0], \"anchor\": \"y1\"}, \"yaxis1\": {\"domain\": [0.0, 1.0], \"anchor\": \"x1\"}, \"annotations\": [{\"y\": 1.0, \"xref\": \"paper\", \"x\": 0.5, \"yref\": \"paper\", \"text\": \"METHOD generate_AB_points ([0.6, 0.7, 0.7, 0.8, 0.9], [0.6, 0.7, 0.7, 0.8, 0.9])\", \"showarrow\": false, \"font\": {\"size\": 16}, \"xanchor\": \"center\", \"yanchor\": \"bottom\"}]}, {\"showLink\": true, \"linkText\": \"Export to plot.ly\"})});</script>"
      ]
     },
     "metadata": {},
     "output_type": "display_data"
    },
    {
     "name": "stdout",
     "output_type": "stream",
     "text": [
      "This is the format of your plot grid:\n",
      "[ (1,1) x1,y1 ]\n",
      "\n"
     ]
    },
    {
     "data": {
      "application/vnd.plotly.v1+json": {
       "data": [
        {
         "mode": "lines+markers",
         "name": "RaykarDS",
         "type": "scatter",
         "x": [
          "0",
          "0.2",
          "0.5",
          "0.8",
          "1"
         ],
         "xaxis": "x1",
         "y": [
          0.77867,
          0.74824,
          0.74824,
          0.76861,
          0.77867
         ],
         "yaxis": "y1"
        },
        {
         "mode": "lines+markers",
         "name": "RaykarDS_l",
         "type": "scatter",
         "x": [
          "0",
          "0.2",
          "0.5",
          "0.8",
          "1"
         ],
         "xaxis": "x1",
         "y": [
          0.74824,
          0.80228,
          0.74824,
          0.79914,
          0.99937
         ],
         "yaxis": "y1"
        },
        {
         "mode": "lines+markers",
         "name": "DS",
         "type": "scatter",
         "x": [
          "0",
          "0.2",
          "0.5",
          "0.8",
          "1"
         ],
         "xaxis": "x1",
         "y": [
          0.74824,
          0.74824,
          0.74824,
          0.74824,
          0.74824
         ],
         "yaxis": "y1"
        },
        {
         "mode": "lines+markers",
         "name": "Raykar",
         "type": "scatter",
         "x": [
          "0",
          "0.2",
          "0.5",
          "0.8",
          "1"
         ],
         "xaxis": "x1",
         "y": [
          0.00063,
          0.42513,
          0.50053,
          0.57487,
          0.99937
         ],
         "yaxis": "y1"
        }
       ],
       "layout": {
        "annotations": [
         {
          "font": {
           "size": 16
          },
          "showarrow": false,
          "text": "METHOD generate_points ([0.6, 0.6, 0.6, 0.7, 0.7], [0.6, 0.6, 0.6, 0.7, 0.7])",
          "x": 0.5,
          "xanchor": "center",
          "xref": "paper",
          "y": 1,
          "yanchor": "bottom",
          "yref": "paper"
         }
        ],
        "xaxis1": {
         "anchor": "y1",
         "domain": [
          0,
          1
         ]
        },
        "yaxis1": {
         "anchor": "x1",
         "domain": [
          0,
          1
         ]
        }
       }
      },
      "text/html": [
       "<div id=\"9a4a5675-e975-44d0-a41c-b2c29ec38247\" style=\"height: 525px; width: 100%;\" class=\"plotly-graph-div\"></div><script type=\"text/javascript\">require([\"plotly\"], function(Plotly) { window.PLOTLYENV=window.PLOTLYENV || {};window.PLOTLYENV.BASE_URL=\"https://plot.ly\";Plotly.newPlot(\"9a4a5675-e975-44d0-a41c-b2c29ec38247\", [{\"type\": \"scatter\", \"x\": [\"0\", \"0.2\", \"0.5\", \"0.8\", \"1\"], \"y\": [0.77867, 0.74824, 0.74824, 0.76861, 0.77867], \"mode\": \"lines+markers\", \"name\": \"RaykarDS\", \"xaxis\": \"x1\", \"yaxis\": \"y1\"}, {\"type\": \"scatter\", \"x\": [\"0\", \"0.2\", \"0.5\", \"0.8\", \"1\"], \"y\": [0.74824, 0.80228, 0.74824, 0.79914, 0.99937], \"mode\": \"lines+markers\", \"name\": \"RaykarDS_l\", \"xaxis\": \"x1\", \"yaxis\": \"y1\"}, {\"type\": \"scatter\", \"x\": [\"0\", \"0.2\", \"0.5\", \"0.8\", \"1\"], \"y\": [0.74824, 0.74824, 0.74824, 0.74824, 0.74824], \"mode\": \"lines+markers\", \"name\": \"DS\", \"xaxis\": \"x1\", \"yaxis\": \"y1\"}, {\"type\": \"scatter\", \"x\": [\"0\", \"0.2\", \"0.5\", \"0.8\", \"1\"], \"y\": [0.00063, 0.42513, 0.50053, 0.57487, 0.99937], \"mode\": \"lines+markers\", \"name\": \"Raykar\", \"xaxis\": \"x1\", \"yaxis\": \"y1\"}], {\"xaxis1\": {\"domain\": [0.0, 1.0], \"anchor\": \"y1\"}, \"yaxis1\": {\"domain\": [0.0, 1.0], \"anchor\": \"x1\"}, \"annotations\": [{\"y\": 1.0, \"xref\": \"paper\", \"x\": 0.5, \"yref\": \"paper\", \"text\": \"METHOD generate_points ([0.6, 0.6, 0.6, 0.7, 0.7], [0.6, 0.6, 0.6, 0.7, 0.7])\", \"showarrow\": false, \"font\": {\"size\": 16}, \"xanchor\": \"center\", \"yanchor\": \"bottom\"}]}, {\"showLink\": true, \"linkText\": \"Export to plot.ly\"})});</script>"
      ],
      "text/vnd.plotly.v1+html": [
       "<div id=\"9a4a5675-e975-44d0-a41c-b2c29ec38247\" style=\"height: 525px; width: 100%;\" class=\"plotly-graph-div\"></div><script type=\"text/javascript\">require([\"plotly\"], function(Plotly) { window.PLOTLYENV=window.PLOTLYENV || {};window.PLOTLYENV.BASE_URL=\"https://plot.ly\";Plotly.newPlot(\"9a4a5675-e975-44d0-a41c-b2c29ec38247\", [{\"type\": \"scatter\", \"x\": [\"0\", \"0.2\", \"0.5\", \"0.8\", \"1\"], \"y\": [0.77867, 0.74824, 0.74824, 0.76861, 0.77867], \"mode\": \"lines+markers\", \"name\": \"RaykarDS\", \"xaxis\": \"x1\", \"yaxis\": \"y1\"}, {\"type\": \"scatter\", \"x\": [\"0\", \"0.2\", \"0.5\", \"0.8\", \"1\"], \"y\": [0.74824, 0.80228, 0.74824, 0.79914, 0.99937], \"mode\": \"lines+markers\", \"name\": \"RaykarDS_l\", \"xaxis\": \"x1\", \"yaxis\": \"y1\"}, {\"type\": \"scatter\", \"x\": [\"0\", \"0.2\", \"0.5\", \"0.8\", \"1\"], \"y\": [0.74824, 0.74824, 0.74824, 0.74824, 0.74824], \"mode\": \"lines+markers\", \"name\": \"DS\", \"xaxis\": \"x1\", \"yaxis\": \"y1\"}, {\"type\": \"scatter\", \"x\": [\"0\", \"0.2\", \"0.5\", \"0.8\", \"1\"], \"y\": [0.00063, 0.42513, 0.50053, 0.57487, 0.99937], \"mode\": \"lines+markers\", \"name\": \"Raykar\", \"xaxis\": \"x1\", \"yaxis\": \"y1\"}], {\"xaxis1\": {\"domain\": [0.0, 1.0], \"anchor\": \"y1\"}, \"yaxis1\": {\"domain\": [0.0, 1.0], \"anchor\": \"x1\"}, \"annotations\": [{\"y\": 1.0, \"xref\": \"paper\", \"x\": 0.5, \"yref\": \"paper\", \"text\": \"METHOD generate_points ([0.6, 0.6, 0.6, 0.7, 0.7], [0.6, 0.6, 0.6, 0.7, 0.7])\", \"showarrow\": false, \"font\": {\"size\": 16}, \"xanchor\": \"center\", \"yanchor\": \"bottom\"}]}, {\"showLink\": true, \"linkText\": \"Export to plot.ly\"})});</script>"
      ]
     },
     "metadata": {},
     "output_type": "display_data"
    },
    {
     "name": "stdout",
     "output_type": "stream",
     "text": [
      "This is the format of your plot grid:\n",
      "[ (1,1) x1,y1 ]\n",
      "\n"
     ]
    },
    {
     "data": {
      "application/vnd.plotly.v1+json": {
       "data": [
        {
         "mode": "lines+markers",
         "name": "RaykarDS",
         "type": "scatter",
         "x": [
          "0",
          "0.2",
          "0.5",
          "0.8",
          "1"
         ],
         "xaxis": "x1",
         "y": [
          0.83815,
          0.83815,
          0.83815,
          0.83815,
          0.83815
         ],
         "yaxis": "y1"
        },
        {
         "mode": "lines+markers",
         "name": "RaykarDS_l",
         "type": "scatter",
         "x": [
          "0",
          "0.2",
          "0.5",
          "0.8",
          "1"
         ],
         "xaxis": "x1",
         "y": [
          0.83815,
          0.86679,
          0.83815,
          0.80314,
          0.99961
         ],
         "yaxis": "y1"
        },
        {
         "mode": "lines+markers",
         "name": "DS",
         "type": "scatter",
         "x": [
          "0",
          "0.2",
          "0.5",
          "0.8",
          "1"
         ],
         "xaxis": "x1",
         "y": [
          0.83815,
          0.83815,
          0.83815,
          0.83815,
          0.83815
         ],
         "yaxis": "y1"
        },
        {
         "mode": "lines+markers",
         "name": "Raykar",
         "type": "scatter",
         "x": [
          "0",
          "0.2",
          "0.5",
          "0.8",
          "1"
         ],
         "xaxis": "x1",
         "y": [
          0.00039,
          0.20408,
          0.49934,
          0.79592,
          0.99961
         ],
         "yaxis": "y1"
        }
       ],
       "layout": {
        "annotations": [
         {
          "font": {
           "size": 16
          },
          "showarrow": false,
          "text": "METHOD generate_points ([0.6, 0.7, 0.7, 0.7, 0.8], [0.6, 0.7, 0.7, 0.7, 0.8])",
          "x": 0.5,
          "xanchor": "center",
          "xref": "paper",
          "y": 1,
          "yanchor": "bottom",
          "yref": "paper"
         }
        ],
        "xaxis1": {
         "anchor": "y1",
         "domain": [
          0,
          1
         ]
        },
        "yaxis1": {
         "anchor": "x1",
         "domain": [
          0,
          1
         ]
        }
       }
      },
      "text/html": [
       "<div id=\"079b9d12-210f-489a-b04f-6888dc33c2df\" style=\"height: 525px; width: 100%;\" class=\"plotly-graph-div\"></div><script type=\"text/javascript\">require([\"plotly\"], function(Plotly) { window.PLOTLYENV=window.PLOTLYENV || {};window.PLOTLYENV.BASE_URL=\"https://plot.ly\";Plotly.newPlot(\"079b9d12-210f-489a-b04f-6888dc33c2df\", [{\"type\": \"scatter\", \"x\": [\"0\", \"0.2\", \"0.5\", \"0.8\", \"1\"], \"y\": [0.83815, 0.83815, 0.83815, 0.83815, 0.83815], \"mode\": \"lines+markers\", \"name\": \"RaykarDS\", \"xaxis\": \"x1\", \"yaxis\": \"y1\"}, {\"type\": \"scatter\", \"x\": [\"0\", \"0.2\", \"0.5\", \"0.8\", \"1\"], \"y\": [0.83815, 0.86679, 0.83815, 0.80314, 0.99961], \"mode\": \"lines+markers\", \"name\": \"RaykarDS_l\", \"xaxis\": \"x1\", \"yaxis\": \"y1\"}, {\"type\": \"scatter\", \"x\": [\"0\", \"0.2\", \"0.5\", \"0.8\", \"1\"], \"y\": [0.83815, 0.83815, 0.83815, 0.83815, 0.83815], \"mode\": \"lines+markers\", \"name\": \"DS\", \"xaxis\": \"x1\", \"yaxis\": \"y1\"}, {\"type\": \"scatter\", \"x\": [\"0\", \"0.2\", \"0.5\", \"0.8\", \"1\"], \"y\": [0.00039, 0.20408, 0.49934, 0.79592, 0.99961], \"mode\": \"lines+markers\", \"name\": \"Raykar\", \"xaxis\": \"x1\", \"yaxis\": \"y1\"}], {\"xaxis1\": {\"domain\": [0.0, 1.0], \"anchor\": \"y1\"}, \"yaxis1\": {\"domain\": [0.0, 1.0], \"anchor\": \"x1\"}, \"annotations\": [{\"y\": 1.0, \"xref\": \"paper\", \"x\": 0.5, \"yref\": \"paper\", \"text\": \"METHOD generate_points ([0.6, 0.7, 0.7, 0.7, 0.8], [0.6, 0.7, 0.7, 0.7, 0.8])\", \"showarrow\": false, \"font\": {\"size\": 16}, \"xanchor\": \"center\", \"yanchor\": \"bottom\"}]}, {\"showLink\": true, \"linkText\": \"Export to plot.ly\"})});</script>"
      ],
      "text/vnd.plotly.v1+html": [
       "<div id=\"079b9d12-210f-489a-b04f-6888dc33c2df\" style=\"height: 525px; width: 100%;\" class=\"plotly-graph-div\"></div><script type=\"text/javascript\">require([\"plotly\"], function(Plotly) { window.PLOTLYENV=window.PLOTLYENV || {};window.PLOTLYENV.BASE_URL=\"https://plot.ly\";Plotly.newPlot(\"079b9d12-210f-489a-b04f-6888dc33c2df\", [{\"type\": \"scatter\", \"x\": [\"0\", \"0.2\", \"0.5\", \"0.8\", \"1\"], \"y\": [0.83815, 0.83815, 0.83815, 0.83815, 0.83815], \"mode\": \"lines+markers\", \"name\": \"RaykarDS\", \"xaxis\": \"x1\", \"yaxis\": \"y1\"}, {\"type\": \"scatter\", \"x\": [\"0\", \"0.2\", \"0.5\", \"0.8\", \"1\"], \"y\": [0.83815, 0.86679, 0.83815, 0.80314, 0.99961], \"mode\": \"lines+markers\", \"name\": \"RaykarDS_l\", \"xaxis\": \"x1\", \"yaxis\": \"y1\"}, {\"type\": \"scatter\", \"x\": [\"0\", \"0.2\", \"0.5\", \"0.8\", \"1\"], \"y\": [0.83815, 0.83815, 0.83815, 0.83815, 0.83815], \"mode\": \"lines+markers\", \"name\": \"DS\", \"xaxis\": \"x1\", \"yaxis\": \"y1\"}, {\"type\": \"scatter\", \"x\": [\"0\", \"0.2\", \"0.5\", \"0.8\", \"1\"], \"y\": [0.00039, 0.20408, 0.49934, 0.79592, 0.99961], \"mode\": \"lines+markers\", \"name\": \"Raykar\", \"xaxis\": \"x1\", \"yaxis\": \"y1\"}], {\"xaxis1\": {\"domain\": [0.0, 1.0], \"anchor\": \"y1\"}, \"yaxis1\": {\"domain\": [0.0, 1.0], \"anchor\": \"x1\"}, \"annotations\": [{\"y\": 1.0, \"xref\": \"paper\", \"x\": 0.5, \"yref\": \"paper\", \"text\": \"METHOD generate_points ([0.6, 0.7, 0.7, 0.7, 0.8], [0.6, 0.7, 0.7, 0.7, 0.8])\", \"showarrow\": false, \"font\": {\"size\": 16}, \"xanchor\": \"center\", \"yanchor\": \"bottom\"}]}, {\"showLink\": true, \"linkText\": \"Export to plot.ly\"})});</script>"
      ]
     },
     "metadata": {},
     "output_type": "display_data"
    },
    {
     "name": "stdout",
     "output_type": "stream",
     "text": [
      "This is the format of your plot grid:\n",
      "[ (1,1) x1,y1 ]\n",
      "\n"
     ]
    },
    {
     "data": {
      "application/vnd.plotly.v1+json": {
       "data": [
        {
         "mode": "lines+markers",
         "name": "RaykarDS",
         "type": "scatter",
         "x": [
          "0",
          "0.2",
          "0.5",
          "0.8",
          "1"
         ],
         "xaxis": "x1",
         "y": [
          0.9814,
          0.95703,
          0.92194,
          0.95705,
          0.98142
         ],
         "yaxis": "y1"
        },
        {
         "mode": "lines+markers",
         "name": "RaykarDS_l",
         "type": "scatter",
         "x": [
          "0",
          "0.2",
          "0.5",
          "0.8",
          "1"
         ],
         "xaxis": "x1",
         "y": [
          0.92021,
          0.95323,
          0.92042,
          0.8048,
          0.99984
         ],
         "yaxis": "y1"
        },
        {
         "mode": "lines+markers",
         "name": "DS",
         "type": "scatter",
         "x": [
          "0",
          "0.2",
          "0.5",
          "0.8",
          "1"
         ],
         "xaxis": "x1",
         "y": [
          0.92021,
          0.91999,
          0.92035,
          0.92028,
          0.92006
         ],
         "yaxis": "y1"
        },
        {
         "mode": "lines+markers",
         "name": "Raykar",
         "type": "scatter",
         "x": [
          "0",
          "0.2",
          "0.5",
          "0.8",
          "1"
         ],
         "xaxis": "x1",
         "y": [
          0.00016,
          0.20257,
          0.49896,
          0.79743,
          0.99984
         ],
         "yaxis": "y1"
        }
       ],
       "layout": {
        "annotations": [
         {
          "font": {
           "size": 16
          },
          "showarrow": false,
          "text": "METHOD generate_points ([0.6, 0.7, 0.7, 0.8, 0.9, 0.9], [0.6, 0.7, 0.7, 0.8, 0.9, 0.9])",
          "x": 0.5,
          "xanchor": "center",
          "xref": "paper",
          "y": 1,
          "yanchor": "bottom",
          "yref": "paper"
         }
        ],
        "xaxis1": {
         "anchor": "y1",
         "domain": [
          0,
          1
         ]
        },
        "yaxis1": {
         "anchor": "x1",
         "domain": [
          0,
          1
         ]
        }
       }
      },
      "text/html": [
       "<div id=\"99b2a8d1-6e4a-4826-be96-1dc338e810f1\" style=\"height: 525px; width: 100%;\" class=\"plotly-graph-div\"></div><script type=\"text/javascript\">require([\"plotly\"], function(Plotly) { window.PLOTLYENV=window.PLOTLYENV || {};window.PLOTLYENV.BASE_URL=\"https://plot.ly\";Plotly.newPlot(\"99b2a8d1-6e4a-4826-be96-1dc338e810f1\", [{\"type\": \"scatter\", \"x\": [\"0\", \"0.2\", \"0.5\", \"0.8\", \"1\"], \"y\": [0.9814, 0.95703, 0.92194, 0.95705, 0.98142], \"mode\": \"lines+markers\", \"name\": \"RaykarDS\", \"xaxis\": \"x1\", \"yaxis\": \"y1\"}, {\"type\": \"scatter\", \"x\": [\"0\", \"0.2\", \"0.5\", \"0.8\", \"1\"], \"y\": [0.92021, 0.95323, 0.92042, 0.8048, 0.99984], \"mode\": \"lines+markers\", \"name\": \"RaykarDS_l\", \"xaxis\": \"x1\", \"yaxis\": \"y1\"}, {\"type\": \"scatter\", \"x\": [\"0\", \"0.2\", \"0.5\", \"0.8\", \"1\"], \"y\": [0.92021, 0.91999, 0.92035, 0.92028, 0.92006], \"mode\": \"lines+markers\", \"name\": \"DS\", \"xaxis\": \"x1\", \"yaxis\": \"y1\"}, {\"type\": \"scatter\", \"x\": [\"0\", \"0.2\", \"0.5\", \"0.8\", \"1\"], \"y\": [0.00016, 0.20257, 0.49896, 0.79743, 0.99984], \"mode\": \"lines+markers\", \"name\": \"Raykar\", \"xaxis\": \"x1\", \"yaxis\": \"y1\"}], {\"xaxis1\": {\"domain\": [0.0, 1.0], \"anchor\": \"y1\"}, \"yaxis1\": {\"domain\": [0.0, 1.0], \"anchor\": \"x1\"}, \"annotations\": [{\"y\": 1.0, \"xref\": \"paper\", \"x\": 0.5, \"yref\": \"paper\", \"text\": \"METHOD generate_points ([0.6, 0.7, 0.7, 0.8, 0.9, 0.9], [0.6, 0.7, 0.7, 0.8, 0.9, 0.9])\", \"showarrow\": false, \"font\": {\"size\": 16}, \"xanchor\": \"center\", \"yanchor\": \"bottom\"}]}, {\"showLink\": true, \"linkText\": \"Export to plot.ly\"})});</script>"
      ],
      "text/vnd.plotly.v1+html": [
       "<div id=\"99b2a8d1-6e4a-4826-be96-1dc338e810f1\" style=\"height: 525px; width: 100%;\" class=\"plotly-graph-div\"></div><script type=\"text/javascript\">require([\"plotly\"], function(Plotly) { window.PLOTLYENV=window.PLOTLYENV || {};window.PLOTLYENV.BASE_URL=\"https://plot.ly\";Plotly.newPlot(\"99b2a8d1-6e4a-4826-be96-1dc338e810f1\", [{\"type\": \"scatter\", \"x\": [\"0\", \"0.2\", \"0.5\", \"0.8\", \"1\"], \"y\": [0.9814, 0.95703, 0.92194, 0.95705, 0.98142], \"mode\": \"lines+markers\", \"name\": \"RaykarDS\", \"xaxis\": \"x1\", \"yaxis\": \"y1\"}, {\"type\": \"scatter\", \"x\": [\"0\", \"0.2\", \"0.5\", \"0.8\", \"1\"], \"y\": [0.92021, 0.95323, 0.92042, 0.8048, 0.99984], \"mode\": \"lines+markers\", \"name\": \"RaykarDS_l\", \"xaxis\": \"x1\", \"yaxis\": \"y1\"}, {\"type\": \"scatter\", \"x\": [\"0\", \"0.2\", \"0.5\", \"0.8\", \"1\"], \"y\": [0.92021, 0.91999, 0.92035, 0.92028, 0.92006], \"mode\": \"lines+markers\", \"name\": \"DS\", \"xaxis\": \"x1\", \"yaxis\": \"y1\"}, {\"type\": \"scatter\", \"x\": [\"0\", \"0.2\", \"0.5\", \"0.8\", \"1\"], \"y\": [0.00016, 0.20257, 0.49896, 0.79743, 0.99984], \"mode\": \"lines+markers\", \"name\": \"Raykar\", \"xaxis\": \"x1\", \"yaxis\": \"y1\"}], {\"xaxis1\": {\"domain\": [0.0, 1.0], \"anchor\": \"y1\"}, \"yaxis1\": {\"domain\": [0.0, 1.0], \"anchor\": \"x1\"}, \"annotations\": [{\"y\": 1.0, \"xref\": \"paper\", \"x\": 0.5, \"yref\": \"paper\", \"text\": \"METHOD generate_points ([0.6, 0.7, 0.7, 0.8, 0.9, 0.9], [0.6, 0.7, 0.7, 0.8, 0.9, 0.9])\", \"showarrow\": false, \"font\": {\"size\": 16}, \"xanchor\": \"center\", \"yanchor\": \"bottom\"}]}, {\"showLink\": true, \"linkText\": \"Export to plot.ly\"})});</script>"
      ]
     },
     "metadata": {},
     "output_type": "display_data"
    },
    {
     "name": "stdout",
     "output_type": "stream",
     "text": [
      "This is the format of your plot grid:\n",
      "[ (1,1) x1,y1 ]\n",
      "\n"
     ]
    },
    {
     "data": {
      "application/vnd.plotly.v1+json": {
       "data": [
        {
         "mode": "lines+markers",
         "name": "RaykarDS",
         "type": "scatter",
         "x": [
          "0",
          "0.2",
          "0.5",
          "0.8",
          "1"
         ],
         "xaxis": "x1",
         "y": [
          0.9471,
          0.93011,
          0.9056,
          0.93015,
          0.9471
         ],
         "yaxis": "y1"
        },
        {
         "mode": "lines+markers",
         "name": "RaykarDS_l",
         "type": "scatter",
         "x": [
          "0",
          "0.2",
          "0.5",
          "0.8",
          "1"
         ],
         "xaxis": "x1",
         "y": [
          0.89124,
          0.90345,
          0.89124,
          0.80389,
          0.99981
         ],
         "yaxis": "y1"
        },
        {
         "mode": "lines+markers",
         "name": "DS",
         "type": "scatter",
         "x": [
          "0",
          "0.2",
          "0.5",
          "0.8",
          "1"
         ],
         "xaxis": "x1",
         "y": [
          0.89124,
          0.89124,
          0.89124,
          0.89124,
          0.89124
         ],
         "yaxis": "y1"
        },
        {
         "mode": "lines+markers",
         "name": "Raykar",
         "type": "scatter",
         "x": [
          "0",
          "0.2",
          "0.5",
          "0.8",
          "1"
         ],
         "xaxis": "x1",
         "y": [
          0.00019,
          0.20274,
          0.49895,
          0.79726,
          0.99981
         ],
         "yaxis": "y1"
        }
       ],
       "layout": {
        "annotations": [
         {
          "font": {
           "size": 16
          },
          "showarrow": false,
          "text": "METHOD generate_points ([0.6, 0.7, 0.7, 0.8, 0.9], [0.6, 0.7, 0.7, 0.8, 0.9])",
          "x": 0.5,
          "xanchor": "center",
          "xref": "paper",
          "y": 1,
          "yanchor": "bottom",
          "yref": "paper"
         }
        ],
        "xaxis1": {
         "anchor": "y1",
         "domain": [
          0,
          1
         ]
        },
        "yaxis1": {
         "anchor": "x1",
         "domain": [
          0,
          1
         ]
        }
       }
      },
      "text/html": [
       "<div id=\"72766421-e76a-4583-bb4b-239a5b2dcfbd\" style=\"height: 525px; width: 100%;\" class=\"plotly-graph-div\"></div><script type=\"text/javascript\">require([\"plotly\"], function(Plotly) { window.PLOTLYENV=window.PLOTLYENV || {};window.PLOTLYENV.BASE_URL=\"https://plot.ly\";Plotly.newPlot(\"72766421-e76a-4583-bb4b-239a5b2dcfbd\", [{\"type\": \"scatter\", \"x\": [\"0\", \"0.2\", \"0.5\", \"0.8\", \"1\"], \"y\": [0.9471, 0.93011, 0.9056, 0.93015, 0.9471], \"mode\": \"lines+markers\", \"name\": \"RaykarDS\", \"xaxis\": \"x1\", \"yaxis\": \"y1\"}, {\"type\": \"scatter\", \"x\": [\"0\", \"0.2\", \"0.5\", \"0.8\", \"1\"], \"y\": [0.89124, 0.90345, 0.89124, 0.80389, 0.99981], \"mode\": \"lines+markers\", \"name\": \"RaykarDS_l\", \"xaxis\": \"x1\", \"yaxis\": \"y1\"}, {\"type\": \"scatter\", \"x\": [\"0\", \"0.2\", \"0.5\", \"0.8\", \"1\"], \"y\": [0.89124, 0.89124, 0.89124, 0.89124, 0.89124], \"mode\": \"lines+markers\", \"name\": \"DS\", \"xaxis\": \"x1\", \"yaxis\": \"y1\"}, {\"type\": \"scatter\", \"x\": [\"0\", \"0.2\", \"0.5\", \"0.8\", \"1\"], \"y\": [0.00019, 0.20274, 0.49895, 0.79726, 0.99981], \"mode\": \"lines+markers\", \"name\": \"Raykar\", \"xaxis\": \"x1\", \"yaxis\": \"y1\"}], {\"xaxis1\": {\"domain\": [0.0, 1.0], \"anchor\": \"y1\"}, \"yaxis1\": {\"domain\": [0.0, 1.0], \"anchor\": \"x1\"}, \"annotations\": [{\"y\": 1.0, \"xref\": \"paper\", \"x\": 0.5, \"yref\": \"paper\", \"text\": \"METHOD generate_points ([0.6, 0.7, 0.7, 0.8, 0.9], [0.6, 0.7, 0.7, 0.8, 0.9])\", \"showarrow\": false, \"font\": {\"size\": 16}, \"xanchor\": \"center\", \"yanchor\": \"bottom\"}]}, {\"showLink\": true, \"linkText\": \"Export to plot.ly\"})});</script>"
      ],
      "text/vnd.plotly.v1+html": [
       "<div id=\"72766421-e76a-4583-bb4b-239a5b2dcfbd\" style=\"height: 525px; width: 100%;\" class=\"plotly-graph-div\"></div><script type=\"text/javascript\">require([\"plotly\"], function(Plotly) { window.PLOTLYENV=window.PLOTLYENV || {};window.PLOTLYENV.BASE_URL=\"https://plot.ly\";Plotly.newPlot(\"72766421-e76a-4583-bb4b-239a5b2dcfbd\", [{\"type\": \"scatter\", \"x\": [\"0\", \"0.2\", \"0.5\", \"0.8\", \"1\"], \"y\": [0.9471, 0.93011, 0.9056, 0.93015, 0.9471], \"mode\": \"lines+markers\", \"name\": \"RaykarDS\", \"xaxis\": \"x1\", \"yaxis\": \"y1\"}, {\"type\": \"scatter\", \"x\": [\"0\", \"0.2\", \"0.5\", \"0.8\", \"1\"], \"y\": [0.89124, 0.90345, 0.89124, 0.80389, 0.99981], \"mode\": \"lines+markers\", \"name\": \"RaykarDS_l\", \"xaxis\": \"x1\", \"yaxis\": \"y1\"}, {\"type\": \"scatter\", \"x\": [\"0\", \"0.2\", \"0.5\", \"0.8\", \"1\"], \"y\": [0.89124, 0.89124, 0.89124, 0.89124, 0.89124], \"mode\": \"lines+markers\", \"name\": \"DS\", \"xaxis\": \"x1\", \"yaxis\": \"y1\"}, {\"type\": \"scatter\", \"x\": [\"0\", \"0.2\", \"0.5\", \"0.8\", \"1\"], \"y\": [0.00019, 0.20274, 0.49895, 0.79726, 0.99981], \"mode\": \"lines+markers\", \"name\": \"Raykar\", \"xaxis\": \"x1\", \"yaxis\": \"y1\"}], {\"xaxis1\": {\"domain\": [0.0, 1.0], \"anchor\": \"y1\"}, \"yaxis1\": {\"domain\": [0.0, 1.0], \"anchor\": \"x1\"}, \"annotations\": [{\"y\": 1.0, \"xref\": \"paper\", \"x\": 0.5, \"yref\": \"paper\", \"text\": \"METHOD generate_points ([0.6, 0.7, 0.7, 0.8, 0.9], [0.6, 0.7, 0.7, 0.8, 0.9])\", \"showarrow\": false, \"font\": {\"size\": 16}, \"xanchor\": \"center\", \"yanchor\": \"bottom\"}]}, {\"showLink\": true, \"linkText\": \"Export to plot.ly\"})});</script>"
      ]
     },
     "metadata": {},
     "output_type": "display_data"
    }
   ],
   "source": [
    "show_plots('acc', transforme_data(points_01))"
   ]
  },
  {
   "cell_type": "code",
   "execution_count": null,
   "metadata": {},
   "outputs": [],
   "source": []
  }
 ],
 "metadata": {
  "kernelspec": {
   "display_name": "tensorflow",
   "language": "python",
   "name": "tensorflow"
  },
  "language_info": {
   "codemirror_mode": {
    "name": "ipython",
    "version": 3
   },
   "file_extension": ".py",
   "mimetype": "text/x-python",
   "name": "python",
   "nbconvert_exporter": "python",
   "pygments_lexer": "ipython3",
   "version": "3.6.1"
  }
 },
 "nbformat": 4,
 "nbformat_minor": 2
}
