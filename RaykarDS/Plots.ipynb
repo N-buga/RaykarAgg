{
 "cells": [
  {
   "cell_type": "code",
   "execution_count": 3,
   "metadata": {},
   "outputs": [
    {
     "data": {
      "text/html": [
       "<script type=\"text/javascript\">window.PlotlyConfig = {MathJaxConfig: 'local'};</script><script type=\"text/javascript\">if (window.MathJax) {MathJax.Hub.Config({SVG: {font: \"STIX-Web\"}});}</script><script>requirejs.config({paths: { 'plotly': ['https://cdn.plot.ly/plotly-latest.min']},});if(!window._Plotly) {require(['plotly'],function(plotly) {window._Plotly=plotly;});}</script>"
      ],
      "text/vnd.plotly.v1+html": [
       "<script type=\"text/javascript\">window.PlotlyConfig = {MathJaxConfig: 'local'};</script><script type=\"text/javascript\">if (window.MathJax) {MathJax.Hub.Config({SVG: {font: \"STIX-Web\"}});}</script><script>requirejs.config({paths: { 'plotly': ['https://cdn.plot.ly/plotly-latest.min']},});if(!window._Plotly) {require(['plotly'],function(plotly) {window._Plotly=plotly;});}</script>"
      ]
     },
     "metadata": {},
     "output_type": "display_data"
    }
   ],
   "source": [
    "from plotly.offline import iplot, init_notebook_mode\n",
    "import plotly.graph_objs as go\n",
    "from plotly import tools\n",
    "import json\n",
    "import os\n",
    "import itertools\n",
    "\n",
    "init_notebook_mode(connected=True)"
   ]
  },
  {
   "cell_type": "code",
   "execution_count": 3,
   "metadata": {},
   "outputs": [],
   "source": [
    "def transforme_data(points):\n",
    "    gs = ((method_name, a_b, l, feature, algo, res) for method_name, d1 in points.items() for a_b, d2 in d1.items() for l,d3 in d2.items() for feature, d4 in d3.items() for algo, res in d4.items())\n",
    "    plots_descr = {}\n",
    "    for gr in gs:\n",
    "        m_name, a_b, l, f, a, r = gr\n",
    "        if f not in plots_descr:\n",
    "            plots_descr[f] = {}\n",
    "        if m_name not in plots_descr[f]:\n",
    "            plots_descr[f][m_name] = {}\n",
    "        if a_b not in plots_descr[f][m_name]:\n",
    "            plots_descr[f][m_name][a_b] = {}\n",
    "        if a not in plots_descr[f][m_name][a_b]:\n",
    "            plots_descr[f][m_name][a_b][a] = []\n",
    "\n",
    "        plots_descr[f][m_name][a_b][a].append((l, r))\n",
    "    for f in plots_descr:\n",
    "        for m_name in plots_descr[f]:\n",
    "            for a_b in plots_descr[f][m_name]:\n",
    "                for a in plots_descr[f][m_name][a_b]:\n",
    "                    ps = plots_descr[f][m_name][a_b][a]\n",
    "                    plots_descr[f][m_name][a_b][a] = sorted(ps)\n",
    "    return plots_descr"
   ]
  },
  {
   "cell_type": "code",
   "execution_count": 5,
   "metadata": {},
   "outputs": [],
   "source": [
    "def show_plots(f_name, plots_descr):\n",
    "    print(f_name)\n",
    "    for method_name in plots_descr[f_name]:\n",
    "        for a_b in plots_descr[f_name][method_name]:\n",
    "            fig = tools.make_subplots(rows=1, cols=1, subplot_titles=[method_name + ' ' + a_b])\n",
    "            plot_lines = plots_descr[f_name][method_name][a_b]\n",
    "            for num, line_label in enumerate(plot_lines):\n",
    "                l = []\n",
    "                mean_res = []\n",
    "                for point_label in plot_lines[line_label]:\n",
    "                    l.append(point_label[0])\n",
    "                    mean_res.append(point_label[1])\n",
    "\n",
    "                trace = go.Scatter(\n",
    "                    x=l,\n",
    "                    y=mean_res,\n",
    "                    mode='lines+markers',\n",
    "                    name=line_label,\n",
    "                )\n",
    "\n",
    "                fig.append_trace(trace, 1, 1)\n",
    "            iplot(fig)"
   ]
  },
  {
   "cell_type": "markdown",
   "metadata": {},
   "source": [
    "# Simulated Data"
   ]
  },
  {
   "cell_type": "code",
   "execution_count": 8,
   "metadata": {},
   "outputs": [],
   "source": [
    "dir_ = 'experiments/simulation'\n",
    "file_name = 'res_test_old.json'"
   ]
  },
  {
   "cell_type": "code",
   "execution_count": 9,
   "metadata": {},
   "outputs": [],
   "source": [
    "with open(os.path.join(dir_, file_name), 'r') as file_from:\n",
    "    old_points = json.load(file_from)"
   ]
  },
  {
   "cell_type": "code",
   "execution_count": 10,
   "metadata": {},
   "outputs": [
    {
     "name": "stdout",
     "output_type": "stream",
     "text": [
      "acc\n",
      "This is the format of your plot grid:\n",
      "[ (1,1) x1,y1 ]\n",
      "\n"
     ]
    },
    {
     "data": {
      "application/vnd.plotly.v1+json": {
       "config": {
        "linkText": "Export to plot.ly",
        "plotlyServerURL": "https://plot.ly",
        "showLink": false
       },
       "data": [
        {
         "mode": "lines+markers",
         "name": "RaykarDS",
         "type": "scatter",
         "uid": "130d3dc5-97e1-48c4-8321-65de1f124a87",
         "x": [
          "0.49978",
          "0.60079",
          "0.7507",
          "0.89899",
          "1.0"
         ],
         "xaxis": "x",
         "y": [
          0.7518,
          0.74713,
          0.74838,
          0.77853,
          0.78557
         ],
         "yaxis": "y"
        },
        {
         "mode": "lines+markers",
         "name": "RaykarDS_l",
         "type": "scatter",
         "uid": "e4b9e439-eeec-44b5-95ec-7af33eb8c8c6",
         "x": [
          "0.49978",
          "0.60079",
          "0.7507",
          "0.89899",
          "1.0"
         ],
         "xaxis": "x",
         "y": [
          0.74905,
          0.70077,
          0.7512,
          0.89857,
          0.99945
         ],
         "yaxis": "y"
        },
        {
         "mode": "lines+markers",
         "name": "DS",
         "type": "scatter",
         "uid": "22ca3593-0560-42da-a393-cc41c2ab78aa",
         "x": [
          "0.49978",
          "0.60079",
          "0.7507",
          "0.89899",
          "1.0"
         ],
         "xaxis": "x",
         "y": [
          0.74905,
          0.74905,
          0.74905,
          0.74905,
          0.74905
         ],
         "yaxis": "y"
        },
        {
         "mode": "lines+markers",
         "name": "Raykar",
         "type": "scatter",
         "uid": "7f3edb03-9f23-4506-825a-a7880659fab7",
         "x": [
          "0.49978",
          "0.60079",
          "0.7507",
          "0.89899",
          "1.0"
         ],
         "xaxis": "x",
         "y": [
          0.49968,
          0.40477,
          0.74772,
          0.89787,
          0.99945
         ],
         "yaxis": "y"
        }
       ],
       "layout": {
        "annotations": [
         {
          "font": {
           "size": 16
          },
          "showarrow": false,
          "text": "METHOD generate_AB_points ([0.6, 0.6, 0.6, 0.7, 0.7], [0.6, 0.6, 0.6, 0.7, 0.7])",
          "x": 0.5,
          "xanchor": "center",
          "xref": "paper",
          "y": 1,
          "yanchor": "bottom",
          "yref": "paper"
         }
        ],
        "xaxis": {
         "anchor": "y",
         "domain": [
          0,
          1
         ]
        },
        "yaxis": {
         "anchor": "x",
         "domain": [
          0,
          1
         ]
        }
       }
      },
      "text/html": [
       "<div id=\"a38f0763-7a41-47ea-9495-36adc8a7c911\" style=\"height: 525px; width: 100%;\" class=\"plotly-graph-div\"></div><script type=\"text/javascript\">require([\"plotly\"], function(Plotly) { window.PLOTLYENV=window.PLOTLYENV || {};window.PLOTLYENV.BASE_URL=\"https://plot.ly\";Plotly.newPlot(\"a38f0763-7a41-47ea-9495-36adc8a7c911\", [{\"mode\": \"lines+markers\", \"name\": \"RaykarDS\", \"x\": [\"0.49978\", \"0.60079\", \"0.7507\", \"0.89899\", \"1.0\"], \"y\": [0.7518, 0.74713, 0.74838, 0.77853, 0.78557], \"type\": \"scatter\", \"uid\": \"130d3dc5-97e1-48c4-8321-65de1f124a87\", \"xaxis\": \"x\", \"yaxis\": \"y\"}, {\"mode\": \"lines+markers\", \"name\": \"RaykarDS_l\", \"x\": [\"0.49978\", \"0.60079\", \"0.7507\", \"0.89899\", \"1.0\"], \"y\": [0.74905, 0.70077, 0.7512, 0.89857, 0.99945], \"type\": \"scatter\", \"uid\": \"e4b9e439-eeec-44b5-95ec-7af33eb8c8c6\", \"xaxis\": \"x\", \"yaxis\": \"y\"}, {\"mode\": \"lines+markers\", \"name\": \"DS\", \"x\": [\"0.49978\", \"0.60079\", \"0.7507\", \"0.89899\", \"1.0\"], \"y\": [0.74905, 0.74905, 0.74905, 0.74905, 0.74905], \"type\": \"scatter\", \"uid\": \"22ca3593-0560-42da-a393-cc41c2ab78aa\", \"xaxis\": \"x\", \"yaxis\": \"y\"}, {\"mode\": \"lines+markers\", \"name\": \"Raykar\", \"x\": [\"0.49978\", \"0.60079\", \"0.7507\", \"0.89899\", \"1.0\"], \"y\": [0.49968, 0.40477, 0.74772, 0.89787, 0.99945], \"type\": \"scatter\", \"uid\": \"7f3edb03-9f23-4506-825a-a7880659fab7\", \"xaxis\": \"x\", \"yaxis\": \"y\"}], {\"annotations\": [{\"font\": {\"size\": 16}, \"showarrow\": false, \"text\": \"METHOD generate_AB_points ([0.6, 0.6, 0.6, 0.7, 0.7], [0.6, 0.6, 0.6, 0.7, 0.7])\", \"x\": 0.5, \"xanchor\": \"center\", \"xref\": \"paper\", \"y\": 1.0, \"yanchor\": \"bottom\", \"yref\": \"paper\"}], \"xaxis\": {\"anchor\": \"y\", \"domain\": [0.0, 1.0]}, \"yaxis\": {\"anchor\": \"x\", \"domain\": [0.0, 1.0]}}, {\"showLink\": false, \"linkText\": \"Export to plot.ly\", \"plotlyServerURL\": \"https://plot.ly\"})});</script><script type=\"text/javascript\">window.addEventListener(\"resize\", function(){window._Plotly.Plots.resize(document.getElementById(\"a38f0763-7a41-47ea-9495-36adc8a7c911\"));});</script>"
      ],
      "text/vnd.plotly.v1+html": [
       "<div id=\"a38f0763-7a41-47ea-9495-36adc8a7c911\" style=\"height: 525px; width: 100%;\" class=\"plotly-graph-div\"></div><script type=\"text/javascript\">require([\"plotly\"], function(Plotly) { window.PLOTLYENV=window.PLOTLYENV || {};window.PLOTLYENV.BASE_URL=\"https://plot.ly\";Plotly.newPlot(\"a38f0763-7a41-47ea-9495-36adc8a7c911\", [{\"mode\": \"lines+markers\", \"name\": \"RaykarDS\", \"x\": [\"0.49978\", \"0.60079\", \"0.7507\", \"0.89899\", \"1.0\"], \"y\": [0.7518, 0.74713, 0.74838, 0.77853, 0.78557], \"type\": \"scatter\", \"uid\": \"130d3dc5-97e1-48c4-8321-65de1f124a87\", \"xaxis\": \"x\", \"yaxis\": \"y\"}, {\"mode\": \"lines+markers\", \"name\": \"RaykarDS_l\", \"x\": [\"0.49978\", \"0.60079\", \"0.7507\", \"0.89899\", \"1.0\"], \"y\": [0.74905, 0.70077, 0.7512, 0.89857, 0.99945], \"type\": \"scatter\", \"uid\": \"e4b9e439-eeec-44b5-95ec-7af33eb8c8c6\", \"xaxis\": \"x\", \"yaxis\": \"y\"}, {\"mode\": \"lines+markers\", \"name\": \"DS\", \"x\": [\"0.49978\", \"0.60079\", \"0.7507\", \"0.89899\", \"1.0\"], \"y\": [0.74905, 0.74905, 0.74905, 0.74905, 0.74905], \"type\": \"scatter\", \"uid\": \"22ca3593-0560-42da-a393-cc41c2ab78aa\", \"xaxis\": \"x\", \"yaxis\": \"y\"}, {\"mode\": \"lines+markers\", \"name\": \"Raykar\", \"x\": [\"0.49978\", \"0.60079\", \"0.7507\", \"0.89899\", \"1.0\"], \"y\": [0.49968, 0.40477, 0.74772, 0.89787, 0.99945], \"type\": \"scatter\", \"uid\": \"7f3edb03-9f23-4506-825a-a7880659fab7\", \"xaxis\": \"x\", \"yaxis\": \"y\"}], {\"annotations\": [{\"font\": {\"size\": 16}, \"showarrow\": false, \"text\": \"METHOD generate_AB_points ([0.6, 0.6, 0.6, 0.7, 0.7], [0.6, 0.6, 0.6, 0.7, 0.7])\", \"x\": 0.5, \"xanchor\": \"center\", \"xref\": \"paper\", \"y\": 1.0, \"yanchor\": \"bottom\", \"yref\": \"paper\"}], \"xaxis\": {\"anchor\": \"y\", \"domain\": [0.0, 1.0]}, \"yaxis\": {\"anchor\": \"x\", \"domain\": [0.0, 1.0]}}, {\"showLink\": false, \"linkText\": \"Export to plot.ly\", \"plotlyServerURL\": \"https://plot.ly\"})});</script><script type=\"text/javascript\">window.addEventListener(\"resize\", function(){window._Plotly.Plots.resize(document.getElementById(\"a38f0763-7a41-47ea-9495-36adc8a7c911\"));});</script>"
      ]
     },
     "metadata": {},
     "output_type": "display_data"
    },
    {
     "name": "stdout",
     "output_type": "stream",
     "text": [
      "This is the format of your plot grid:\n",
      "[ (1,1) x1,y1 ]\n",
      "\n"
     ]
    },
    {
     "data": {
      "application/vnd.plotly.v1+json": {
       "config": {
        "linkText": "Export to plot.ly",
        "plotlyServerURL": "https://plot.ly",
        "showLink": false
       },
       "data": [
        {
         "mode": "lines+markers",
         "name": "RaykarDS",
         "type": "scatter",
         "uid": "4cbf0395-7395-4985-89f4-53f194df4994",
         "x": [
          "0.49978",
          "0.60079",
          "0.7507",
          "0.89899",
          "1.0"
         ],
         "xaxis": "x",
         "y": [
          0.83876,
          0.83407,
          0.8358,
          0.84298,
          0.90621
         ],
         "yaxis": "y"
        },
        {
         "mode": "lines+markers",
         "name": "RaykarDS_l",
         "type": "scatter",
         "uid": "7f617d05-2013-4c85-a515-4d55ee8c84e3",
         "x": [
          "0.49978",
          "0.60079",
          "0.7507",
          "0.89899",
          "1.0"
         ],
         "xaxis": "x",
         "y": [
          0.83876,
          0.74895,
          0.76019,
          0.89885,
          0.99966
         ],
         "yaxis": "y"
        },
        {
         "mode": "lines+markers",
         "name": "DS",
         "type": "scatter",
         "uid": "5f1f2fcd-bb51-46ec-9eab-ea82a82071ec",
         "x": [
          "0.49978",
          "0.60079",
          "0.7507",
          "0.89899",
          "1.0"
         ],
         "xaxis": "x",
         "y": [
          0.83876,
          0.83876,
          0.83876,
          0.83876,
          0.83876
         ],
         "yaxis": "y"
        },
        {
         "mode": "lines+markers",
         "name": "Raykar",
         "type": "scatter",
         "uid": "e83548aa-ad13-4271-89bf-919fc66fb2d2",
         "x": [
          "0.49978",
          "0.60079",
          "0.7507",
          "0.89899",
          "1.0"
         ],
         "xaxis": "x",
         "y": [
          0.49834,
          0.40157,
          0.74822,
          0.89789,
          0.99966
         ],
         "yaxis": "y"
        }
       ],
       "layout": {
        "annotations": [
         {
          "font": {
           "size": 16
          },
          "showarrow": false,
          "text": "METHOD generate_AB_points ([0.6, 0.7, 0.7, 0.7, 0.8], [0.6, 0.7, 0.7, 0.7, 0.8])",
          "x": 0.5,
          "xanchor": "center",
          "xref": "paper",
          "y": 1,
          "yanchor": "bottom",
          "yref": "paper"
         }
        ],
        "xaxis": {
         "anchor": "y",
         "domain": [
          0,
          1
         ]
        },
        "yaxis": {
         "anchor": "x",
         "domain": [
          0,
          1
         ]
        }
       }
      },
      "text/html": [
       "<div id=\"9d0cb3ce-ac94-4b9d-827f-b3e864a4f991\" style=\"height: 525px; width: 100%;\" class=\"plotly-graph-div\"></div><script type=\"text/javascript\">require([\"plotly\"], function(Plotly) { window.PLOTLYENV=window.PLOTLYENV || {};window.PLOTLYENV.BASE_URL=\"https://plot.ly\";Plotly.newPlot(\"9d0cb3ce-ac94-4b9d-827f-b3e864a4f991\", [{\"mode\": \"lines+markers\", \"name\": \"RaykarDS\", \"x\": [\"0.49978\", \"0.60079\", \"0.7507\", \"0.89899\", \"1.0\"], \"y\": [0.83876, 0.83407, 0.8358, 0.84298, 0.90621], \"type\": \"scatter\", \"uid\": \"4cbf0395-7395-4985-89f4-53f194df4994\", \"xaxis\": \"x\", \"yaxis\": \"y\"}, {\"mode\": \"lines+markers\", \"name\": \"RaykarDS_l\", \"x\": [\"0.49978\", \"0.60079\", \"0.7507\", \"0.89899\", \"1.0\"], \"y\": [0.83876, 0.74895, 0.76019, 0.89885, 0.99966], \"type\": \"scatter\", \"uid\": \"7f617d05-2013-4c85-a515-4d55ee8c84e3\", \"xaxis\": \"x\", \"yaxis\": \"y\"}, {\"mode\": \"lines+markers\", \"name\": \"DS\", \"x\": [\"0.49978\", \"0.60079\", \"0.7507\", \"0.89899\", \"1.0\"], \"y\": [0.83876, 0.83876, 0.83876, 0.83876, 0.83876], \"type\": \"scatter\", \"uid\": \"5f1f2fcd-bb51-46ec-9eab-ea82a82071ec\", \"xaxis\": \"x\", \"yaxis\": \"y\"}, {\"mode\": \"lines+markers\", \"name\": \"Raykar\", \"x\": [\"0.49978\", \"0.60079\", \"0.7507\", \"0.89899\", \"1.0\"], \"y\": [0.49834, 0.40157, 0.74822, 0.89789, 0.99966], \"type\": \"scatter\", \"uid\": \"e83548aa-ad13-4271-89bf-919fc66fb2d2\", \"xaxis\": \"x\", \"yaxis\": \"y\"}], {\"annotations\": [{\"font\": {\"size\": 16}, \"showarrow\": false, \"text\": \"METHOD generate_AB_points ([0.6, 0.7, 0.7, 0.7, 0.8], [0.6, 0.7, 0.7, 0.7, 0.8])\", \"x\": 0.5, \"xanchor\": \"center\", \"xref\": \"paper\", \"y\": 1.0, \"yanchor\": \"bottom\", \"yref\": \"paper\"}], \"xaxis\": {\"anchor\": \"y\", \"domain\": [0.0, 1.0]}, \"yaxis\": {\"anchor\": \"x\", \"domain\": [0.0, 1.0]}}, {\"showLink\": false, \"linkText\": \"Export to plot.ly\", \"plotlyServerURL\": \"https://plot.ly\"})});</script><script type=\"text/javascript\">window.addEventListener(\"resize\", function(){window._Plotly.Plots.resize(document.getElementById(\"9d0cb3ce-ac94-4b9d-827f-b3e864a4f991\"));});</script>"
      ],
      "text/vnd.plotly.v1+html": [
       "<div id=\"9d0cb3ce-ac94-4b9d-827f-b3e864a4f991\" style=\"height: 525px; width: 100%;\" class=\"plotly-graph-div\"></div><script type=\"text/javascript\">require([\"plotly\"], function(Plotly) { window.PLOTLYENV=window.PLOTLYENV || {};window.PLOTLYENV.BASE_URL=\"https://plot.ly\";Plotly.newPlot(\"9d0cb3ce-ac94-4b9d-827f-b3e864a4f991\", [{\"mode\": \"lines+markers\", \"name\": \"RaykarDS\", \"x\": [\"0.49978\", \"0.60079\", \"0.7507\", \"0.89899\", \"1.0\"], \"y\": [0.83876, 0.83407, 0.8358, 0.84298, 0.90621], \"type\": \"scatter\", \"uid\": \"4cbf0395-7395-4985-89f4-53f194df4994\", \"xaxis\": \"x\", \"yaxis\": \"y\"}, {\"mode\": \"lines+markers\", \"name\": \"RaykarDS_l\", \"x\": [\"0.49978\", \"0.60079\", \"0.7507\", \"0.89899\", \"1.0\"], \"y\": [0.83876, 0.74895, 0.76019, 0.89885, 0.99966], \"type\": \"scatter\", \"uid\": \"7f617d05-2013-4c85-a515-4d55ee8c84e3\", \"xaxis\": \"x\", \"yaxis\": \"y\"}, {\"mode\": \"lines+markers\", \"name\": \"DS\", \"x\": [\"0.49978\", \"0.60079\", \"0.7507\", \"0.89899\", \"1.0\"], \"y\": [0.83876, 0.83876, 0.83876, 0.83876, 0.83876], \"type\": \"scatter\", \"uid\": \"5f1f2fcd-bb51-46ec-9eab-ea82a82071ec\", \"xaxis\": \"x\", \"yaxis\": \"y\"}, {\"mode\": \"lines+markers\", \"name\": \"Raykar\", \"x\": [\"0.49978\", \"0.60079\", \"0.7507\", \"0.89899\", \"1.0\"], \"y\": [0.49834, 0.40157, 0.74822, 0.89789, 0.99966], \"type\": \"scatter\", \"uid\": \"e83548aa-ad13-4271-89bf-919fc66fb2d2\", \"xaxis\": \"x\", \"yaxis\": \"y\"}], {\"annotations\": [{\"font\": {\"size\": 16}, \"showarrow\": false, \"text\": \"METHOD generate_AB_points ([0.6, 0.7, 0.7, 0.7, 0.8], [0.6, 0.7, 0.7, 0.7, 0.8])\", \"x\": 0.5, \"xanchor\": \"center\", \"xref\": \"paper\", \"y\": 1.0, \"yanchor\": \"bottom\", \"yref\": \"paper\"}], \"xaxis\": {\"anchor\": \"y\", \"domain\": [0.0, 1.0]}, \"yaxis\": {\"anchor\": \"x\", \"domain\": [0.0, 1.0]}}, {\"showLink\": false, \"linkText\": \"Export to plot.ly\", \"plotlyServerURL\": \"https://plot.ly\"})});</script><script type=\"text/javascript\">window.addEventListener(\"resize\", function(){window._Plotly.Plots.resize(document.getElementById(\"9d0cb3ce-ac94-4b9d-827f-b3e864a4f991\"));});</script>"
      ]
     },
     "metadata": {},
     "output_type": "display_data"
    },
    {
     "name": "stdout",
     "output_type": "stream",
     "text": [
      "This is the format of your plot grid:\n",
      "[ (1,1) x1,y1 ]\n",
      "\n"
     ]
    },
    {
     "data": {
      "application/vnd.plotly.v1+json": {
       "config": {
        "linkText": "Export to plot.ly",
        "plotlyServerURL": "https://plot.ly",
        "showLink": false
       },
       "data": [
        {
         "mode": "lines+markers",
         "name": "RaykarDS",
         "type": "scatter",
         "uid": "27f0e106-448c-4abf-a669-fee6e879cbc1",
         "x": [
          "0.49978",
          "0.60079",
          "0.7507",
          "0.89899",
          "1.0"
         ],
         "xaxis": "x",
         "y": [
          0.91812,
          0.90979,
          0.93947,
          0.9624,
          0.98024
         ],
         "yaxis": "y"
        },
        {
         "mode": "lines+markers",
         "name": "RaykarDS_l",
         "type": "scatter",
         "uid": "749635b4-edb3-41e6-902f-1eadbe342edc",
         "x": [
          "0.49978",
          "0.60079",
          "0.7507",
          "0.89899",
          "1.0"
         ],
         "xaxis": "x",
         "y": [
          0.91947,
          0.82278,
          0.7639,
          0.89973,
          0.99989
         ],
         "yaxis": "y"
        },
        {
         "mode": "lines+markers",
         "name": "DS",
         "type": "scatter",
         "uid": "2cbba46c-367b-4f29-a65a-60acf0729fbb",
         "x": [
          "0.49978",
          "0.60079",
          "0.7507",
          "0.89899",
          "1.0"
         ],
         "xaxis": "x",
         "y": [
          0.91969,
          0.92033,
          0.92027,
          0.91879,
          0.91943
         ],
         "yaxis": "y"
        },
        {
         "mode": "lines+markers",
         "name": "Raykar",
         "type": "scatter",
         "uid": "182e3c62-da02-4c5a-bd04-af30c9dee815",
         "x": [
          "0.49978",
          "0.60079",
          "0.7507",
          "0.89899",
          "1.0"
         ],
         "xaxis": "x",
         "y": [
          0.50198,
          0.5988,
          0.74878,
          0.89797,
          0.99989
         ],
         "yaxis": "y"
        }
       ],
       "layout": {
        "annotations": [
         {
          "font": {
           "size": 16
          },
          "showarrow": false,
          "text": "METHOD generate_AB_points ([0.6, 0.7, 0.7, 0.8, 0.9, 0.9], [0.6, 0.7, 0.7, 0.8, 0.9, 0.9])",
          "x": 0.5,
          "xanchor": "center",
          "xref": "paper",
          "y": 1,
          "yanchor": "bottom",
          "yref": "paper"
         }
        ],
        "xaxis": {
         "anchor": "y",
         "domain": [
          0,
          1
         ]
        },
        "yaxis": {
         "anchor": "x",
         "domain": [
          0,
          1
         ]
        }
       }
      },
      "text/html": [
       "<div id=\"506f0d5d-e2ac-4d92-9b61-f7277e9a0630\" style=\"height: 525px; width: 100%;\" class=\"plotly-graph-div\"></div><script type=\"text/javascript\">require([\"plotly\"], function(Plotly) { window.PLOTLYENV=window.PLOTLYENV || {};window.PLOTLYENV.BASE_URL=\"https://plot.ly\";Plotly.newPlot(\"506f0d5d-e2ac-4d92-9b61-f7277e9a0630\", [{\"mode\": \"lines+markers\", \"name\": \"RaykarDS\", \"x\": [\"0.49978\", \"0.60079\", \"0.7507\", \"0.89899\", \"1.0\"], \"y\": [0.91812, 0.90979, 0.93947, 0.9624, 0.98024], \"type\": \"scatter\", \"uid\": \"27f0e106-448c-4abf-a669-fee6e879cbc1\", \"xaxis\": \"x\", \"yaxis\": \"y\"}, {\"mode\": \"lines+markers\", \"name\": \"RaykarDS_l\", \"x\": [\"0.49978\", \"0.60079\", \"0.7507\", \"0.89899\", \"1.0\"], \"y\": [0.91947, 0.82278, 0.7639, 0.89973, 0.99989], \"type\": \"scatter\", \"uid\": \"749635b4-edb3-41e6-902f-1eadbe342edc\", \"xaxis\": \"x\", \"yaxis\": \"y\"}, {\"mode\": \"lines+markers\", \"name\": \"DS\", \"x\": [\"0.49978\", \"0.60079\", \"0.7507\", \"0.89899\", \"1.0\"], \"y\": [0.91969, 0.92033, 0.92027, 0.91879, 0.91943], \"type\": \"scatter\", \"uid\": \"2cbba46c-367b-4f29-a65a-60acf0729fbb\", \"xaxis\": \"x\", \"yaxis\": \"y\"}, {\"mode\": \"lines+markers\", \"name\": \"Raykar\", \"x\": [\"0.49978\", \"0.60079\", \"0.7507\", \"0.89899\", \"1.0\"], \"y\": [0.50198, 0.5988, 0.74878, 0.89797, 0.99989], \"type\": \"scatter\", \"uid\": \"182e3c62-da02-4c5a-bd04-af30c9dee815\", \"xaxis\": \"x\", \"yaxis\": \"y\"}], {\"annotations\": [{\"font\": {\"size\": 16}, \"showarrow\": false, \"text\": \"METHOD generate_AB_points ([0.6, 0.7, 0.7, 0.8, 0.9, 0.9], [0.6, 0.7, 0.7, 0.8, 0.9, 0.9])\", \"x\": 0.5, \"xanchor\": \"center\", \"xref\": \"paper\", \"y\": 1.0, \"yanchor\": \"bottom\", \"yref\": \"paper\"}], \"xaxis\": {\"anchor\": \"y\", \"domain\": [0.0, 1.0]}, \"yaxis\": {\"anchor\": \"x\", \"domain\": [0.0, 1.0]}}, {\"showLink\": false, \"linkText\": \"Export to plot.ly\", \"plotlyServerURL\": \"https://plot.ly\"})});</script><script type=\"text/javascript\">window.addEventListener(\"resize\", function(){window._Plotly.Plots.resize(document.getElementById(\"506f0d5d-e2ac-4d92-9b61-f7277e9a0630\"));});</script>"
      ],
      "text/vnd.plotly.v1+html": [
       "<div id=\"506f0d5d-e2ac-4d92-9b61-f7277e9a0630\" style=\"height: 525px; width: 100%;\" class=\"plotly-graph-div\"></div><script type=\"text/javascript\">require([\"plotly\"], function(Plotly) { window.PLOTLYENV=window.PLOTLYENV || {};window.PLOTLYENV.BASE_URL=\"https://plot.ly\";Plotly.newPlot(\"506f0d5d-e2ac-4d92-9b61-f7277e9a0630\", [{\"mode\": \"lines+markers\", \"name\": \"RaykarDS\", \"x\": [\"0.49978\", \"0.60079\", \"0.7507\", \"0.89899\", \"1.0\"], \"y\": [0.91812, 0.90979, 0.93947, 0.9624, 0.98024], \"type\": \"scatter\", \"uid\": \"27f0e106-448c-4abf-a669-fee6e879cbc1\", \"xaxis\": \"x\", \"yaxis\": \"y\"}, {\"mode\": \"lines+markers\", \"name\": \"RaykarDS_l\", \"x\": [\"0.49978\", \"0.60079\", \"0.7507\", \"0.89899\", \"1.0\"], \"y\": [0.91947, 0.82278, 0.7639, 0.89973, 0.99989], \"type\": \"scatter\", \"uid\": \"749635b4-edb3-41e6-902f-1eadbe342edc\", \"xaxis\": \"x\", \"yaxis\": \"y\"}, {\"mode\": \"lines+markers\", \"name\": \"DS\", \"x\": [\"0.49978\", \"0.60079\", \"0.7507\", \"0.89899\", \"1.0\"], \"y\": [0.91969, 0.92033, 0.92027, 0.91879, 0.91943], \"type\": \"scatter\", \"uid\": \"2cbba46c-367b-4f29-a65a-60acf0729fbb\", \"xaxis\": \"x\", \"yaxis\": \"y\"}, {\"mode\": \"lines+markers\", \"name\": \"Raykar\", \"x\": [\"0.49978\", \"0.60079\", \"0.7507\", \"0.89899\", \"1.0\"], \"y\": [0.50198, 0.5988, 0.74878, 0.89797, 0.99989], \"type\": \"scatter\", \"uid\": \"182e3c62-da02-4c5a-bd04-af30c9dee815\", \"xaxis\": \"x\", \"yaxis\": \"y\"}], {\"annotations\": [{\"font\": {\"size\": 16}, \"showarrow\": false, \"text\": \"METHOD generate_AB_points ([0.6, 0.7, 0.7, 0.8, 0.9, 0.9], [0.6, 0.7, 0.7, 0.8, 0.9, 0.9])\", \"x\": 0.5, \"xanchor\": \"center\", \"xref\": \"paper\", \"y\": 1.0, \"yanchor\": \"bottom\", \"yref\": \"paper\"}], \"xaxis\": {\"anchor\": \"y\", \"domain\": [0.0, 1.0]}, \"yaxis\": {\"anchor\": \"x\", \"domain\": [0.0, 1.0]}}, {\"showLink\": false, \"linkText\": \"Export to plot.ly\", \"plotlyServerURL\": \"https://plot.ly\"})});</script><script type=\"text/javascript\">window.addEventListener(\"resize\", function(){window._Plotly.Plots.resize(document.getElementById(\"506f0d5d-e2ac-4d92-9b61-f7277e9a0630\"));});</script>"
      ]
     },
     "metadata": {},
     "output_type": "display_data"
    },
    {
     "name": "stdout",
     "output_type": "stream",
     "text": [
      "This is the format of your plot grid:\n",
      "[ (1,1) x1,y1 ]\n",
      "\n"
     ]
    },
    {
     "data": {
      "application/vnd.plotly.v1+json": {
       "config": {
        "linkText": "Export to plot.ly",
        "plotlyServerURL": "https://plot.ly",
        "showLink": false
       },
       "data": [
        {
         "mode": "lines+markers",
         "name": "RaykarDS",
         "type": "scatter",
         "uid": "c44ca352-7236-4a4b-92d9-cbba738dbd5b",
         "x": [
          "0.49978",
          "0.60079",
          "0.7507",
          "0.89899",
          "1.0"
         ],
         "xaxis": "x",
         "y": [
          0.89446,
          0.90262,
          0.9197,
          0.93864,
          0.95248
         ],
         "yaxis": "y"
        },
        {
         "mode": "lines+markers",
         "name": "RaykarDS_l",
         "type": "scatter",
         "uid": "9f1a1dfa-f2bb-456e-8cb9-d260cef4915f",
         "x": [
          "0.49978",
          "0.60079",
          "0.7507",
          "0.89899",
          "1.0"
         ],
         "xaxis": "x",
         "y": [
          0.89185,
          0.78425,
          0.76159,
          0.89943,
          0.99974
         ],
         "yaxis": "y"
        },
        {
         "mode": "lines+markers",
         "name": "DS",
         "type": "scatter",
         "uid": "c256cb0e-0961-49d0-9015-c58e75c535db",
         "x": [
          "0.49978",
          "0.60079",
          "0.7507",
          "0.89899",
          "1.0"
         ],
         "xaxis": "x",
         "y": [
          0.89185,
          0.89185,
          0.89185,
          0.89185,
          0.89185
         ],
         "yaxis": "y"
        },
        {
         "mode": "lines+markers",
         "name": "Raykar",
         "type": "scatter",
         "uid": "f5dfb086-09b0-45a1-a8a6-d76b6a0f613b",
         "x": [
          "0.49978",
          "0.60079",
          "0.7507",
          "0.89899",
          "1.0"
         ],
         "xaxis": "x",
         "y": [
          0.4989,
          0.40198,
          0.2512,
          0.89798,
          0.99974
         ],
         "yaxis": "y"
        }
       ],
       "layout": {
        "annotations": [
         {
          "font": {
           "size": 16
          },
          "showarrow": false,
          "text": "METHOD generate_AB_points ([0.6, 0.7, 0.7, 0.8, 0.9], [0.6, 0.7, 0.7, 0.8, 0.9])",
          "x": 0.5,
          "xanchor": "center",
          "xref": "paper",
          "y": 1,
          "yanchor": "bottom",
          "yref": "paper"
         }
        ],
        "xaxis": {
         "anchor": "y",
         "domain": [
          0,
          1
         ]
        },
        "yaxis": {
         "anchor": "x",
         "domain": [
          0,
          1
         ]
        }
       }
      },
      "text/html": [
       "<div id=\"4edb47fc-3630-4f81-93fa-5e4215e90f2e\" style=\"height: 525px; width: 100%;\" class=\"plotly-graph-div\"></div><script type=\"text/javascript\">require([\"plotly\"], function(Plotly) { window.PLOTLYENV=window.PLOTLYENV || {};window.PLOTLYENV.BASE_URL=\"https://plot.ly\";Plotly.newPlot(\"4edb47fc-3630-4f81-93fa-5e4215e90f2e\", [{\"mode\": \"lines+markers\", \"name\": \"RaykarDS\", \"x\": [\"0.49978\", \"0.60079\", \"0.7507\", \"0.89899\", \"1.0\"], \"y\": [0.89446, 0.90262, 0.9197, 0.93864, 0.95248], \"type\": \"scatter\", \"uid\": \"c44ca352-7236-4a4b-92d9-cbba738dbd5b\", \"xaxis\": \"x\", \"yaxis\": \"y\"}, {\"mode\": \"lines+markers\", \"name\": \"RaykarDS_l\", \"x\": [\"0.49978\", \"0.60079\", \"0.7507\", \"0.89899\", \"1.0\"], \"y\": [0.89185, 0.78425, 0.76159, 0.89943, 0.99974], \"type\": \"scatter\", \"uid\": \"9f1a1dfa-f2bb-456e-8cb9-d260cef4915f\", \"xaxis\": \"x\", \"yaxis\": \"y\"}, {\"mode\": \"lines+markers\", \"name\": \"DS\", \"x\": [\"0.49978\", \"0.60079\", \"0.7507\", \"0.89899\", \"1.0\"], \"y\": [0.89185, 0.89185, 0.89185, 0.89185, 0.89185], \"type\": \"scatter\", \"uid\": \"c256cb0e-0961-49d0-9015-c58e75c535db\", \"xaxis\": \"x\", \"yaxis\": \"y\"}, {\"mode\": \"lines+markers\", \"name\": \"Raykar\", \"x\": [\"0.49978\", \"0.60079\", \"0.7507\", \"0.89899\", \"1.0\"], \"y\": [0.4989, 0.40198, 0.2512, 0.89798, 0.99974], \"type\": \"scatter\", \"uid\": \"f5dfb086-09b0-45a1-a8a6-d76b6a0f613b\", \"xaxis\": \"x\", \"yaxis\": \"y\"}], {\"annotations\": [{\"font\": {\"size\": 16}, \"showarrow\": false, \"text\": \"METHOD generate_AB_points ([0.6, 0.7, 0.7, 0.8, 0.9], [0.6, 0.7, 0.7, 0.8, 0.9])\", \"x\": 0.5, \"xanchor\": \"center\", \"xref\": \"paper\", \"y\": 1.0, \"yanchor\": \"bottom\", \"yref\": \"paper\"}], \"xaxis\": {\"anchor\": \"y\", \"domain\": [0.0, 1.0]}, \"yaxis\": {\"anchor\": \"x\", \"domain\": [0.0, 1.0]}}, {\"showLink\": false, \"linkText\": \"Export to plot.ly\", \"plotlyServerURL\": \"https://plot.ly\"})});</script><script type=\"text/javascript\">window.addEventListener(\"resize\", function(){window._Plotly.Plots.resize(document.getElementById(\"4edb47fc-3630-4f81-93fa-5e4215e90f2e\"));});</script>"
      ],
      "text/vnd.plotly.v1+html": [
       "<div id=\"4edb47fc-3630-4f81-93fa-5e4215e90f2e\" style=\"height: 525px; width: 100%;\" class=\"plotly-graph-div\"></div><script type=\"text/javascript\">require([\"plotly\"], function(Plotly) { window.PLOTLYENV=window.PLOTLYENV || {};window.PLOTLYENV.BASE_URL=\"https://plot.ly\";Plotly.newPlot(\"4edb47fc-3630-4f81-93fa-5e4215e90f2e\", [{\"mode\": \"lines+markers\", \"name\": \"RaykarDS\", \"x\": [\"0.49978\", \"0.60079\", \"0.7507\", \"0.89899\", \"1.0\"], \"y\": [0.89446, 0.90262, 0.9197, 0.93864, 0.95248], \"type\": \"scatter\", \"uid\": \"c44ca352-7236-4a4b-92d9-cbba738dbd5b\", \"xaxis\": \"x\", \"yaxis\": \"y\"}, {\"mode\": \"lines+markers\", \"name\": \"RaykarDS_l\", \"x\": [\"0.49978\", \"0.60079\", \"0.7507\", \"0.89899\", \"1.0\"], \"y\": [0.89185, 0.78425, 0.76159, 0.89943, 0.99974], \"type\": \"scatter\", \"uid\": \"9f1a1dfa-f2bb-456e-8cb9-d260cef4915f\", \"xaxis\": \"x\", \"yaxis\": \"y\"}, {\"mode\": \"lines+markers\", \"name\": \"DS\", \"x\": [\"0.49978\", \"0.60079\", \"0.7507\", \"0.89899\", \"1.0\"], \"y\": [0.89185, 0.89185, 0.89185, 0.89185, 0.89185], \"type\": \"scatter\", \"uid\": \"c256cb0e-0961-49d0-9015-c58e75c535db\", \"xaxis\": \"x\", \"yaxis\": \"y\"}, {\"mode\": \"lines+markers\", \"name\": \"Raykar\", \"x\": [\"0.49978\", \"0.60079\", \"0.7507\", \"0.89899\", \"1.0\"], \"y\": [0.4989, 0.40198, 0.2512, 0.89798, 0.99974], \"type\": \"scatter\", \"uid\": \"f5dfb086-09b0-45a1-a8a6-d76b6a0f613b\", \"xaxis\": \"x\", \"yaxis\": \"y\"}], {\"annotations\": [{\"font\": {\"size\": 16}, \"showarrow\": false, \"text\": \"METHOD generate_AB_points ([0.6, 0.7, 0.7, 0.8, 0.9], [0.6, 0.7, 0.7, 0.8, 0.9])\", \"x\": 0.5, \"xanchor\": \"center\", \"xref\": \"paper\", \"y\": 1.0, \"yanchor\": \"bottom\", \"yref\": \"paper\"}], \"xaxis\": {\"anchor\": \"y\", \"domain\": [0.0, 1.0]}, \"yaxis\": {\"anchor\": \"x\", \"domain\": [0.0, 1.0]}}, {\"showLink\": false, \"linkText\": \"Export to plot.ly\", \"plotlyServerURL\": \"https://plot.ly\"})});</script><script type=\"text/javascript\">window.addEventListener(\"resize\", function(){window._Plotly.Plots.resize(document.getElementById(\"4edb47fc-3630-4f81-93fa-5e4215e90f2e\"));});</script>"
      ]
     },
     "metadata": {},
     "output_type": "display_data"
    },
    {
     "name": "stdout",
     "output_type": "stream",
     "text": [
      "This is the format of your plot grid:\n",
      "[ (1,1) x1,y1 ]\n",
      "\n"
     ]
    },
    {
     "data": {
      "application/vnd.plotly.v1+json": {
       "config": {
        "linkText": "Export to plot.ly",
        "plotlyServerURL": "https://plot.ly",
        "showLink": false
       },
       "data": [
        {
         "mode": "lines+markers",
         "name": "RaykarDS",
         "type": "scatter",
         "uid": "55f0dd1b-a35c-45da-b381-a5d6d7166116",
         "x": [
          "0",
          "0.2",
          "0.5",
          "0.8",
          "1"
         ],
         "xaxis": "x",
         "y": [
          0.78324,
          0.76873,
          0.75111,
          0.76868,
          0.78454
         ],
         "yaxis": "y"
        },
        {
         "mode": "lines+markers",
         "name": "RaykarDS_l",
         "type": "scatter",
         "uid": "49446bf3-a25f-49b9-8731-48f69f61514f",
         "x": [
          "0",
          "0.2",
          "0.5",
          "0.8",
          "1"
         ],
         "xaxis": "x",
         "y": [
          0.74824,
          0.80228,
          0.74824,
          0.79914,
          0.99937
         ],
         "yaxis": "y"
        },
        {
         "mode": "lines+markers",
         "name": "DS",
         "type": "scatter",
         "uid": "7576bda3-1f06-456b-96b5-fdd238d1032b",
         "x": [
          "0",
          "0.2",
          "0.5",
          "0.8",
          "1"
         ],
         "xaxis": "x",
         "y": [
          0.74824,
          0.74824,
          0.74824,
          0.74824,
          0.74824
         ],
         "yaxis": "y"
        },
        {
         "mode": "lines+markers",
         "name": "Raykar",
         "type": "scatter",
         "uid": "711ec614-7aec-4db3-96ab-cc2bab1108e6",
         "x": [
          "0",
          "0.2",
          "0.5",
          "0.8",
          "1"
         ],
         "xaxis": "x",
         "y": [
          0.00063,
          0.42513,
          0.50053,
          0.57487,
          0.99937
         ],
         "yaxis": "y"
        }
       ],
       "layout": {
        "annotations": [
         {
          "font": {
           "size": 16
          },
          "showarrow": false,
          "text": "METHOD generate_points ([0.6, 0.6, 0.6, 0.7, 0.7], [0.6, 0.6, 0.6, 0.7, 0.7])",
          "x": 0.5,
          "xanchor": "center",
          "xref": "paper",
          "y": 1,
          "yanchor": "bottom",
          "yref": "paper"
         }
        ],
        "xaxis": {
         "anchor": "y",
         "domain": [
          0,
          1
         ]
        },
        "yaxis": {
         "anchor": "x",
         "domain": [
          0,
          1
         ]
        }
       }
      },
      "text/html": [
       "<div id=\"b989a119-282b-43bc-96e6-7ca0a79ae5b3\" style=\"height: 525px; width: 100%;\" class=\"plotly-graph-div\"></div><script type=\"text/javascript\">require([\"plotly\"], function(Plotly) { window.PLOTLYENV=window.PLOTLYENV || {};window.PLOTLYENV.BASE_URL=\"https://plot.ly\";Plotly.newPlot(\"b989a119-282b-43bc-96e6-7ca0a79ae5b3\", [{\"mode\": \"lines+markers\", \"name\": \"RaykarDS\", \"x\": [\"0\", \"0.2\", \"0.5\", \"0.8\", \"1\"], \"y\": [0.78324, 0.76873, 0.75111, 0.76868, 0.78454], \"type\": \"scatter\", \"uid\": \"55f0dd1b-a35c-45da-b381-a5d6d7166116\", \"xaxis\": \"x\", \"yaxis\": \"y\"}, {\"mode\": \"lines+markers\", \"name\": \"RaykarDS_l\", \"x\": [\"0\", \"0.2\", \"0.5\", \"0.8\", \"1\"], \"y\": [0.74824, 0.80228, 0.74824, 0.79914, 0.99937], \"type\": \"scatter\", \"uid\": \"49446bf3-a25f-49b9-8731-48f69f61514f\", \"xaxis\": \"x\", \"yaxis\": \"y\"}, {\"mode\": \"lines+markers\", \"name\": \"DS\", \"x\": [\"0\", \"0.2\", \"0.5\", \"0.8\", \"1\"], \"y\": [0.74824, 0.74824, 0.74824, 0.74824, 0.74824], \"type\": \"scatter\", \"uid\": \"7576bda3-1f06-456b-96b5-fdd238d1032b\", \"xaxis\": \"x\", \"yaxis\": \"y\"}, {\"mode\": \"lines+markers\", \"name\": \"Raykar\", \"x\": [\"0\", \"0.2\", \"0.5\", \"0.8\", \"1\"], \"y\": [0.00063, 0.42513, 0.50053, 0.57487, 0.99937], \"type\": \"scatter\", \"uid\": \"711ec614-7aec-4db3-96ab-cc2bab1108e6\", \"xaxis\": \"x\", \"yaxis\": \"y\"}], {\"annotations\": [{\"font\": {\"size\": 16}, \"showarrow\": false, \"text\": \"METHOD generate_points ([0.6, 0.6, 0.6, 0.7, 0.7], [0.6, 0.6, 0.6, 0.7, 0.7])\", \"x\": 0.5, \"xanchor\": \"center\", \"xref\": \"paper\", \"y\": 1.0, \"yanchor\": \"bottom\", \"yref\": \"paper\"}], \"xaxis\": {\"anchor\": \"y\", \"domain\": [0.0, 1.0]}, \"yaxis\": {\"anchor\": \"x\", \"domain\": [0.0, 1.0]}}, {\"showLink\": false, \"linkText\": \"Export to plot.ly\", \"plotlyServerURL\": \"https://plot.ly\"})});</script><script type=\"text/javascript\">window.addEventListener(\"resize\", function(){window._Plotly.Plots.resize(document.getElementById(\"b989a119-282b-43bc-96e6-7ca0a79ae5b3\"));});</script>"
      ],
      "text/vnd.plotly.v1+html": [
       "<div id=\"b989a119-282b-43bc-96e6-7ca0a79ae5b3\" style=\"height: 525px; width: 100%;\" class=\"plotly-graph-div\"></div><script type=\"text/javascript\">require([\"plotly\"], function(Plotly) { window.PLOTLYENV=window.PLOTLYENV || {};window.PLOTLYENV.BASE_URL=\"https://plot.ly\";Plotly.newPlot(\"b989a119-282b-43bc-96e6-7ca0a79ae5b3\", [{\"mode\": \"lines+markers\", \"name\": \"RaykarDS\", \"x\": [\"0\", \"0.2\", \"0.5\", \"0.8\", \"1\"], \"y\": [0.78324, 0.76873, 0.75111, 0.76868, 0.78454], \"type\": \"scatter\", \"uid\": \"55f0dd1b-a35c-45da-b381-a5d6d7166116\", \"xaxis\": \"x\", \"yaxis\": \"y\"}, {\"mode\": \"lines+markers\", \"name\": \"RaykarDS_l\", \"x\": [\"0\", \"0.2\", \"0.5\", \"0.8\", \"1\"], \"y\": [0.74824, 0.80228, 0.74824, 0.79914, 0.99937], \"type\": \"scatter\", \"uid\": \"49446bf3-a25f-49b9-8731-48f69f61514f\", \"xaxis\": \"x\", \"yaxis\": \"y\"}, {\"mode\": \"lines+markers\", \"name\": \"DS\", \"x\": [\"0\", \"0.2\", \"0.5\", \"0.8\", \"1\"], \"y\": [0.74824, 0.74824, 0.74824, 0.74824, 0.74824], \"type\": \"scatter\", \"uid\": \"7576bda3-1f06-456b-96b5-fdd238d1032b\", \"xaxis\": \"x\", \"yaxis\": \"y\"}, {\"mode\": \"lines+markers\", \"name\": \"Raykar\", \"x\": [\"0\", \"0.2\", \"0.5\", \"0.8\", \"1\"], \"y\": [0.00063, 0.42513, 0.50053, 0.57487, 0.99937], \"type\": \"scatter\", \"uid\": \"711ec614-7aec-4db3-96ab-cc2bab1108e6\", \"xaxis\": \"x\", \"yaxis\": \"y\"}], {\"annotations\": [{\"font\": {\"size\": 16}, \"showarrow\": false, \"text\": \"METHOD generate_points ([0.6, 0.6, 0.6, 0.7, 0.7], [0.6, 0.6, 0.6, 0.7, 0.7])\", \"x\": 0.5, \"xanchor\": \"center\", \"xref\": \"paper\", \"y\": 1.0, \"yanchor\": \"bottom\", \"yref\": \"paper\"}], \"xaxis\": {\"anchor\": \"y\", \"domain\": [0.0, 1.0]}, \"yaxis\": {\"anchor\": \"x\", \"domain\": [0.0, 1.0]}}, {\"showLink\": false, \"linkText\": \"Export to plot.ly\", \"plotlyServerURL\": \"https://plot.ly\"})});</script><script type=\"text/javascript\">window.addEventListener(\"resize\", function(){window._Plotly.Plots.resize(document.getElementById(\"b989a119-282b-43bc-96e6-7ca0a79ae5b3\"));});</script>"
      ]
     },
     "metadata": {},
     "output_type": "display_data"
    },
    {
     "name": "stdout",
     "output_type": "stream",
     "text": [
      "This is the format of your plot grid:\n",
      "[ (1,1) x1,y1 ]\n",
      "\n"
     ]
    },
    {
     "data": {
      "application/vnd.plotly.v1+json": {
       "config": {
        "linkText": "Export to plot.ly",
        "plotlyServerURL": "https://plot.ly",
        "showLink": false
       },
       "data": [
        {
         "mode": "lines+markers",
         "name": "RaykarDS",
         "type": "scatter",
         "uid": "6e34aaa8-3f88-4176-ba35-284713dd6599",
         "x": [
          "0",
          "0.2",
          "0.5",
          "0.8",
          "1"
         ],
         "xaxis": "x",
         "y": [
          0.85699,
          0.83663,
          0.83815,
          0.83706,
          0.84641
         ],
         "yaxis": "y"
        },
        {
         "mode": "lines+markers",
         "name": "RaykarDS_l",
         "type": "scatter",
         "uid": "7bdd9f2a-cedc-4579-909a-bade0e97dcf0",
         "x": [
          "0",
          "0.2",
          "0.5",
          "0.8",
          "1"
         ],
         "xaxis": "x",
         "y": [
          0.83815,
          0.86679,
          0.83815,
          0.80314,
          0.99961
         ],
         "yaxis": "y"
        },
        {
         "mode": "lines+markers",
         "name": "DS",
         "type": "scatter",
         "uid": "ac206e41-a089-4e29-8994-a2c5e060f39c",
         "x": [
          "0",
          "0.2",
          "0.5",
          "0.8",
          "1"
         ],
         "xaxis": "x",
         "y": [
          0.83815,
          0.83815,
          0.83815,
          0.83815,
          0.83815
         ],
         "yaxis": "y"
        },
        {
         "mode": "lines+markers",
         "name": "Raykar",
         "type": "scatter",
         "uid": "4c538d45-a948-4e06-9153-23c1efb3ed4a",
         "x": [
          "0",
          "0.2",
          "0.5",
          "0.8",
          "1"
         ],
         "xaxis": "x",
         "y": [
          0.00039,
          0.20408,
          0.49934,
          0.79592,
          0.99961
         ],
         "yaxis": "y"
        }
       ],
       "layout": {
        "annotations": [
         {
          "font": {
           "size": 16
          },
          "showarrow": false,
          "text": "METHOD generate_points ([0.6, 0.7, 0.7, 0.7, 0.8], [0.6, 0.7, 0.7, 0.7, 0.8])",
          "x": 0.5,
          "xanchor": "center",
          "xref": "paper",
          "y": 1,
          "yanchor": "bottom",
          "yref": "paper"
         }
        ],
        "xaxis": {
         "anchor": "y",
         "domain": [
          0,
          1
         ]
        },
        "yaxis": {
         "anchor": "x",
         "domain": [
          0,
          1
         ]
        }
       }
      },
      "text/html": [
       "<div id=\"a13cabc7-6e03-4304-9611-3753df58818e\" style=\"height: 525px; width: 100%;\" class=\"plotly-graph-div\"></div><script type=\"text/javascript\">require([\"plotly\"], function(Plotly) { window.PLOTLYENV=window.PLOTLYENV || {};window.PLOTLYENV.BASE_URL=\"https://plot.ly\";Plotly.newPlot(\"a13cabc7-6e03-4304-9611-3753df58818e\", [{\"mode\": \"lines+markers\", \"name\": \"RaykarDS\", \"x\": [\"0\", \"0.2\", \"0.5\", \"0.8\", \"1\"], \"y\": [0.85699, 0.83663, 0.83815, 0.83706, 0.84641], \"type\": \"scatter\", \"uid\": \"6e34aaa8-3f88-4176-ba35-284713dd6599\", \"xaxis\": \"x\", \"yaxis\": \"y\"}, {\"mode\": \"lines+markers\", \"name\": \"RaykarDS_l\", \"x\": [\"0\", \"0.2\", \"0.5\", \"0.8\", \"1\"], \"y\": [0.83815, 0.86679, 0.83815, 0.80314, 0.99961], \"type\": \"scatter\", \"uid\": \"7bdd9f2a-cedc-4579-909a-bade0e97dcf0\", \"xaxis\": \"x\", \"yaxis\": \"y\"}, {\"mode\": \"lines+markers\", \"name\": \"DS\", \"x\": [\"0\", \"0.2\", \"0.5\", \"0.8\", \"1\"], \"y\": [0.83815, 0.83815, 0.83815, 0.83815, 0.83815], \"type\": \"scatter\", \"uid\": \"ac206e41-a089-4e29-8994-a2c5e060f39c\", \"xaxis\": \"x\", \"yaxis\": \"y\"}, {\"mode\": \"lines+markers\", \"name\": \"Raykar\", \"x\": [\"0\", \"0.2\", \"0.5\", \"0.8\", \"1\"], \"y\": [0.00039, 0.20408, 0.49934, 0.79592, 0.99961], \"type\": \"scatter\", \"uid\": \"4c538d45-a948-4e06-9153-23c1efb3ed4a\", \"xaxis\": \"x\", \"yaxis\": \"y\"}], {\"annotations\": [{\"font\": {\"size\": 16}, \"showarrow\": false, \"text\": \"METHOD generate_points ([0.6, 0.7, 0.7, 0.7, 0.8], [0.6, 0.7, 0.7, 0.7, 0.8])\", \"x\": 0.5, \"xanchor\": \"center\", \"xref\": \"paper\", \"y\": 1.0, \"yanchor\": \"bottom\", \"yref\": \"paper\"}], \"xaxis\": {\"anchor\": \"y\", \"domain\": [0.0, 1.0]}, \"yaxis\": {\"anchor\": \"x\", \"domain\": [0.0, 1.0]}}, {\"showLink\": false, \"linkText\": \"Export to plot.ly\", \"plotlyServerURL\": \"https://plot.ly\"})});</script><script type=\"text/javascript\">window.addEventListener(\"resize\", function(){window._Plotly.Plots.resize(document.getElementById(\"a13cabc7-6e03-4304-9611-3753df58818e\"));});</script>"
      ],
      "text/vnd.plotly.v1+html": [
       "<div id=\"a13cabc7-6e03-4304-9611-3753df58818e\" style=\"height: 525px; width: 100%;\" class=\"plotly-graph-div\"></div><script type=\"text/javascript\">require([\"plotly\"], function(Plotly) { window.PLOTLYENV=window.PLOTLYENV || {};window.PLOTLYENV.BASE_URL=\"https://plot.ly\";Plotly.newPlot(\"a13cabc7-6e03-4304-9611-3753df58818e\", [{\"mode\": \"lines+markers\", \"name\": \"RaykarDS\", \"x\": [\"0\", \"0.2\", \"0.5\", \"0.8\", \"1\"], \"y\": [0.85699, 0.83663, 0.83815, 0.83706, 0.84641], \"type\": \"scatter\", \"uid\": \"6e34aaa8-3f88-4176-ba35-284713dd6599\", \"xaxis\": \"x\", \"yaxis\": \"y\"}, {\"mode\": \"lines+markers\", \"name\": \"RaykarDS_l\", \"x\": [\"0\", \"0.2\", \"0.5\", \"0.8\", \"1\"], \"y\": [0.83815, 0.86679, 0.83815, 0.80314, 0.99961], \"type\": \"scatter\", \"uid\": \"7bdd9f2a-cedc-4579-909a-bade0e97dcf0\", \"xaxis\": \"x\", \"yaxis\": \"y\"}, {\"mode\": \"lines+markers\", \"name\": \"DS\", \"x\": [\"0\", \"0.2\", \"0.5\", \"0.8\", \"1\"], \"y\": [0.83815, 0.83815, 0.83815, 0.83815, 0.83815], \"type\": \"scatter\", \"uid\": \"ac206e41-a089-4e29-8994-a2c5e060f39c\", \"xaxis\": \"x\", \"yaxis\": \"y\"}, {\"mode\": \"lines+markers\", \"name\": \"Raykar\", \"x\": [\"0\", \"0.2\", \"0.5\", \"0.8\", \"1\"], \"y\": [0.00039, 0.20408, 0.49934, 0.79592, 0.99961], \"type\": \"scatter\", \"uid\": \"4c538d45-a948-4e06-9153-23c1efb3ed4a\", \"xaxis\": \"x\", \"yaxis\": \"y\"}], {\"annotations\": [{\"font\": {\"size\": 16}, \"showarrow\": false, \"text\": \"METHOD generate_points ([0.6, 0.7, 0.7, 0.7, 0.8], [0.6, 0.7, 0.7, 0.7, 0.8])\", \"x\": 0.5, \"xanchor\": \"center\", \"xref\": \"paper\", \"y\": 1.0, \"yanchor\": \"bottom\", \"yref\": \"paper\"}], \"xaxis\": {\"anchor\": \"y\", \"domain\": [0.0, 1.0]}, \"yaxis\": {\"anchor\": \"x\", \"domain\": [0.0, 1.0]}}, {\"showLink\": false, \"linkText\": \"Export to plot.ly\", \"plotlyServerURL\": \"https://plot.ly\"})});</script><script type=\"text/javascript\">window.addEventListener(\"resize\", function(){window._Plotly.Plots.resize(document.getElementById(\"a13cabc7-6e03-4304-9611-3753df58818e\"));});</script>"
      ]
     },
     "metadata": {},
     "output_type": "display_data"
    },
    {
     "name": "stdout",
     "output_type": "stream",
     "text": [
      "This is the format of your plot grid:\n",
      "[ (1,1) x1,y1 ]\n",
      "\n"
     ]
    },
    {
     "data": {
      "application/vnd.plotly.v1+json": {
       "config": {
        "linkText": "Export to plot.ly",
        "plotlyServerURL": "https://plot.ly",
        "showLink": false
       },
       "data": [
        {
         "mode": "lines+markers",
         "name": "RaykarDS",
         "type": "scatter",
         "uid": "50b829f2-88d0-4877-b36b-a86721feeb0d",
         "x": [
          "0",
          "0.2",
          "0.5",
          "0.8",
          "1"
         ],
         "xaxis": "x",
         "y": [
          0.98021,
          0.9528,
          0.9297,
          0.94494,
          0.9811
         ],
         "yaxis": "y"
        },
        {
         "mode": "lines+markers",
         "name": "RaykarDS_l",
         "type": "scatter",
         "uid": "eedc9682-fec6-4591-9e1b-1ca40f1b6577",
         "x": [
          "0",
          "0.2",
          "0.5",
          "0.8",
          "1"
         ],
         "xaxis": "x",
         "y": [
          0.92021,
          0.95323,
          0.92042,
          0.8048,
          0.99984
         ],
         "yaxis": "y"
        },
        {
         "mode": "lines+markers",
         "name": "DS",
         "type": "scatter",
         "uid": "dca973c8-bb22-4fc5-a0c5-babd1e3a9669",
         "x": [
          "0",
          "0.2",
          "0.5",
          "0.8",
          "1"
         ],
         "xaxis": "x",
         "y": [
          0.92021,
          0.91999,
          0.92035,
          0.92028,
          0.92006
         ],
         "yaxis": "y"
        },
        {
         "mode": "lines+markers",
         "name": "Raykar",
         "type": "scatter",
         "uid": "411c39a8-5218-4a09-aecd-6e4fb17ee9bb",
         "x": [
          "0",
          "0.2",
          "0.5",
          "0.8",
          "1"
         ],
         "xaxis": "x",
         "y": [
          0.00016,
          0.20257,
          0.49896,
          0.79743,
          0.99984
         ],
         "yaxis": "y"
        }
       ],
       "layout": {
        "annotations": [
         {
          "font": {
           "size": 16
          },
          "showarrow": false,
          "text": "METHOD generate_points ([0.6, 0.7, 0.7, 0.8, 0.9, 0.9], [0.6, 0.7, 0.7, 0.8, 0.9, 0.9])",
          "x": 0.5,
          "xanchor": "center",
          "xref": "paper",
          "y": 1,
          "yanchor": "bottom",
          "yref": "paper"
         }
        ],
        "xaxis": {
         "anchor": "y",
         "domain": [
          0,
          1
         ]
        },
        "yaxis": {
         "anchor": "x",
         "domain": [
          0,
          1
         ]
        }
       }
      },
      "text/html": [
       "<div id=\"8acd4d68-0530-4ac4-8ef9-1937a9a099c6\" style=\"height: 525px; width: 100%;\" class=\"plotly-graph-div\"></div><script type=\"text/javascript\">require([\"plotly\"], function(Plotly) { window.PLOTLYENV=window.PLOTLYENV || {};window.PLOTLYENV.BASE_URL=\"https://plot.ly\";Plotly.newPlot(\"8acd4d68-0530-4ac4-8ef9-1937a9a099c6\", [{\"mode\": \"lines+markers\", \"name\": \"RaykarDS\", \"x\": [\"0\", \"0.2\", \"0.5\", \"0.8\", \"1\"], \"y\": [0.98021, 0.9528, 0.9297, 0.94494, 0.9811], \"type\": \"scatter\", \"uid\": \"50b829f2-88d0-4877-b36b-a86721feeb0d\", \"xaxis\": \"x\", \"yaxis\": \"y\"}, {\"mode\": \"lines+markers\", \"name\": \"RaykarDS_l\", \"x\": [\"0\", \"0.2\", \"0.5\", \"0.8\", \"1\"], \"y\": [0.92021, 0.95323, 0.92042, 0.8048, 0.99984], \"type\": \"scatter\", \"uid\": \"eedc9682-fec6-4591-9e1b-1ca40f1b6577\", \"xaxis\": \"x\", \"yaxis\": \"y\"}, {\"mode\": \"lines+markers\", \"name\": \"DS\", \"x\": [\"0\", \"0.2\", \"0.5\", \"0.8\", \"1\"], \"y\": [0.92021, 0.91999, 0.92035, 0.92028, 0.92006], \"type\": \"scatter\", \"uid\": \"dca973c8-bb22-4fc5-a0c5-babd1e3a9669\", \"xaxis\": \"x\", \"yaxis\": \"y\"}, {\"mode\": \"lines+markers\", \"name\": \"Raykar\", \"x\": [\"0\", \"0.2\", \"0.5\", \"0.8\", \"1\"], \"y\": [0.00016, 0.20257, 0.49896, 0.79743, 0.99984], \"type\": \"scatter\", \"uid\": \"411c39a8-5218-4a09-aecd-6e4fb17ee9bb\", \"xaxis\": \"x\", \"yaxis\": \"y\"}], {\"annotations\": [{\"font\": {\"size\": 16}, \"showarrow\": false, \"text\": \"METHOD generate_points ([0.6, 0.7, 0.7, 0.8, 0.9, 0.9], [0.6, 0.7, 0.7, 0.8, 0.9, 0.9])\", \"x\": 0.5, \"xanchor\": \"center\", \"xref\": \"paper\", \"y\": 1.0, \"yanchor\": \"bottom\", \"yref\": \"paper\"}], \"xaxis\": {\"anchor\": \"y\", \"domain\": [0.0, 1.0]}, \"yaxis\": {\"anchor\": \"x\", \"domain\": [0.0, 1.0]}}, {\"showLink\": false, \"linkText\": \"Export to plot.ly\", \"plotlyServerURL\": \"https://plot.ly\"})});</script><script type=\"text/javascript\">window.addEventListener(\"resize\", function(){window._Plotly.Plots.resize(document.getElementById(\"8acd4d68-0530-4ac4-8ef9-1937a9a099c6\"));});</script>"
      ],
      "text/vnd.plotly.v1+html": [
       "<div id=\"8acd4d68-0530-4ac4-8ef9-1937a9a099c6\" style=\"height: 525px; width: 100%;\" class=\"plotly-graph-div\"></div><script type=\"text/javascript\">require([\"plotly\"], function(Plotly) { window.PLOTLYENV=window.PLOTLYENV || {};window.PLOTLYENV.BASE_URL=\"https://plot.ly\";Plotly.newPlot(\"8acd4d68-0530-4ac4-8ef9-1937a9a099c6\", [{\"mode\": \"lines+markers\", \"name\": \"RaykarDS\", \"x\": [\"0\", \"0.2\", \"0.5\", \"0.8\", \"1\"], \"y\": [0.98021, 0.9528, 0.9297, 0.94494, 0.9811], \"type\": \"scatter\", \"uid\": \"50b829f2-88d0-4877-b36b-a86721feeb0d\", \"xaxis\": \"x\", \"yaxis\": \"y\"}, {\"mode\": \"lines+markers\", \"name\": \"RaykarDS_l\", \"x\": [\"0\", \"0.2\", \"0.5\", \"0.8\", \"1\"], \"y\": [0.92021, 0.95323, 0.92042, 0.8048, 0.99984], \"type\": \"scatter\", \"uid\": \"eedc9682-fec6-4591-9e1b-1ca40f1b6577\", \"xaxis\": \"x\", \"yaxis\": \"y\"}, {\"mode\": \"lines+markers\", \"name\": \"DS\", \"x\": [\"0\", \"0.2\", \"0.5\", \"0.8\", \"1\"], \"y\": [0.92021, 0.91999, 0.92035, 0.92028, 0.92006], \"type\": \"scatter\", \"uid\": \"dca973c8-bb22-4fc5-a0c5-babd1e3a9669\", \"xaxis\": \"x\", \"yaxis\": \"y\"}, {\"mode\": \"lines+markers\", \"name\": \"Raykar\", \"x\": [\"0\", \"0.2\", \"0.5\", \"0.8\", \"1\"], \"y\": [0.00016, 0.20257, 0.49896, 0.79743, 0.99984], \"type\": \"scatter\", \"uid\": \"411c39a8-5218-4a09-aecd-6e4fb17ee9bb\", \"xaxis\": \"x\", \"yaxis\": \"y\"}], {\"annotations\": [{\"font\": {\"size\": 16}, \"showarrow\": false, \"text\": \"METHOD generate_points ([0.6, 0.7, 0.7, 0.8, 0.9, 0.9], [0.6, 0.7, 0.7, 0.8, 0.9, 0.9])\", \"x\": 0.5, \"xanchor\": \"center\", \"xref\": \"paper\", \"y\": 1.0, \"yanchor\": \"bottom\", \"yref\": \"paper\"}], \"xaxis\": {\"anchor\": \"y\", \"domain\": [0.0, 1.0]}, \"yaxis\": {\"anchor\": \"x\", \"domain\": [0.0, 1.0]}}, {\"showLink\": false, \"linkText\": \"Export to plot.ly\", \"plotlyServerURL\": \"https://plot.ly\"})});</script><script type=\"text/javascript\">window.addEventListener(\"resize\", function(){window._Plotly.Plots.resize(document.getElementById(\"8acd4d68-0530-4ac4-8ef9-1937a9a099c6\"));});</script>"
      ]
     },
     "metadata": {},
     "output_type": "display_data"
    },
    {
     "name": "stdout",
     "output_type": "stream",
     "text": [
      "This is the format of your plot grid:\n",
      "[ (1,1) x1,y1 ]\n",
      "\n"
     ]
    },
    {
     "data": {
      "application/vnd.plotly.v1+json": {
       "config": {
        "linkText": "Export to plot.ly",
        "plotlyServerURL": "https://plot.ly",
        "showLink": false
       },
       "data": [
        {
         "mode": "lines+markers",
         "name": "RaykarDS",
         "type": "scatter",
         "uid": "c6b19004-db7c-46ce-b81c-17dd503f1b5d",
         "x": [
          "0",
          "0.2",
          "0.5",
          "0.8",
          "1"
         ],
         "xaxis": "x",
         "y": [
          0.95065,
          0.9241,
          0.89272,
          0.92255,
          0.95119
         ],
         "yaxis": "y"
        },
        {
         "mode": "lines+markers",
         "name": "RaykarDS_l",
         "type": "scatter",
         "uid": "0fbbae64-13b8-4338-b8b4-3b687986c9fd",
         "x": [
          "0",
          "0.2",
          "0.5",
          "0.8",
          "1"
         ],
         "xaxis": "x",
         "y": [
          0.89124,
          0.90345,
          0.89124,
          0.80389,
          0.99981
         ],
         "yaxis": "y"
        },
        {
         "mode": "lines+markers",
         "name": "DS",
         "type": "scatter",
         "uid": "f887a8c6-6e9f-40ec-b902-e578f71cf763",
         "x": [
          "0",
          "0.2",
          "0.5",
          "0.8",
          "1"
         ],
         "xaxis": "x",
         "y": [
          0.89124,
          0.89124,
          0.89124,
          0.89124,
          0.89124
         ],
         "yaxis": "y"
        },
        {
         "mode": "lines+markers",
         "name": "Raykar",
         "type": "scatter",
         "uid": "cba48e8d-3d1d-4c79-9bf1-7b3cab0f81b5",
         "x": [
          "0",
          "0.2",
          "0.5",
          "0.8",
          "1"
         ],
         "xaxis": "x",
         "y": [
          0.00019,
          0.20274,
          0.49895,
          0.79726,
          0.99981
         ],
         "yaxis": "y"
        }
       ],
       "layout": {
        "annotations": [
         {
          "font": {
           "size": 16
          },
          "showarrow": false,
          "text": "METHOD generate_points ([0.6, 0.7, 0.7, 0.8, 0.9], [0.6, 0.7, 0.7, 0.8, 0.9])",
          "x": 0.5,
          "xanchor": "center",
          "xref": "paper",
          "y": 1,
          "yanchor": "bottom",
          "yref": "paper"
         }
        ],
        "xaxis": {
         "anchor": "y",
         "domain": [
          0,
          1
         ]
        },
        "yaxis": {
         "anchor": "x",
         "domain": [
          0,
          1
         ]
        }
       }
      },
      "text/html": [
       "<div id=\"88d73f3e-6b1f-47c6-907a-d5385373f066\" style=\"height: 525px; width: 100%;\" class=\"plotly-graph-div\"></div><script type=\"text/javascript\">require([\"plotly\"], function(Plotly) { window.PLOTLYENV=window.PLOTLYENV || {};window.PLOTLYENV.BASE_URL=\"https://plot.ly\";Plotly.newPlot(\"88d73f3e-6b1f-47c6-907a-d5385373f066\", [{\"mode\": \"lines+markers\", \"name\": \"RaykarDS\", \"x\": [\"0\", \"0.2\", \"0.5\", \"0.8\", \"1\"], \"y\": [0.95065, 0.9241, 0.89272, 0.92255, 0.95119], \"type\": \"scatter\", \"uid\": \"c6b19004-db7c-46ce-b81c-17dd503f1b5d\", \"xaxis\": \"x\", \"yaxis\": \"y\"}, {\"mode\": \"lines+markers\", \"name\": \"RaykarDS_l\", \"x\": [\"0\", \"0.2\", \"0.5\", \"0.8\", \"1\"], \"y\": [0.89124, 0.90345, 0.89124, 0.80389, 0.99981], \"type\": \"scatter\", \"uid\": \"0fbbae64-13b8-4338-b8b4-3b687986c9fd\", \"xaxis\": \"x\", \"yaxis\": \"y\"}, {\"mode\": \"lines+markers\", \"name\": \"DS\", \"x\": [\"0\", \"0.2\", \"0.5\", \"0.8\", \"1\"], \"y\": [0.89124, 0.89124, 0.89124, 0.89124, 0.89124], \"type\": \"scatter\", \"uid\": \"f887a8c6-6e9f-40ec-b902-e578f71cf763\", \"xaxis\": \"x\", \"yaxis\": \"y\"}, {\"mode\": \"lines+markers\", \"name\": \"Raykar\", \"x\": [\"0\", \"0.2\", \"0.5\", \"0.8\", \"1\"], \"y\": [0.00019, 0.20274, 0.49895, 0.79726, 0.99981], \"type\": \"scatter\", \"uid\": \"cba48e8d-3d1d-4c79-9bf1-7b3cab0f81b5\", \"xaxis\": \"x\", \"yaxis\": \"y\"}], {\"annotations\": [{\"font\": {\"size\": 16}, \"showarrow\": false, \"text\": \"METHOD generate_points ([0.6, 0.7, 0.7, 0.8, 0.9], [0.6, 0.7, 0.7, 0.8, 0.9])\", \"x\": 0.5, \"xanchor\": \"center\", \"xref\": \"paper\", \"y\": 1.0, \"yanchor\": \"bottom\", \"yref\": \"paper\"}], \"xaxis\": {\"anchor\": \"y\", \"domain\": [0.0, 1.0]}, \"yaxis\": {\"anchor\": \"x\", \"domain\": [0.0, 1.0]}}, {\"showLink\": false, \"linkText\": \"Export to plot.ly\", \"plotlyServerURL\": \"https://plot.ly\"})});</script><script type=\"text/javascript\">window.addEventListener(\"resize\", function(){window._Plotly.Plots.resize(document.getElementById(\"88d73f3e-6b1f-47c6-907a-d5385373f066\"));});</script>"
      ],
      "text/vnd.plotly.v1+html": [
       "<div id=\"88d73f3e-6b1f-47c6-907a-d5385373f066\" style=\"height: 525px; width: 100%;\" class=\"plotly-graph-div\"></div><script type=\"text/javascript\">require([\"plotly\"], function(Plotly) { window.PLOTLYENV=window.PLOTLYENV || {};window.PLOTLYENV.BASE_URL=\"https://plot.ly\";Plotly.newPlot(\"88d73f3e-6b1f-47c6-907a-d5385373f066\", [{\"mode\": \"lines+markers\", \"name\": \"RaykarDS\", \"x\": [\"0\", \"0.2\", \"0.5\", \"0.8\", \"1\"], \"y\": [0.95065, 0.9241, 0.89272, 0.92255, 0.95119], \"type\": \"scatter\", \"uid\": \"c6b19004-db7c-46ce-b81c-17dd503f1b5d\", \"xaxis\": \"x\", \"yaxis\": \"y\"}, {\"mode\": \"lines+markers\", \"name\": \"RaykarDS_l\", \"x\": [\"0\", \"0.2\", \"0.5\", \"0.8\", \"1\"], \"y\": [0.89124, 0.90345, 0.89124, 0.80389, 0.99981], \"type\": \"scatter\", \"uid\": \"0fbbae64-13b8-4338-b8b4-3b687986c9fd\", \"xaxis\": \"x\", \"yaxis\": \"y\"}, {\"mode\": \"lines+markers\", \"name\": \"DS\", \"x\": [\"0\", \"0.2\", \"0.5\", \"0.8\", \"1\"], \"y\": [0.89124, 0.89124, 0.89124, 0.89124, 0.89124], \"type\": \"scatter\", \"uid\": \"f887a8c6-6e9f-40ec-b902-e578f71cf763\", \"xaxis\": \"x\", \"yaxis\": \"y\"}, {\"mode\": \"lines+markers\", \"name\": \"Raykar\", \"x\": [\"0\", \"0.2\", \"0.5\", \"0.8\", \"1\"], \"y\": [0.00019, 0.20274, 0.49895, 0.79726, 0.99981], \"type\": \"scatter\", \"uid\": \"cba48e8d-3d1d-4c79-9bf1-7b3cab0f81b5\", \"xaxis\": \"x\", \"yaxis\": \"y\"}], {\"annotations\": [{\"font\": {\"size\": 16}, \"showarrow\": false, \"text\": \"METHOD generate_points ([0.6, 0.7, 0.7, 0.8, 0.9], [0.6, 0.7, 0.7, 0.8, 0.9])\", \"x\": 0.5, \"xanchor\": \"center\", \"xref\": \"paper\", \"y\": 1.0, \"yanchor\": \"bottom\", \"yref\": \"paper\"}], \"xaxis\": {\"anchor\": \"y\", \"domain\": [0.0, 1.0]}, \"yaxis\": {\"anchor\": \"x\", \"domain\": [0.0, 1.0]}}, {\"showLink\": false, \"linkText\": \"Export to plot.ly\", \"plotlyServerURL\": \"https://plot.ly\"})});</script><script type=\"text/javascript\">window.addEventListener(\"resize\", function(){window._Plotly.Plots.resize(document.getElementById(\"88d73f3e-6b1f-47c6-907a-d5385373f066\"));});</script>"
      ]
     },
     "metadata": {},
     "output_type": "display_data"
    }
   ],
   "source": [
    "show_plots('acc', transforme_data(old_points))"
   ]
  },
  {
   "cell_type": "code",
   "execution_count": 11,
   "metadata": {},
   "outputs": [],
   "source": [
    "file_name = 'res_test_01.json'"
   ]
  },
  {
   "cell_type": "code",
   "execution_count": 12,
   "metadata": {},
   "outputs": [],
   "source": [
    "with open(os.path.join(dir_, file_name), 'r') as file_from:\n",
    "    points_01 = json.load(file_from)"
   ]
  },
  {
   "cell_type": "code",
   "execution_count": 13,
   "metadata": {},
   "outputs": [
    {
     "name": "stdout",
     "output_type": "stream",
     "text": [
      "acc\n",
      "This is the format of your plot grid:\n",
      "[ (1,1) x1,y1 ]\n",
      "\n"
     ]
    },
    {
     "data": {
      "application/vnd.plotly.v1+json": {
       "config": {
        "linkText": "Export to plot.ly",
        "plotlyServerURL": "https://plot.ly",
        "showLink": false
       },
       "data": [
        {
         "mode": "lines+markers",
         "name": "RaykarDS",
         "type": "scatter",
         "uid": "234b0ae4-cfbd-4caa-a628-3fac6d45ccbc",
         "x": [
          "0.49978",
          "0.60079",
          "0.7507",
          "0.89899",
          "1.0"
         ],
         "xaxis": "x",
         "y": [
          0.74905,
          0.74905,
          0.74905,
          0.77526,
          0.78014
         ],
         "yaxis": "y"
        },
        {
         "mode": "lines+markers",
         "name": "RaykarDS_l",
         "type": "scatter",
         "uid": "a3acf753-435c-4b5b-b011-2b8ebbef806a",
         "x": [
          "0.49978",
          "0.60079",
          "0.7507",
          "0.89899",
          "1.0"
         ],
         "xaxis": "x",
         "y": [
          0.74905,
          0.70077,
          0.7512,
          0.89857,
          0.99945
         ],
         "yaxis": "y"
        },
        {
         "mode": "lines+markers",
         "name": "DS",
         "type": "scatter",
         "uid": "ff4bba4b-2183-4d37-a83c-a8cae14df06b",
         "x": [
          "0.49978",
          "0.60079",
          "0.7507",
          "0.89899",
          "1.0"
         ],
         "xaxis": "x",
         "y": [
          0.74905,
          0.74905,
          0.74905,
          0.74905,
          0.74905
         ],
         "yaxis": "y"
        },
        {
         "mode": "lines+markers",
         "name": "Raykar",
         "type": "scatter",
         "uid": "632c36f1-1697-4e5d-a081-2b97be75353f",
         "x": [
          "0.49978",
          "0.60079",
          "0.7507",
          "0.89899",
          "1.0"
         ],
         "xaxis": "x",
         "y": [
          0.49968,
          0.40477,
          0.74772,
          0.89787,
          0.99945
         ],
         "yaxis": "y"
        }
       ],
       "layout": {
        "annotations": [
         {
          "font": {
           "size": 16
          },
          "showarrow": false,
          "text": "METHOD generate_AB_points ([0.6, 0.6, 0.6, 0.7, 0.7], [0.6, 0.6, 0.6, 0.7, 0.7])",
          "x": 0.5,
          "xanchor": "center",
          "xref": "paper",
          "y": 1,
          "yanchor": "bottom",
          "yref": "paper"
         }
        ],
        "xaxis": {
         "anchor": "y",
         "domain": [
          0,
          1
         ]
        },
        "yaxis": {
         "anchor": "x",
         "domain": [
          0,
          1
         ]
        }
       }
      },
      "text/html": [
       "<div id=\"00c35468-d71d-4e8e-b5bb-8453d1ff1d06\" style=\"height: 525px; width: 100%;\" class=\"plotly-graph-div\"></div><script type=\"text/javascript\">require([\"plotly\"], function(Plotly) { window.PLOTLYENV=window.PLOTLYENV || {};window.PLOTLYENV.BASE_URL=\"https://plot.ly\";Plotly.newPlot(\"00c35468-d71d-4e8e-b5bb-8453d1ff1d06\", [{\"mode\": \"lines+markers\", \"name\": \"RaykarDS\", \"x\": [\"0.49978\", \"0.60079\", \"0.7507\", \"0.89899\", \"1.0\"], \"y\": [0.74905, 0.74905, 0.74905, 0.77526, 0.78014], \"type\": \"scatter\", \"uid\": \"234b0ae4-cfbd-4caa-a628-3fac6d45ccbc\", \"xaxis\": \"x\", \"yaxis\": \"y\"}, {\"mode\": \"lines+markers\", \"name\": \"RaykarDS_l\", \"x\": [\"0.49978\", \"0.60079\", \"0.7507\", \"0.89899\", \"1.0\"], \"y\": [0.74905, 0.70077, 0.7512, 0.89857, 0.99945], \"type\": \"scatter\", \"uid\": \"a3acf753-435c-4b5b-b011-2b8ebbef806a\", \"xaxis\": \"x\", \"yaxis\": \"y\"}, {\"mode\": \"lines+markers\", \"name\": \"DS\", \"x\": [\"0.49978\", \"0.60079\", \"0.7507\", \"0.89899\", \"1.0\"], \"y\": [0.74905, 0.74905, 0.74905, 0.74905, 0.74905], \"type\": \"scatter\", \"uid\": \"ff4bba4b-2183-4d37-a83c-a8cae14df06b\", \"xaxis\": \"x\", \"yaxis\": \"y\"}, {\"mode\": \"lines+markers\", \"name\": \"Raykar\", \"x\": [\"0.49978\", \"0.60079\", \"0.7507\", \"0.89899\", \"1.0\"], \"y\": [0.49968, 0.40477, 0.74772, 0.89787, 0.99945], \"type\": \"scatter\", \"uid\": \"632c36f1-1697-4e5d-a081-2b97be75353f\", \"xaxis\": \"x\", \"yaxis\": \"y\"}], {\"annotations\": [{\"font\": {\"size\": 16}, \"showarrow\": false, \"text\": \"METHOD generate_AB_points ([0.6, 0.6, 0.6, 0.7, 0.7], [0.6, 0.6, 0.6, 0.7, 0.7])\", \"x\": 0.5, \"xanchor\": \"center\", \"xref\": \"paper\", \"y\": 1.0, \"yanchor\": \"bottom\", \"yref\": \"paper\"}], \"xaxis\": {\"anchor\": \"y\", \"domain\": [0.0, 1.0]}, \"yaxis\": {\"anchor\": \"x\", \"domain\": [0.0, 1.0]}}, {\"showLink\": false, \"linkText\": \"Export to plot.ly\", \"plotlyServerURL\": \"https://plot.ly\"})});</script><script type=\"text/javascript\">window.addEventListener(\"resize\", function(){window._Plotly.Plots.resize(document.getElementById(\"00c35468-d71d-4e8e-b5bb-8453d1ff1d06\"));});</script>"
      ],
      "text/vnd.plotly.v1+html": [
       "<div id=\"00c35468-d71d-4e8e-b5bb-8453d1ff1d06\" style=\"height: 525px; width: 100%;\" class=\"plotly-graph-div\"></div><script type=\"text/javascript\">require([\"plotly\"], function(Plotly) { window.PLOTLYENV=window.PLOTLYENV || {};window.PLOTLYENV.BASE_URL=\"https://plot.ly\";Plotly.newPlot(\"00c35468-d71d-4e8e-b5bb-8453d1ff1d06\", [{\"mode\": \"lines+markers\", \"name\": \"RaykarDS\", \"x\": [\"0.49978\", \"0.60079\", \"0.7507\", \"0.89899\", \"1.0\"], \"y\": [0.74905, 0.74905, 0.74905, 0.77526, 0.78014], \"type\": \"scatter\", \"uid\": \"234b0ae4-cfbd-4caa-a628-3fac6d45ccbc\", \"xaxis\": \"x\", \"yaxis\": \"y\"}, {\"mode\": \"lines+markers\", \"name\": \"RaykarDS_l\", \"x\": [\"0.49978\", \"0.60079\", \"0.7507\", \"0.89899\", \"1.0\"], \"y\": [0.74905, 0.70077, 0.7512, 0.89857, 0.99945], \"type\": \"scatter\", \"uid\": \"a3acf753-435c-4b5b-b011-2b8ebbef806a\", \"xaxis\": \"x\", \"yaxis\": \"y\"}, {\"mode\": \"lines+markers\", \"name\": \"DS\", \"x\": [\"0.49978\", \"0.60079\", \"0.7507\", \"0.89899\", \"1.0\"], \"y\": [0.74905, 0.74905, 0.74905, 0.74905, 0.74905], \"type\": \"scatter\", \"uid\": \"ff4bba4b-2183-4d37-a83c-a8cae14df06b\", \"xaxis\": \"x\", \"yaxis\": \"y\"}, {\"mode\": \"lines+markers\", \"name\": \"Raykar\", \"x\": [\"0.49978\", \"0.60079\", \"0.7507\", \"0.89899\", \"1.0\"], \"y\": [0.49968, 0.40477, 0.74772, 0.89787, 0.99945], \"type\": \"scatter\", \"uid\": \"632c36f1-1697-4e5d-a081-2b97be75353f\", \"xaxis\": \"x\", \"yaxis\": \"y\"}], {\"annotations\": [{\"font\": {\"size\": 16}, \"showarrow\": false, \"text\": \"METHOD generate_AB_points ([0.6, 0.6, 0.6, 0.7, 0.7], [0.6, 0.6, 0.6, 0.7, 0.7])\", \"x\": 0.5, \"xanchor\": \"center\", \"xref\": \"paper\", \"y\": 1.0, \"yanchor\": \"bottom\", \"yref\": \"paper\"}], \"xaxis\": {\"anchor\": \"y\", \"domain\": [0.0, 1.0]}, \"yaxis\": {\"anchor\": \"x\", \"domain\": [0.0, 1.0]}}, {\"showLink\": false, \"linkText\": \"Export to plot.ly\", \"plotlyServerURL\": \"https://plot.ly\"})});</script><script type=\"text/javascript\">window.addEventListener(\"resize\", function(){window._Plotly.Plots.resize(document.getElementById(\"00c35468-d71d-4e8e-b5bb-8453d1ff1d06\"));});</script>"
      ]
     },
     "metadata": {},
     "output_type": "display_data"
    },
    {
     "name": "stdout",
     "output_type": "stream",
     "text": [
      "This is the format of your plot grid:\n",
      "[ (1,1) x1,y1 ]\n",
      "\n"
     ]
    },
    {
     "data": {
      "application/vnd.plotly.v1+json": {
       "config": {
        "linkText": "Export to plot.ly",
        "plotlyServerURL": "https://plot.ly",
        "showLink": false
       },
       "data": [
        {
         "mode": "lines+markers",
         "name": "RaykarDS",
         "type": "scatter",
         "uid": "7fd2fc11-6ca8-4540-8d01-8f4ee5095006",
         "x": [
          "0.49978",
          "0.60079",
          "0.7507",
          "0.89899",
          "1.0"
         ],
         "xaxis": "x",
         "y": [
          0.83876,
          0.83876,
          0.83876,
          0.83876,
          0.83876
         ],
         "yaxis": "y"
        },
        {
         "mode": "lines+markers",
         "name": "RaykarDS_l",
         "type": "scatter",
         "uid": "8ef2ba22-d962-4430-a550-e44849432b31",
         "x": [
          "0.49978",
          "0.60079",
          "0.7507",
          "0.89899",
          "1.0"
         ],
         "xaxis": "x",
         "y": [
          0.83876,
          0.74895,
          0.76019,
          0.89885,
          0.99966
         ],
         "yaxis": "y"
        },
        {
         "mode": "lines+markers",
         "name": "DS",
         "type": "scatter",
         "uid": "a4074680-9ff6-4971-8e46-fd052a71ae2b",
         "x": [
          "0.49978",
          "0.60079",
          "0.7507",
          "0.89899",
          "1.0"
         ],
         "xaxis": "x",
         "y": [
          0.83876,
          0.83876,
          0.83876,
          0.83876,
          0.83876
         ],
         "yaxis": "y"
        },
        {
         "mode": "lines+markers",
         "name": "Raykar",
         "type": "scatter",
         "uid": "344e723c-3fbb-4cd8-a6a0-f5f6c7362194",
         "x": [
          "0.49978",
          "0.60079",
          "0.7507",
          "0.89899",
          "1.0"
         ],
         "xaxis": "x",
         "y": [
          0.49834,
          0.40157,
          0.74822,
          0.89789,
          0.99966
         ],
         "yaxis": "y"
        }
       ],
       "layout": {
        "annotations": [
         {
          "font": {
           "size": 16
          },
          "showarrow": false,
          "text": "METHOD generate_AB_points ([0.6, 0.7, 0.7, 0.7, 0.8], [0.6, 0.7, 0.7, 0.7, 0.8])",
          "x": 0.5,
          "xanchor": "center",
          "xref": "paper",
          "y": 1,
          "yanchor": "bottom",
          "yref": "paper"
         }
        ],
        "xaxis": {
         "anchor": "y",
         "domain": [
          0,
          1
         ]
        },
        "yaxis": {
         "anchor": "x",
         "domain": [
          0,
          1
         ]
        }
       }
      },
      "text/html": [
       "<div id=\"edfb93ef-5a08-4510-9ce8-7d4c95f3bb1d\" style=\"height: 525px; width: 100%;\" class=\"plotly-graph-div\"></div><script type=\"text/javascript\">require([\"plotly\"], function(Plotly) { window.PLOTLYENV=window.PLOTLYENV || {};window.PLOTLYENV.BASE_URL=\"https://plot.ly\";Plotly.newPlot(\"edfb93ef-5a08-4510-9ce8-7d4c95f3bb1d\", [{\"mode\": \"lines+markers\", \"name\": \"RaykarDS\", \"x\": [\"0.49978\", \"0.60079\", \"0.7507\", \"0.89899\", \"1.0\"], \"y\": [0.83876, 0.83876, 0.83876, 0.83876, 0.83876], \"type\": \"scatter\", \"uid\": \"7fd2fc11-6ca8-4540-8d01-8f4ee5095006\", \"xaxis\": \"x\", \"yaxis\": \"y\"}, {\"mode\": \"lines+markers\", \"name\": \"RaykarDS_l\", \"x\": [\"0.49978\", \"0.60079\", \"0.7507\", \"0.89899\", \"1.0\"], \"y\": [0.83876, 0.74895, 0.76019, 0.89885, 0.99966], \"type\": \"scatter\", \"uid\": \"8ef2ba22-d962-4430-a550-e44849432b31\", \"xaxis\": \"x\", \"yaxis\": \"y\"}, {\"mode\": \"lines+markers\", \"name\": \"DS\", \"x\": [\"0.49978\", \"0.60079\", \"0.7507\", \"0.89899\", \"1.0\"], \"y\": [0.83876, 0.83876, 0.83876, 0.83876, 0.83876], \"type\": \"scatter\", \"uid\": \"a4074680-9ff6-4971-8e46-fd052a71ae2b\", \"xaxis\": \"x\", \"yaxis\": \"y\"}, {\"mode\": \"lines+markers\", \"name\": \"Raykar\", \"x\": [\"0.49978\", \"0.60079\", \"0.7507\", \"0.89899\", \"1.0\"], \"y\": [0.49834, 0.40157, 0.74822, 0.89789, 0.99966], \"type\": \"scatter\", \"uid\": \"344e723c-3fbb-4cd8-a6a0-f5f6c7362194\", \"xaxis\": \"x\", \"yaxis\": \"y\"}], {\"annotations\": [{\"font\": {\"size\": 16}, \"showarrow\": false, \"text\": \"METHOD generate_AB_points ([0.6, 0.7, 0.7, 0.7, 0.8], [0.6, 0.7, 0.7, 0.7, 0.8])\", \"x\": 0.5, \"xanchor\": \"center\", \"xref\": \"paper\", \"y\": 1.0, \"yanchor\": \"bottom\", \"yref\": \"paper\"}], \"xaxis\": {\"anchor\": \"y\", \"domain\": [0.0, 1.0]}, \"yaxis\": {\"anchor\": \"x\", \"domain\": [0.0, 1.0]}}, {\"showLink\": false, \"linkText\": \"Export to plot.ly\", \"plotlyServerURL\": \"https://plot.ly\"})});</script><script type=\"text/javascript\">window.addEventListener(\"resize\", function(){window._Plotly.Plots.resize(document.getElementById(\"edfb93ef-5a08-4510-9ce8-7d4c95f3bb1d\"));});</script>"
      ],
      "text/vnd.plotly.v1+html": [
       "<div id=\"edfb93ef-5a08-4510-9ce8-7d4c95f3bb1d\" style=\"height: 525px; width: 100%;\" class=\"plotly-graph-div\"></div><script type=\"text/javascript\">require([\"plotly\"], function(Plotly) { window.PLOTLYENV=window.PLOTLYENV || {};window.PLOTLYENV.BASE_URL=\"https://plot.ly\";Plotly.newPlot(\"edfb93ef-5a08-4510-9ce8-7d4c95f3bb1d\", [{\"mode\": \"lines+markers\", \"name\": \"RaykarDS\", \"x\": [\"0.49978\", \"0.60079\", \"0.7507\", \"0.89899\", \"1.0\"], \"y\": [0.83876, 0.83876, 0.83876, 0.83876, 0.83876], \"type\": \"scatter\", \"uid\": \"7fd2fc11-6ca8-4540-8d01-8f4ee5095006\", \"xaxis\": \"x\", \"yaxis\": \"y\"}, {\"mode\": \"lines+markers\", \"name\": \"RaykarDS_l\", \"x\": [\"0.49978\", \"0.60079\", \"0.7507\", \"0.89899\", \"1.0\"], \"y\": [0.83876, 0.74895, 0.76019, 0.89885, 0.99966], \"type\": \"scatter\", \"uid\": \"8ef2ba22-d962-4430-a550-e44849432b31\", \"xaxis\": \"x\", \"yaxis\": \"y\"}, {\"mode\": \"lines+markers\", \"name\": \"DS\", \"x\": [\"0.49978\", \"0.60079\", \"0.7507\", \"0.89899\", \"1.0\"], \"y\": [0.83876, 0.83876, 0.83876, 0.83876, 0.83876], \"type\": \"scatter\", \"uid\": \"a4074680-9ff6-4971-8e46-fd052a71ae2b\", \"xaxis\": \"x\", \"yaxis\": \"y\"}, {\"mode\": \"lines+markers\", \"name\": \"Raykar\", \"x\": [\"0.49978\", \"0.60079\", \"0.7507\", \"0.89899\", \"1.0\"], \"y\": [0.49834, 0.40157, 0.74822, 0.89789, 0.99966], \"type\": \"scatter\", \"uid\": \"344e723c-3fbb-4cd8-a6a0-f5f6c7362194\", \"xaxis\": \"x\", \"yaxis\": \"y\"}], {\"annotations\": [{\"font\": {\"size\": 16}, \"showarrow\": false, \"text\": \"METHOD generate_AB_points ([0.6, 0.7, 0.7, 0.7, 0.8], [0.6, 0.7, 0.7, 0.7, 0.8])\", \"x\": 0.5, \"xanchor\": \"center\", \"xref\": \"paper\", \"y\": 1.0, \"yanchor\": \"bottom\", \"yref\": \"paper\"}], \"xaxis\": {\"anchor\": \"y\", \"domain\": [0.0, 1.0]}, \"yaxis\": {\"anchor\": \"x\", \"domain\": [0.0, 1.0]}}, {\"showLink\": false, \"linkText\": \"Export to plot.ly\", \"plotlyServerURL\": \"https://plot.ly\"})});</script><script type=\"text/javascript\">window.addEventListener(\"resize\", function(){window._Plotly.Plots.resize(document.getElementById(\"edfb93ef-5a08-4510-9ce8-7d4c95f3bb1d\"));});</script>"
      ]
     },
     "metadata": {},
     "output_type": "display_data"
    },
    {
     "name": "stdout",
     "output_type": "stream",
     "text": [
      "This is the format of your plot grid:\n",
      "[ (1,1) x1,y1 ]\n",
      "\n"
     ]
    },
    {
     "data": {
      "application/vnd.plotly.v1+json": {
       "config": {
        "linkText": "Export to plot.ly",
        "plotlyServerURL": "https://plot.ly",
        "showLink": false
       },
       "data": [
        {
         "mode": "lines+markers",
         "name": "RaykarDS",
         "type": "scatter",
         "uid": "8ad89bdc-5cbd-41bd-9c29-934eaae18422",
         "x": [
          "0.49978",
          "0.60079",
          "0.7507",
          "0.89899",
          "1.0"
         ],
         "xaxis": "x",
         "y": [
          0.92156,
          0.93403,
          0.95183,
          0.96841,
          0.9813
         ],
         "yaxis": "y"
        },
        {
         "mode": "lines+markers",
         "name": "RaykarDS_l",
         "type": "scatter",
         "uid": "8e89bfa6-720c-47dd-b49e-52fc6507d010",
         "x": [
          "0.49978",
          "0.60079",
          "0.7507",
          "0.89899",
          "1.0"
         ],
         "xaxis": "x",
         "y": [
          0.91947,
          0.82278,
          0.7639,
          0.89973,
          0.99989
         ],
         "yaxis": "y"
        },
        {
         "mode": "lines+markers",
         "name": "DS",
         "type": "scatter",
         "uid": "cc906161-765f-49c9-996b-27fc0c4d9a6e",
         "x": [
          "0.49978",
          "0.60079",
          "0.7507",
          "0.89899",
          "1.0"
         ],
         "xaxis": "x",
         "y": [
          0.91969,
          0.92033,
          0.92027,
          0.91879,
          0.91943
         ],
         "yaxis": "y"
        },
        {
         "mode": "lines+markers",
         "name": "Raykar",
         "type": "scatter",
         "uid": "c16baed6-6b1c-43e1-b45b-76d5c005167f",
         "x": [
          "0.49978",
          "0.60079",
          "0.7507",
          "0.89899",
          "1.0"
         ],
         "xaxis": "x",
         "y": [
          0.50198,
          0.5988,
          0.74878,
          0.89797,
          0.99989
         ],
         "yaxis": "y"
        }
       ],
       "layout": {
        "annotations": [
         {
          "font": {
           "size": 16
          },
          "showarrow": false,
          "text": "METHOD generate_AB_points ([0.6, 0.7, 0.7, 0.8, 0.9, 0.9], [0.6, 0.7, 0.7, 0.8, 0.9, 0.9])",
          "x": 0.5,
          "xanchor": "center",
          "xref": "paper",
          "y": 1,
          "yanchor": "bottom",
          "yref": "paper"
         }
        ],
        "xaxis": {
         "anchor": "y",
         "domain": [
          0,
          1
         ]
        },
        "yaxis": {
         "anchor": "x",
         "domain": [
          0,
          1
         ]
        }
       }
      },
      "text/html": [
       "<div id=\"e86ecb74-6255-41eb-a03d-afede920cd1e\" style=\"height: 525px; width: 100%;\" class=\"plotly-graph-div\"></div><script type=\"text/javascript\">require([\"plotly\"], function(Plotly) { window.PLOTLYENV=window.PLOTLYENV || {};window.PLOTLYENV.BASE_URL=\"https://plot.ly\";Plotly.newPlot(\"e86ecb74-6255-41eb-a03d-afede920cd1e\", [{\"mode\": \"lines+markers\", \"name\": \"RaykarDS\", \"x\": [\"0.49978\", \"0.60079\", \"0.7507\", \"0.89899\", \"1.0\"], \"y\": [0.92156, 0.93403, 0.95183, 0.96841, 0.9813], \"type\": \"scatter\", \"uid\": \"8ad89bdc-5cbd-41bd-9c29-934eaae18422\", \"xaxis\": \"x\", \"yaxis\": \"y\"}, {\"mode\": \"lines+markers\", \"name\": \"RaykarDS_l\", \"x\": [\"0.49978\", \"0.60079\", \"0.7507\", \"0.89899\", \"1.0\"], \"y\": [0.91947, 0.82278, 0.7639, 0.89973, 0.99989], \"type\": \"scatter\", \"uid\": \"8e89bfa6-720c-47dd-b49e-52fc6507d010\", \"xaxis\": \"x\", \"yaxis\": \"y\"}, {\"mode\": \"lines+markers\", \"name\": \"DS\", \"x\": [\"0.49978\", \"0.60079\", \"0.7507\", \"0.89899\", \"1.0\"], \"y\": [0.91969, 0.92033, 0.92027, 0.91879, 0.91943], \"type\": \"scatter\", \"uid\": \"cc906161-765f-49c9-996b-27fc0c4d9a6e\", \"xaxis\": \"x\", \"yaxis\": \"y\"}, {\"mode\": \"lines+markers\", \"name\": \"Raykar\", \"x\": [\"0.49978\", \"0.60079\", \"0.7507\", \"0.89899\", \"1.0\"], \"y\": [0.50198, 0.5988, 0.74878, 0.89797, 0.99989], \"type\": \"scatter\", \"uid\": \"c16baed6-6b1c-43e1-b45b-76d5c005167f\", \"xaxis\": \"x\", \"yaxis\": \"y\"}], {\"annotations\": [{\"font\": {\"size\": 16}, \"showarrow\": false, \"text\": \"METHOD generate_AB_points ([0.6, 0.7, 0.7, 0.8, 0.9, 0.9], [0.6, 0.7, 0.7, 0.8, 0.9, 0.9])\", \"x\": 0.5, \"xanchor\": \"center\", \"xref\": \"paper\", \"y\": 1.0, \"yanchor\": \"bottom\", \"yref\": \"paper\"}], \"xaxis\": {\"anchor\": \"y\", \"domain\": [0.0, 1.0]}, \"yaxis\": {\"anchor\": \"x\", \"domain\": [0.0, 1.0]}}, {\"showLink\": false, \"linkText\": \"Export to plot.ly\", \"plotlyServerURL\": \"https://plot.ly\"})});</script><script type=\"text/javascript\">window.addEventListener(\"resize\", function(){window._Plotly.Plots.resize(document.getElementById(\"e86ecb74-6255-41eb-a03d-afede920cd1e\"));});</script>"
      ],
      "text/vnd.plotly.v1+html": [
       "<div id=\"e86ecb74-6255-41eb-a03d-afede920cd1e\" style=\"height: 525px; width: 100%;\" class=\"plotly-graph-div\"></div><script type=\"text/javascript\">require([\"plotly\"], function(Plotly) { window.PLOTLYENV=window.PLOTLYENV || {};window.PLOTLYENV.BASE_URL=\"https://plot.ly\";Plotly.newPlot(\"e86ecb74-6255-41eb-a03d-afede920cd1e\", [{\"mode\": \"lines+markers\", \"name\": \"RaykarDS\", \"x\": [\"0.49978\", \"0.60079\", \"0.7507\", \"0.89899\", \"1.0\"], \"y\": [0.92156, 0.93403, 0.95183, 0.96841, 0.9813], \"type\": \"scatter\", \"uid\": \"8ad89bdc-5cbd-41bd-9c29-934eaae18422\", \"xaxis\": \"x\", \"yaxis\": \"y\"}, {\"mode\": \"lines+markers\", \"name\": \"RaykarDS_l\", \"x\": [\"0.49978\", \"0.60079\", \"0.7507\", \"0.89899\", \"1.0\"], \"y\": [0.91947, 0.82278, 0.7639, 0.89973, 0.99989], \"type\": \"scatter\", \"uid\": \"8e89bfa6-720c-47dd-b49e-52fc6507d010\", \"xaxis\": \"x\", \"yaxis\": \"y\"}, {\"mode\": \"lines+markers\", \"name\": \"DS\", \"x\": [\"0.49978\", \"0.60079\", \"0.7507\", \"0.89899\", \"1.0\"], \"y\": [0.91969, 0.92033, 0.92027, 0.91879, 0.91943], \"type\": \"scatter\", \"uid\": \"cc906161-765f-49c9-996b-27fc0c4d9a6e\", \"xaxis\": \"x\", \"yaxis\": \"y\"}, {\"mode\": \"lines+markers\", \"name\": \"Raykar\", \"x\": [\"0.49978\", \"0.60079\", \"0.7507\", \"0.89899\", \"1.0\"], \"y\": [0.50198, 0.5988, 0.74878, 0.89797, 0.99989], \"type\": \"scatter\", \"uid\": \"c16baed6-6b1c-43e1-b45b-76d5c005167f\", \"xaxis\": \"x\", \"yaxis\": \"y\"}], {\"annotations\": [{\"font\": {\"size\": 16}, \"showarrow\": false, \"text\": \"METHOD generate_AB_points ([0.6, 0.7, 0.7, 0.8, 0.9, 0.9], [0.6, 0.7, 0.7, 0.8, 0.9, 0.9])\", \"x\": 0.5, \"xanchor\": \"center\", \"xref\": \"paper\", \"y\": 1.0, \"yanchor\": \"bottom\", \"yref\": \"paper\"}], \"xaxis\": {\"anchor\": \"y\", \"domain\": [0.0, 1.0]}, \"yaxis\": {\"anchor\": \"x\", \"domain\": [0.0, 1.0]}}, {\"showLink\": false, \"linkText\": \"Export to plot.ly\", \"plotlyServerURL\": \"https://plot.ly\"})});</script><script type=\"text/javascript\">window.addEventListener(\"resize\", function(){window._Plotly.Plots.resize(document.getElementById(\"e86ecb74-6255-41eb-a03d-afede920cd1e\"));});</script>"
      ]
     },
     "metadata": {},
     "output_type": "display_data"
    },
    {
     "name": "stdout",
     "output_type": "stream",
     "text": [
      "This is the format of your plot grid:\n",
      "[ (1,1) x1,y1 ]\n",
      "\n"
     ]
    },
    {
     "data": {
      "application/vnd.plotly.v1+json": {
       "config": {
        "linkText": "Export to plot.ly",
        "plotlyServerURL": "https://plot.ly",
        "showLink": false
       },
       "data": [
        {
         "mode": "lines+markers",
         "name": "RaykarDS",
         "type": "scatter",
         "uid": "04884591-1087-4441-baed-2ed8e34ea40e",
         "x": [
          "0.49978",
          "0.60079",
          "0.7507",
          "0.89899",
          "1.0"
         ],
         "xaxis": "x",
         "y": [
          0.90796,
          0.91606,
          0.92832,
          0.93937,
          0.94819
         ],
         "yaxis": "y"
        },
        {
         "mode": "lines+markers",
         "name": "RaykarDS_l",
         "type": "scatter",
         "uid": "e714d820-2e63-426c-9ec3-65a14fcd18b4",
         "x": [
          "0.49978",
          "0.60079",
          "0.7507",
          "0.89899",
          "1.0"
         ],
         "xaxis": "x",
         "y": [
          0.89185,
          0.78425,
          0.76159,
          0.89943,
          0.99974
         ],
         "yaxis": "y"
        },
        {
         "mode": "lines+markers",
         "name": "DS",
         "type": "scatter",
         "uid": "ecc00632-fef1-4cca-82df-c3ecb5140666",
         "x": [
          "0.49978",
          "0.60079",
          "0.7507",
          "0.89899",
          "1.0"
         ],
         "xaxis": "x",
         "y": [
          0.89185,
          0.89185,
          0.89185,
          0.89185,
          0.89185
         ],
         "yaxis": "y"
        },
        {
         "mode": "lines+markers",
         "name": "Raykar",
         "type": "scatter",
         "uid": "5e94f81e-a5ea-4fbb-b92c-8fddcad39cdc",
         "x": [
          "0.49978",
          "0.60079",
          "0.7507",
          "0.89899",
          "1.0"
         ],
         "xaxis": "x",
         "y": [
          0.4989,
          0.40198,
          0.2512,
          0.89798,
          0.99974
         ],
         "yaxis": "y"
        }
       ],
       "layout": {
        "annotations": [
         {
          "font": {
           "size": 16
          },
          "showarrow": false,
          "text": "METHOD generate_AB_points ([0.6, 0.7, 0.7, 0.8, 0.9], [0.6, 0.7, 0.7, 0.8, 0.9])",
          "x": 0.5,
          "xanchor": "center",
          "xref": "paper",
          "y": 1,
          "yanchor": "bottom",
          "yref": "paper"
         }
        ],
        "xaxis": {
         "anchor": "y",
         "domain": [
          0,
          1
         ]
        },
        "yaxis": {
         "anchor": "x",
         "domain": [
          0,
          1
         ]
        }
       }
      },
      "text/html": [
       "<div id=\"07c4dea4-6a9d-4040-a270-c32729c2a5a7\" style=\"height: 525px; width: 100%;\" class=\"plotly-graph-div\"></div><script type=\"text/javascript\">require([\"plotly\"], function(Plotly) { window.PLOTLYENV=window.PLOTLYENV || {};window.PLOTLYENV.BASE_URL=\"https://plot.ly\";Plotly.newPlot(\"07c4dea4-6a9d-4040-a270-c32729c2a5a7\", [{\"mode\": \"lines+markers\", \"name\": \"RaykarDS\", \"x\": [\"0.49978\", \"0.60079\", \"0.7507\", \"0.89899\", \"1.0\"], \"y\": [0.90796, 0.91606, 0.92832, 0.93937, 0.94819], \"type\": \"scatter\", \"uid\": \"04884591-1087-4441-baed-2ed8e34ea40e\", \"xaxis\": \"x\", \"yaxis\": \"y\"}, {\"mode\": \"lines+markers\", \"name\": \"RaykarDS_l\", \"x\": [\"0.49978\", \"0.60079\", \"0.7507\", \"0.89899\", \"1.0\"], \"y\": [0.89185, 0.78425, 0.76159, 0.89943, 0.99974], \"type\": \"scatter\", \"uid\": \"e714d820-2e63-426c-9ec3-65a14fcd18b4\", \"xaxis\": \"x\", \"yaxis\": \"y\"}, {\"mode\": \"lines+markers\", \"name\": \"DS\", \"x\": [\"0.49978\", \"0.60079\", \"0.7507\", \"0.89899\", \"1.0\"], \"y\": [0.89185, 0.89185, 0.89185, 0.89185, 0.89185], \"type\": \"scatter\", \"uid\": \"ecc00632-fef1-4cca-82df-c3ecb5140666\", \"xaxis\": \"x\", \"yaxis\": \"y\"}, {\"mode\": \"lines+markers\", \"name\": \"Raykar\", \"x\": [\"0.49978\", \"0.60079\", \"0.7507\", \"0.89899\", \"1.0\"], \"y\": [0.4989, 0.40198, 0.2512, 0.89798, 0.99974], \"type\": \"scatter\", \"uid\": \"5e94f81e-a5ea-4fbb-b92c-8fddcad39cdc\", \"xaxis\": \"x\", \"yaxis\": \"y\"}], {\"annotations\": [{\"font\": {\"size\": 16}, \"showarrow\": false, \"text\": \"METHOD generate_AB_points ([0.6, 0.7, 0.7, 0.8, 0.9], [0.6, 0.7, 0.7, 0.8, 0.9])\", \"x\": 0.5, \"xanchor\": \"center\", \"xref\": \"paper\", \"y\": 1.0, \"yanchor\": \"bottom\", \"yref\": \"paper\"}], \"xaxis\": {\"anchor\": \"y\", \"domain\": [0.0, 1.0]}, \"yaxis\": {\"anchor\": \"x\", \"domain\": [0.0, 1.0]}}, {\"showLink\": false, \"linkText\": \"Export to plot.ly\", \"plotlyServerURL\": \"https://plot.ly\"})});</script><script type=\"text/javascript\">window.addEventListener(\"resize\", function(){window._Plotly.Plots.resize(document.getElementById(\"07c4dea4-6a9d-4040-a270-c32729c2a5a7\"));});</script>"
      ],
      "text/vnd.plotly.v1+html": [
       "<div id=\"07c4dea4-6a9d-4040-a270-c32729c2a5a7\" style=\"height: 525px; width: 100%;\" class=\"plotly-graph-div\"></div><script type=\"text/javascript\">require([\"plotly\"], function(Plotly) { window.PLOTLYENV=window.PLOTLYENV || {};window.PLOTLYENV.BASE_URL=\"https://plot.ly\";Plotly.newPlot(\"07c4dea4-6a9d-4040-a270-c32729c2a5a7\", [{\"mode\": \"lines+markers\", \"name\": \"RaykarDS\", \"x\": [\"0.49978\", \"0.60079\", \"0.7507\", \"0.89899\", \"1.0\"], \"y\": [0.90796, 0.91606, 0.92832, 0.93937, 0.94819], \"type\": \"scatter\", \"uid\": \"04884591-1087-4441-baed-2ed8e34ea40e\", \"xaxis\": \"x\", \"yaxis\": \"y\"}, {\"mode\": \"lines+markers\", \"name\": \"RaykarDS_l\", \"x\": [\"0.49978\", \"0.60079\", \"0.7507\", \"0.89899\", \"1.0\"], \"y\": [0.89185, 0.78425, 0.76159, 0.89943, 0.99974], \"type\": \"scatter\", \"uid\": \"e714d820-2e63-426c-9ec3-65a14fcd18b4\", \"xaxis\": \"x\", \"yaxis\": \"y\"}, {\"mode\": \"lines+markers\", \"name\": \"DS\", \"x\": [\"0.49978\", \"0.60079\", \"0.7507\", \"0.89899\", \"1.0\"], \"y\": [0.89185, 0.89185, 0.89185, 0.89185, 0.89185], \"type\": \"scatter\", \"uid\": \"ecc00632-fef1-4cca-82df-c3ecb5140666\", \"xaxis\": \"x\", \"yaxis\": \"y\"}, {\"mode\": \"lines+markers\", \"name\": \"Raykar\", \"x\": [\"0.49978\", \"0.60079\", \"0.7507\", \"0.89899\", \"1.0\"], \"y\": [0.4989, 0.40198, 0.2512, 0.89798, 0.99974], \"type\": \"scatter\", \"uid\": \"5e94f81e-a5ea-4fbb-b92c-8fddcad39cdc\", \"xaxis\": \"x\", \"yaxis\": \"y\"}], {\"annotations\": [{\"font\": {\"size\": 16}, \"showarrow\": false, \"text\": \"METHOD generate_AB_points ([0.6, 0.7, 0.7, 0.8, 0.9], [0.6, 0.7, 0.7, 0.8, 0.9])\", \"x\": 0.5, \"xanchor\": \"center\", \"xref\": \"paper\", \"y\": 1.0, \"yanchor\": \"bottom\", \"yref\": \"paper\"}], \"xaxis\": {\"anchor\": \"y\", \"domain\": [0.0, 1.0]}, \"yaxis\": {\"anchor\": \"x\", \"domain\": [0.0, 1.0]}}, {\"showLink\": false, \"linkText\": \"Export to plot.ly\", \"plotlyServerURL\": \"https://plot.ly\"})});</script><script type=\"text/javascript\">window.addEventListener(\"resize\", function(){window._Plotly.Plots.resize(document.getElementById(\"07c4dea4-6a9d-4040-a270-c32729c2a5a7\"));});</script>"
      ]
     },
     "metadata": {},
     "output_type": "display_data"
    },
    {
     "name": "stdout",
     "output_type": "stream",
     "text": [
      "This is the format of your plot grid:\n",
      "[ (1,1) x1,y1 ]\n",
      "\n"
     ]
    },
    {
     "data": {
      "application/vnd.plotly.v1+json": {
       "config": {
        "linkText": "Export to plot.ly",
        "plotlyServerURL": "https://plot.ly",
        "showLink": false
       },
       "data": [
        {
         "mode": "lines+markers",
         "name": "RaykarDS",
         "type": "scatter",
         "uid": "7b9e1d1f-ec67-4516-9f55-8d2d30b8ba6d",
         "x": [
          "0",
          "0.2",
          "0.5",
          "0.8",
          "1"
         ],
         "xaxis": "x",
         "y": [
          0.77867,
          0.74824,
          0.74824,
          0.76861,
          0.77867
         ],
         "yaxis": "y"
        },
        {
         "mode": "lines+markers",
         "name": "RaykarDS_l",
         "type": "scatter",
         "uid": "0122d6ad-bf5a-4d85-93f0-41d16c8cf921",
         "x": [
          "0",
          "0.2",
          "0.5",
          "0.8",
          "1"
         ],
         "xaxis": "x",
         "y": [
          0.74824,
          0.80228,
          0.74824,
          0.79914,
          0.99937
         ],
         "yaxis": "y"
        },
        {
         "mode": "lines+markers",
         "name": "DS",
         "type": "scatter",
         "uid": "151942a9-6e29-4177-b381-22f479f0c56f",
         "x": [
          "0",
          "0.2",
          "0.5",
          "0.8",
          "1"
         ],
         "xaxis": "x",
         "y": [
          0.74824,
          0.74824,
          0.74824,
          0.74824,
          0.74824
         ],
         "yaxis": "y"
        },
        {
         "mode": "lines+markers",
         "name": "Raykar",
         "type": "scatter",
         "uid": "ad2ace51-ede6-43f1-bcc4-c22ae9a86d9b",
         "x": [
          "0",
          "0.2",
          "0.5",
          "0.8",
          "1"
         ],
         "xaxis": "x",
         "y": [
          0.00063,
          0.42513,
          0.50053,
          0.57487,
          0.99937
         ],
         "yaxis": "y"
        }
       ],
       "layout": {
        "annotations": [
         {
          "font": {
           "size": 16
          },
          "showarrow": false,
          "text": "METHOD generate_points ([0.6, 0.6, 0.6, 0.7, 0.7], [0.6, 0.6, 0.6, 0.7, 0.7])",
          "x": 0.5,
          "xanchor": "center",
          "xref": "paper",
          "y": 1,
          "yanchor": "bottom",
          "yref": "paper"
         }
        ],
        "xaxis": {
         "anchor": "y",
         "domain": [
          0,
          1
         ]
        },
        "yaxis": {
         "anchor": "x",
         "domain": [
          0,
          1
         ]
        }
       }
      },
      "text/html": [
       "<div id=\"88076815-6a3b-4309-b95d-3c4ef1382321\" style=\"height: 525px; width: 100%;\" class=\"plotly-graph-div\"></div><script type=\"text/javascript\">require([\"plotly\"], function(Plotly) { window.PLOTLYENV=window.PLOTLYENV || {};window.PLOTLYENV.BASE_URL=\"https://plot.ly\";Plotly.newPlot(\"88076815-6a3b-4309-b95d-3c4ef1382321\", [{\"mode\": \"lines+markers\", \"name\": \"RaykarDS\", \"x\": [\"0\", \"0.2\", \"0.5\", \"0.8\", \"1\"], \"y\": [0.77867, 0.74824, 0.74824, 0.76861, 0.77867], \"type\": \"scatter\", \"uid\": \"7b9e1d1f-ec67-4516-9f55-8d2d30b8ba6d\", \"xaxis\": \"x\", \"yaxis\": \"y\"}, {\"mode\": \"lines+markers\", \"name\": \"RaykarDS_l\", \"x\": [\"0\", \"0.2\", \"0.5\", \"0.8\", \"1\"], \"y\": [0.74824, 0.80228, 0.74824, 0.79914, 0.99937], \"type\": \"scatter\", \"uid\": \"0122d6ad-bf5a-4d85-93f0-41d16c8cf921\", \"xaxis\": \"x\", \"yaxis\": \"y\"}, {\"mode\": \"lines+markers\", \"name\": \"DS\", \"x\": [\"0\", \"0.2\", \"0.5\", \"0.8\", \"1\"], \"y\": [0.74824, 0.74824, 0.74824, 0.74824, 0.74824], \"type\": \"scatter\", \"uid\": \"151942a9-6e29-4177-b381-22f479f0c56f\", \"xaxis\": \"x\", \"yaxis\": \"y\"}, {\"mode\": \"lines+markers\", \"name\": \"Raykar\", \"x\": [\"0\", \"0.2\", \"0.5\", \"0.8\", \"1\"], \"y\": [0.00063, 0.42513, 0.50053, 0.57487, 0.99937], \"type\": \"scatter\", \"uid\": \"ad2ace51-ede6-43f1-bcc4-c22ae9a86d9b\", \"xaxis\": \"x\", \"yaxis\": \"y\"}], {\"annotations\": [{\"font\": {\"size\": 16}, \"showarrow\": false, \"text\": \"METHOD generate_points ([0.6, 0.6, 0.6, 0.7, 0.7], [0.6, 0.6, 0.6, 0.7, 0.7])\", \"x\": 0.5, \"xanchor\": \"center\", \"xref\": \"paper\", \"y\": 1.0, \"yanchor\": \"bottom\", \"yref\": \"paper\"}], \"xaxis\": {\"anchor\": \"y\", \"domain\": [0.0, 1.0]}, \"yaxis\": {\"anchor\": \"x\", \"domain\": [0.0, 1.0]}}, {\"showLink\": false, \"linkText\": \"Export to plot.ly\", \"plotlyServerURL\": \"https://plot.ly\"})});</script><script type=\"text/javascript\">window.addEventListener(\"resize\", function(){window._Plotly.Plots.resize(document.getElementById(\"88076815-6a3b-4309-b95d-3c4ef1382321\"));});</script>"
      ],
      "text/vnd.plotly.v1+html": [
       "<div id=\"88076815-6a3b-4309-b95d-3c4ef1382321\" style=\"height: 525px; width: 100%;\" class=\"plotly-graph-div\"></div><script type=\"text/javascript\">require([\"plotly\"], function(Plotly) { window.PLOTLYENV=window.PLOTLYENV || {};window.PLOTLYENV.BASE_URL=\"https://plot.ly\";Plotly.newPlot(\"88076815-6a3b-4309-b95d-3c4ef1382321\", [{\"mode\": \"lines+markers\", \"name\": \"RaykarDS\", \"x\": [\"0\", \"0.2\", \"0.5\", \"0.8\", \"1\"], \"y\": [0.77867, 0.74824, 0.74824, 0.76861, 0.77867], \"type\": \"scatter\", \"uid\": \"7b9e1d1f-ec67-4516-9f55-8d2d30b8ba6d\", \"xaxis\": \"x\", \"yaxis\": \"y\"}, {\"mode\": \"lines+markers\", \"name\": \"RaykarDS_l\", \"x\": [\"0\", \"0.2\", \"0.5\", \"0.8\", \"1\"], \"y\": [0.74824, 0.80228, 0.74824, 0.79914, 0.99937], \"type\": \"scatter\", \"uid\": \"0122d6ad-bf5a-4d85-93f0-41d16c8cf921\", \"xaxis\": \"x\", \"yaxis\": \"y\"}, {\"mode\": \"lines+markers\", \"name\": \"DS\", \"x\": [\"0\", \"0.2\", \"0.5\", \"0.8\", \"1\"], \"y\": [0.74824, 0.74824, 0.74824, 0.74824, 0.74824], \"type\": \"scatter\", \"uid\": \"151942a9-6e29-4177-b381-22f479f0c56f\", \"xaxis\": \"x\", \"yaxis\": \"y\"}, {\"mode\": \"lines+markers\", \"name\": \"Raykar\", \"x\": [\"0\", \"0.2\", \"0.5\", \"0.8\", \"1\"], \"y\": [0.00063, 0.42513, 0.50053, 0.57487, 0.99937], \"type\": \"scatter\", \"uid\": \"ad2ace51-ede6-43f1-bcc4-c22ae9a86d9b\", \"xaxis\": \"x\", \"yaxis\": \"y\"}], {\"annotations\": [{\"font\": {\"size\": 16}, \"showarrow\": false, \"text\": \"METHOD generate_points ([0.6, 0.6, 0.6, 0.7, 0.7], [0.6, 0.6, 0.6, 0.7, 0.7])\", \"x\": 0.5, \"xanchor\": \"center\", \"xref\": \"paper\", \"y\": 1.0, \"yanchor\": \"bottom\", \"yref\": \"paper\"}], \"xaxis\": {\"anchor\": \"y\", \"domain\": [0.0, 1.0]}, \"yaxis\": {\"anchor\": \"x\", \"domain\": [0.0, 1.0]}}, {\"showLink\": false, \"linkText\": \"Export to plot.ly\", \"plotlyServerURL\": \"https://plot.ly\"})});</script><script type=\"text/javascript\">window.addEventListener(\"resize\", function(){window._Plotly.Plots.resize(document.getElementById(\"88076815-6a3b-4309-b95d-3c4ef1382321\"));});</script>"
      ]
     },
     "metadata": {},
     "output_type": "display_data"
    },
    {
     "name": "stdout",
     "output_type": "stream",
     "text": [
      "This is the format of your plot grid:\n",
      "[ (1,1) x1,y1 ]\n",
      "\n"
     ]
    },
    {
     "data": {
      "application/vnd.plotly.v1+json": {
       "config": {
        "linkText": "Export to plot.ly",
        "plotlyServerURL": "https://plot.ly",
        "showLink": false
       },
       "data": [
        {
         "mode": "lines+markers",
         "name": "RaykarDS",
         "type": "scatter",
         "uid": "e7e2f18b-524c-4ca5-a121-e5537f98602e",
         "x": [
          "0",
          "0.2",
          "0.5",
          "0.8",
          "1"
         ],
         "xaxis": "x",
         "y": [
          0.83815,
          0.83815,
          0.83815,
          0.83815,
          0.83815
         ],
         "yaxis": "y"
        },
        {
         "mode": "lines+markers",
         "name": "RaykarDS_l",
         "type": "scatter",
         "uid": "7cceaf1b-8237-4e78-8872-6e674f73fca9",
         "x": [
          "0",
          "0.2",
          "0.5",
          "0.8",
          "1"
         ],
         "xaxis": "x",
         "y": [
          0.83815,
          0.86679,
          0.83815,
          0.80314,
          0.99961
         ],
         "yaxis": "y"
        },
        {
         "mode": "lines+markers",
         "name": "DS",
         "type": "scatter",
         "uid": "a182b929-1950-4b9d-83c9-2f23ec566c2f",
         "x": [
          "0",
          "0.2",
          "0.5",
          "0.8",
          "1"
         ],
         "xaxis": "x",
         "y": [
          0.83815,
          0.83815,
          0.83815,
          0.83815,
          0.83815
         ],
         "yaxis": "y"
        },
        {
         "mode": "lines+markers",
         "name": "Raykar",
         "type": "scatter",
         "uid": "6a7c1ac0-e9cd-4b0c-a9eb-1e629bb261dd",
         "x": [
          "0",
          "0.2",
          "0.5",
          "0.8",
          "1"
         ],
         "xaxis": "x",
         "y": [
          0.00039,
          0.20408,
          0.49934,
          0.79592,
          0.99961
         ],
         "yaxis": "y"
        }
       ],
       "layout": {
        "annotations": [
         {
          "font": {
           "size": 16
          },
          "showarrow": false,
          "text": "METHOD generate_points ([0.6, 0.7, 0.7, 0.7, 0.8], [0.6, 0.7, 0.7, 0.7, 0.8])",
          "x": 0.5,
          "xanchor": "center",
          "xref": "paper",
          "y": 1,
          "yanchor": "bottom",
          "yref": "paper"
         }
        ],
        "xaxis": {
         "anchor": "y",
         "domain": [
          0,
          1
         ]
        },
        "yaxis": {
         "anchor": "x",
         "domain": [
          0,
          1
         ]
        }
       }
      },
      "text/html": [
       "<div id=\"663f4dbb-98a5-4b27-ab66-077b1d091756\" style=\"height: 525px; width: 100%;\" class=\"plotly-graph-div\"></div><script type=\"text/javascript\">require([\"plotly\"], function(Plotly) { window.PLOTLYENV=window.PLOTLYENV || {};window.PLOTLYENV.BASE_URL=\"https://plot.ly\";Plotly.newPlot(\"663f4dbb-98a5-4b27-ab66-077b1d091756\", [{\"mode\": \"lines+markers\", \"name\": \"RaykarDS\", \"x\": [\"0\", \"0.2\", \"0.5\", \"0.8\", \"1\"], \"y\": [0.83815, 0.83815, 0.83815, 0.83815, 0.83815], \"type\": \"scatter\", \"uid\": \"e7e2f18b-524c-4ca5-a121-e5537f98602e\", \"xaxis\": \"x\", \"yaxis\": \"y\"}, {\"mode\": \"lines+markers\", \"name\": \"RaykarDS_l\", \"x\": [\"0\", \"0.2\", \"0.5\", \"0.8\", \"1\"], \"y\": [0.83815, 0.86679, 0.83815, 0.80314, 0.99961], \"type\": \"scatter\", \"uid\": \"7cceaf1b-8237-4e78-8872-6e674f73fca9\", \"xaxis\": \"x\", \"yaxis\": \"y\"}, {\"mode\": \"lines+markers\", \"name\": \"DS\", \"x\": [\"0\", \"0.2\", \"0.5\", \"0.8\", \"1\"], \"y\": [0.83815, 0.83815, 0.83815, 0.83815, 0.83815], \"type\": \"scatter\", \"uid\": \"a182b929-1950-4b9d-83c9-2f23ec566c2f\", \"xaxis\": \"x\", \"yaxis\": \"y\"}, {\"mode\": \"lines+markers\", \"name\": \"Raykar\", \"x\": [\"0\", \"0.2\", \"0.5\", \"0.8\", \"1\"], \"y\": [0.00039, 0.20408, 0.49934, 0.79592, 0.99961], \"type\": \"scatter\", \"uid\": \"6a7c1ac0-e9cd-4b0c-a9eb-1e629bb261dd\", \"xaxis\": \"x\", \"yaxis\": \"y\"}], {\"annotations\": [{\"font\": {\"size\": 16}, \"showarrow\": false, \"text\": \"METHOD generate_points ([0.6, 0.7, 0.7, 0.7, 0.8], [0.6, 0.7, 0.7, 0.7, 0.8])\", \"x\": 0.5, \"xanchor\": \"center\", \"xref\": \"paper\", \"y\": 1.0, \"yanchor\": \"bottom\", \"yref\": \"paper\"}], \"xaxis\": {\"anchor\": \"y\", \"domain\": [0.0, 1.0]}, \"yaxis\": {\"anchor\": \"x\", \"domain\": [0.0, 1.0]}}, {\"showLink\": false, \"linkText\": \"Export to plot.ly\", \"plotlyServerURL\": \"https://plot.ly\"})});</script><script type=\"text/javascript\">window.addEventListener(\"resize\", function(){window._Plotly.Plots.resize(document.getElementById(\"663f4dbb-98a5-4b27-ab66-077b1d091756\"));});</script>"
      ],
      "text/vnd.plotly.v1+html": [
       "<div id=\"663f4dbb-98a5-4b27-ab66-077b1d091756\" style=\"height: 525px; width: 100%;\" class=\"plotly-graph-div\"></div><script type=\"text/javascript\">require([\"plotly\"], function(Plotly) { window.PLOTLYENV=window.PLOTLYENV || {};window.PLOTLYENV.BASE_URL=\"https://plot.ly\";Plotly.newPlot(\"663f4dbb-98a5-4b27-ab66-077b1d091756\", [{\"mode\": \"lines+markers\", \"name\": \"RaykarDS\", \"x\": [\"0\", \"0.2\", \"0.5\", \"0.8\", \"1\"], \"y\": [0.83815, 0.83815, 0.83815, 0.83815, 0.83815], \"type\": \"scatter\", \"uid\": \"e7e2f18b-524c-4ca5-a121-e5537f98602e\", \"xaxis\": \"x\", \"yaxis\": \"y\"}, {\"mode\": \"lines+markers\", \"name\": \"RaykarDS_l\", \"x\": [\"0\", \"0.2\", \"0.5\", \"0.8\", \"1\"], \"y\": [0.83815, 0.86679, 0.83815, 0.80314, 0.99961], \"type\": \"scatter\", \"uid\": \"7cceaf1b-8237-4e78-8872-6e674f73fca9\", \"xaxis\": \"x\", \"yaxis\": \"y\"}, {\"mode\": \"lines+markers\", \"name\": \"DS\", \"x\": [\"0\", \"0.2\", \"0.5\", \"0.8\", \"1\"], \"y\": [0.83815, 0.83815, 0.83815, 0.83815, 0.83815], \"type\": \"scatter\", \"uid\": \"a182b929-1950-4b9d-83c9-2f23ec566c2f\", \"xaxis\": \"x\", \"yaxis\": \"y\"}, {\"mode\": \"lines+markers\", \"name\": \"Raykar\", \"x\": [\"0\", \"0.2\", \"0.5\", \"0.8\", \"1\"], \"y\": [0.00039, 0.20408, 0.49934, 0.79592, 0.99961], \"type\": \"scatter\", \"uid\": \"6a7c1ac0-e9cd-4b0c-a9eb-1e629bb261dd\", \"xaxis\": \"x\", \"yaxis\": \"y\"}], {\"annotations\": [{\"font\": {\"size\": 16}, \"showarrow\": false, \"text\": \"METHOD generate_points ([0.6, 0.7, 0.7, 0.7, 0.8], [0.6, 0.7, 0.7, 0.7, 0.8])\", \"x\": 0.5, \"xanchor\": \"center\", \"xref\": \"paper\", \"y\": 1.0, \"yanchor\": \"bottom\", \"yref\": \"paper\"}], \"xaxis\": {\"anchor\": \"y\", \"domain\": [0.0, 1.0]}, \"yaxis\": {\"anchor\": \"x\", \"domain\": [0.0, 1.0]}}, {\"showLink\": false, \"linkText\": \"Export to plot.ly\", \"plotlyServerURL\": \"https://plot.ly\"})});</script><script type=\"text/javascript\">window.addEventListener(\"resize\", function(){window._Plotly.Plots.resize(document.getElementById(\"663f4dbb-98a5-4b27-ab66-077b1d091756\"));});</script>"
      ]
     },
     "metadata": {},
     "output_type": "display_data"
    },
    {
     "name": "stdout",
     "output_type": "stream",
     "text": [
      "This is the format of your plot grid:\n",
      "[ (1,1) x1,y1 ]\n",
      "\n"
     ]
    },
    {
     "data": {
      "application/vnd.plotly.v1+json": {
       "config": {
        "linkText": "Export to plot.ly",
        "plotlyServerURL": "https://plot.ly",
        "showLink": false
       },
       "data": [
        {
         "mode": "lines+markers",
         "name": "RaykarDS",
         "type": "scatter",
         "uid": "f7863789-9812-466f-8385-de4dd06853ca",
         "x": [
          "0",
          "0.2",
          "0.5",
          "0.8",
          "1"
         ],
         "xaxis": "x",
         "y": [
          0.9814,
          0.95703,
          0.92194,
          0.95705,
          0.98142
         ],
         "yaxis": "y"
        },
        {
         "mode": "lines+markers",
         "name": "RaykarDS_l",
         "type": "scatter",
         "uid": "2ae072fd-e5d5-4884-8660-ee890320c75e",
         "x": [
          "0",
          "0.2",
          "0.5",
          "0.8",
          "1"
         ],
         "xaxis": "x",
         "y": [
          0.92021,
          0.95323,
          0.92042,
          0.8048,
          0.99984
         ],
         "yaxis": "y"
        },
        {
         "mode": "lines+markers",
         "name": "DS",
         "type": "scatter",
         "uid": "f8d73a11-b2d5-4017-b1bd-d0036feb3a78",
         "x": [
          "0",
          "0.2",
          "0.5",
          "0.8",
          "1"
         ],
         "xaxis": "x",
         "y": [
          0.92021,
          0.91999,
          0.92035,
          0.92028,
          0.92006
         ],
         "yaxis": "y"
        },
        {
         "mode": "lines+markers",
         "name": "Raykar",
         "type": "scatter",
         "uid": "4697d034-2cfc-457a-8192-8c8dfd25487c",
         "x": [
          "0",
          "0.2",
          "0.5",
          "0.8",
          "1"
         ],
         "xaxis": "x",
         "y": [
          0.00016,
          0.20257,
          0.49896,
          0.79743,
          0.99984
         ],
         "yaxis": "y"
        }
       ],
       "layout": {
        "annotations": [
         {
          "font": {
           "size": 16
          },
          "showarrow": false,
          "text": "METHOD generate_points ([0.6, 0.7, 0.7, 0.8, 0.9, 0.9], [0.6, 0.7, 0.7, 0.8, 0.9, 0.9])",
          "x": 0.5,
          "xanchor": "center",
          "xref": "paper",
          "y": 1,
          "yanchor": "bottom",
          "yref": "paper"
         }
        ],
        "xaxis": {
         "anchor": "y",
         "domain": [
          0,
          1
         ]
        },
        "yaxis": {
         "anchor": "x",
         "domain": [
          0,
          1
         ]
        }
       }
      },
      "text/html": [
       "<div id=\"1ad72600-1b1b-4f8d-83b0-3521576a6266\" style=\"height: 525px; width: 100%;\" class=\"plotly-graph-div\"></div><script type=\"text/javascript\">require([\"plotly\"], function(Plotly) { window.PLOTLYENV=window.PLOTLYENV || {};window.PLOTLYENV.BASE_URL=\"https://plot.ly\";Plotly.newPlot(\"1ad72600-1b1b-4f8d-83b0-3521576a6266\", [{\"mode\": \"lines+markers\", \"name\": \"RaykarDS\", \"x\": [\"0\", \"0.2\", \"0.5\", \"0.8\", \"1\"], \"y\": [0.9814, 0.95703, 0.92194, 0.95705, 0.98142], \"type\": \"scatter\", \"uid\": \"f7863789-9812-466f-8385-de4dd06853ca\", \"xaxis\": \"x\", \"yaxis\": \"y\"}, {\"mode\": \"lines+markers\", \"name\": \"RaykarDS_l\", \"x\": [\"0\", \"0.2\", \"0.5\", \"0.8\", \"1\"], \"y\": [0.92021, 0.95323, 0.92042, 0.8048, 0.99984], \"type\": \"scatter\", \"uid\": \"2ae072fd-e5d5-4884-8660-ee890320c75e\", \"xaxis\": \"x\", \"yaxis\": \"y\"}, {\"mode\": \"lines+markers\", \"name\": \"DS\", \"x\": [\"0\", \"0.2\", \"0.5\", \"0.8\", \"1\"], \"y\": [0.92021, 0.91999, 0.92035, 0.92028, 0.92006], \"type\": \"scatter\", \"uid\": \"f8d73a11-b2d5-4017-b1bd-d0036feb3a78\", \"xaxis\": \"x\", \"yaxis\": \"y\"}, {\"mode\": \"lines+markers\", \"name\": \"Raykar\", \"x\": [\"0\", \"0.2\", \"0.5\", \"0.8\", \"1\"], \"y\": [0.00016, 0.20257, 0.49896, 0.79743, 0.99984], \"type\": \"scatter\", \"uid\": \"4697d034-2cfc-457a-8192-8c8dfd25487c\", \"xaxis\": \"x\", \"yaxis\": \"y\"}], {\"annotations\": [{\"font\": {\"size\": 16}, \"showarrow\": false, \"text\": \"METHOD generate_points ([0.6, 0.7, 0.7, 0.8, 0.9, 0.9], [0.6, 0.7, 0.7, 0.8, 0.9, 0.9])\", \"x\": 0.5, \"xanchor\": \"center\", \"xref\": \"paper\", \"y\": 1.0, \"yanchor\": \"bottom\", \"yref\": \"paper\"}], \"xaxis\": {\"anchor\": \"y\", \"domain\": [0.0, 1.0]}, \"yaxis\": {\"anchor\": \"x\", \"domain\": [0.0, 1.0]}}, {\"showLink\": false, \"linkText\": \"Export to plot.ly\", \"plotlyServerURL\": \"https://plot.ly\"})});</script><script type=\"text/javascript\">window.addEventListener(\"resize\", function(){window._Plotly.Plots.resize(document.getElementById(\"1ad72600-1b1b-4f8d-83b0-3521576a6266\"));});</script>"
      ],
      "text/vnd.plotly.v1+html": [
       "<div id=\"1ad72600-1b1b-4f8d-83b0-3521576a6266\" style=\"height: 525px; width: 100%;\" class=\"plotly-graph-div\"></div><script type=\"text/javascript\">require([\"plotly\"], function(Plotly) { window.PLOTLYENV=window.PLOTLYENV || {};window.PLOTLYENV.BASE_URL=\"https://plot.ly\";Plotly.newPlot(\"1ad72600-1b1b-4f8d-83b0-3521576a6266\", [{\"mode\": \"lines+markers\", \"name\": \"RaykarDS\", \"x\": [\"0\", \"0.2\", \"0.5\", \"0.8\", \"1\"], \"y\": [0.9814, 0.95703, 0.92194, 0.95705, 0.98142], \"type\": \"scatter\", \"uid\": \"f7863789-9812-466f-8385-de4dd06853ca\", \"xaxis\": \"x\", \"yaxis\": \"y\"}, {\"mode\": \"lines+markers\", \"name\": \"RaykarDS_l\", \"x\": [\"0\", \"0.2\", \"0.5\", \"0.8\", \"1\"], \"y\": [0.92021, 0.95323, 0.92042, 0.8048, 0.99984], \"type\": \"scatter\", \"uid\": \"2ae072fd-e5d5-4884-8660-ee890320c75e\", \"xaxis\": \"x\", \"yaxis\": \"y\"}, {\"mode\": \"lines+markers\", \"name\": \"DS\", \"x\": [\"0\", \"0.2\", \"0.5\", \"0.8\", \"1\"], \"y\": [0.92021, 0.91999, 0.92035, 0.92028, 0.92006], \"type\": \"scatter\", \"uid\": \"f8d73a11-b2d5-4017-b1bd-d0036feb3a78\", \"xaxis\": \"x\", \"yaxis\": \"y\"}, {\"mode\": \"lines+markers\", \"name\": \"Raykar\", \"x\": [\"0\", \"0.2\", \"0.5\", \"0.8\", \"1\"], \"y\": [0.00016, 0.20257, 0.49896, 0.79743, 0.99984], \"type\": \"scatter\", \"uid\": \"4697d034-2cfc-457a-8192-8c8dfd25487c\", \"xaxis\": \"x\", \"yaxis\": \"y\"}], {\"annotations\": [{\"font\": {\"size\": 16}, \"showarrow\": false, \"text\": \"METHOD generate_points ([0.6, 0.7, 0.7, 0.8, 0.9, 0.9], [0.6, 0.7, 0.7, 0.8, 0.9, 0.9])\", \"x\": 0.5, \"xanchor\": \"center\", \"xref\": \"paper\", \"y\": 1.0, \"yanchor\": \"bottom\", \"yref\": \"paper\"}], \"xaxis\": {\"anchor\": \"y\", \"domain\": [0.0, 1.0]}, \"yaxis\": {\"anchor\": \"x\", \"domain\": [0.0, 1.0]}}, {\"showLink\": false, \"linkText\": \"Export to plot.ly\", \"plotlyServerURL\": \"https://plot.ly\"})});</script><script type=\"text/javascript\">window.addEventListener(\"resize\", function(){window._Plotly.Plots.resize(document.getElementById(\"1ad72600-1b1b-4f8d-83b0-3521576a6266\"));});</script>"
      ]
     },
     "metadata": {},
     "output_type": "display_data"
    },
    {
     "name": "stdout",
     "output_type": "stream",
     "text": [
      "This is the format of your plot grid:\n",
      "[ (1,1) x1,y1 ]\n",
      "\n"
     ]
    },
    {
     "data": {
      "application/vnd.plotly.v1+json": {
       "config": {
        "linkText": "Export to plot.ly",
        "plotlyServerURL": "https://plot.ly",
        "showLink": false
       },
       "data": [
        {
         "mode": "lines+markers",
         "name": "RaykarDS",
         "type": "scatter",
         "uid": "dcd4eb43-7cc3-4ad4-8a7b-0b1714cabce7",
         "x": [
          "0",
          "0.2",
          "0.5",
          "0.8",
          "1"
         ],
         "xaxis": "x",
         "y": [
          0.9471,
          0.93011,
          0.9056,
          0.93015,
          0.9471
         ],
         "yaxis": "y"
        },
        {
         "mode": "lines+markers",
         "name": "RaykarDS_l",
         "type": "scatter",
         "uid": "7b92f163-5200-48c8-93e6-1aa8ead6f74b",
         "x": [
          "0",
          "0.2",
          "0.5",
          "0.8",
          "1"
         ],
         "xaxis": "x",
         "y": [
          0.89124,
          0.90345,
          0.89124,
          0.80389,
          0.99981
         ],
         "yaxis": "y"
        },
        {
         "mode": "lines+markers",
         "name": "DS",
         "type": "scatter",
         "uid": "aba5cd5e-4f6e-488e-b255-31dffc9bd269",
         "x": [
          "0",
          "0.2",
          "0.5",
          "0.8",
          "1"
         ],
         "xaxis": "x",
         "y": [
          0.89124,
          0.89124,
          0.89124,
          0.89124,
          0.89124
         ],
         "yaxis": "y"
        },
        {
         "mode": "lines+markers",
         "name": "Raykar",
         "type": "scatter",
         "uid": "ed25ef62-60f8-4dcd-8db5-c5968dd60633",
         "x": [
          "0",
          "0.2",
          "0.5",
          "0.8",
          "1"
         ],
         "xaxis": "x",
         "y": [
          0.00019,
          0.20274,
          0.49895,
          0.79726,
          0.99981
         ],
         "yaxis": "y"
        }
       ],
       "layout": {
        "annotations": [
         {
          "font": {
           "size": 16
          },
          "showarrow": false,
          "text": "METHOD generate_points ([0.6, 0.7, 0.7, 0.8, 0.9], [0.6, 0.7, 0.7, 0.8, 0.9])",
          "x": 0.5,
          "xanchor": "center",
          "xref": "paper",
          "y": 1,
          "yanchor": "bottom",
          "yref": "paper"
         }
        ],
        "xaxis": {
         "anchor": "y",
         "domain": [
          0,
          1
         ]
        },
        "yaxis": {
         "anchor": "x",
         "domain": [
          0,
          1
         ]
        }
       }
      },
      "text/html": [
       "<div id=\"bd839b00-16ee-4350-9c33-3c5a77d31a7a\" style=\"height: 525px; width: 100%;\" class=\"plotly-graph-div\"></div><script type=\"text/javascript\">require([\"plotly\"], function(Plotly) { window.PLOTLYENV=window.PLOTLYENV || {};window.PLOTLYENV.BASE_URL=\"https://plot.ly\";Plotly.newPlot(\"bd839b00-16ee-4350-9c33-3c5a77d31a7a\", [{\"mode\": \"lines+markers\", \"name\": \"RaykarDS\", \"x\": [\"0\", \"0.2\", \"0.5\", \"0.8\", \"1\"], \"y\": [0.9471, 0.93011, 0.9056, 0.93015, 0.9471], \"type\": \"scatter\", \"uid\": \"dcd4eb43-7cc3-4ad4-8a7b-0b1714cabce7\", \"xaxis\": \"x\", \"yaxis\": \"y\"}, {\"mode\": \"lines+markers\", \"name\": \"RaykarDS_l\", \"x\": [\"0\", \"0.2\", \"0.5\", \"0.8\", \"1\"], \"y\": [0.89124, 0.90345, 0.89124, 0.80389, 0.99981], \"type\": \"scatter\", \"uid\": \"7b92f163-5200-48c8-93e6-1aa8ead6f74b\", \"xaxis\": \"x\", \"yaxis\": \"y\"}, {\"mode\": \"lines+markers\", \"name\": \"DS\", \"x\": [\"0\", \"0.2\", \"0.5\", \"0.8\", \"1\"], \"y\": [0.89124, 0.89124, 0.89124, 0.89124, 0.89124], \"type\": \"scatter\", \"uid\": \"aba5cd5e-4f6e-488e-b255-31dffc9bd269\", \"xaxis\": \"x\", \"yaxis\": \"y\"}, {\"mode\": \"lines+markers\", \"name\": \"Raykar\", \"x\": [\"0\", \"0.2\", \"0.5\", \"0.8\", \"1\"], \"y\": [0.00019, 0.20274, 0.49895, 0.79726, 0.99981], \"type\": \"scatter\", \"uid\": \"ed25ef62-60f8-4dcd-8db5-c5968dd60633\", \"xaxis\": \"x\", \"yaxis\": \"y\"}], {\"annotations\": [{\"font\": {\"size\": 16}, \"showarrow\": false, \"text\": \"METHOD generate_points ([0.6, 0.7, 0.7, 0.8, 0.9], [0.6, 0.7, 0.7, 0.8, 0.9])\", \"x\": 0.5, \"xanchor\": \"center\", \"xref\": \"paper\", \"y\": 1.0, \"yanchor\": \"bottom\", \"yref\": \"paper\"}], \"xaxis\": {\"anchor\": \"y\", \"domain\": [0.0, 1.0]}, \"yaxis\": {\"anchor\": \"x\", \"domain\": [0.0, 1.0]}}, {\"showLink\": false, \"linkText\": \"Export to plot.ly\", \"plotlyServerURL\": \"https://plot.ly\"})});</script><script type=\"text/javascript\">window.addEventListener(\"resize\", function(){window._Plotly.Plots.resize(document.getElementById(\"bd839b00-16ee-4350-9c33-3c5a77d31a7a\"));});</script>"
      ],
      "text/vnd.plotly.v1+html": [
       "<div id=\"bd839b00-16ee-4350-9c33-3c5a77d31a7a\" style=\"height: 525px; width: 100%;\" class=\"plotly-graph-div\"></div><script type=\"text/javascript\">require([\"plotly\"], function(Plotly) { window.PLOTLYENV=window.PLOTLYENV || {};window.PLOTLYENV.BASE_URL=\"https://plot.ly\";Plotly.newPlot(\"bd839b00-16ee-4350-9c33-3c5a77d31a7a\", [{\"mode\": \"lines+markers\", \"name\": \"RaykarDS\", \"x\": [\"0\", \"0.2\", \"0.5\", \"0.8\", \"1\"], \"y\": [0.9471, 0.93011, 0.9056, 0.93015, 0.9471], \"type\": \"scatter\", \"uid\": \"dcd4eb43-7cc3-4ad4-8a7b-0b1714cabce7\", \"xaxis\": \"x\", \"yaxis\": \"y\"}, {\"mode\": \"lines+markers\", \"name\": \"RaykarDS_l\", \"x\": [\"0\", \"0.2\", \"0.5\", \"0.8\", \"1\"], \"y\": [0.89124, 0.90345, 0.89124, 0.80389, 0.99981], \"type\": \"scatter\", \"uid\": \"7b92f163-5200-48c8-93e6-1aa8ead6f74b\", \"xaxis\": \"x\", \"yaxis\": \"y\"}, {\"mode\": \"lines+markers\", \"name\": \"DS\", \"x\": [\"0\", \"0.2\", \"0.5\", \"0.8\", \"1\"], \"y\": [0.89124, 0.89124, 0.89124, 0.89124, 0.89124], \"type\": \"scatter\", \"uid\": \"aba5cd5e-4f6e-488e-b255-31dffc9bd269\", \"xaxis\": \"x\", \"yaxis\": \"y\"}, {\"mode\": \"lines+markers\", \"name\": \"Raykar\", \"x\": [\"0\", \"0.2\", \"0.5\", \"0.8\", \"1\"], \"y\": [0.00019, 0.20274, 0.49895, 0.79726, 0.99981], \"type\": \"scatter\", \"uid\": \"ed25ef62-60f8-4dcd-8db5-c5968dd60633\", \"xaxis\": \"x\", \"yaxis\": \"y\"}], {\"annotations\": [{\"font\": {\"size\": 16}, \"showarrow\": false, \"text\": \"METHOD generate_points ([0.6, 0.7, 0.7, 0.8, 0.9], [0.6, 0.7, 0.7, 0.8, 0.9])\", \"x\": 0.5, \"xanchor\": \"center\", \"xref\": \"paper\", \"y\": 1.0, \"yanchor\": \"bottom\", \"yref\": \"paper\"}], \"xaxis\": {\"anchor\": \"y\", \"domain\": [0.0, 1.0]}, \"yaxis\": {\"anchor\": \"x\", \"domain\": [0.0, 1.0]}}, {\"showLink\": false, \"linkText\": \"Export to plot.ly\", \"plotlyServerURL\": \"https://plot.ly\"})});</script><script type=\"text/javascript\">window.addEventListener(\"resize\", function(){window._Plotly.Plots.resize(document.getElementById(\"bd839b00-16ee-4350-9c33-3c5a77d31a7a\"));});</script>"
      ]
     },
     "metadata": {},
     "output_type": "display_data"
    }
   ],
   "source": [
    "show_plots('acc', transforme_data(points_01))"
   ]
  },
  {
   "cell_type": "markdown",
   "metadata": {},
   "source": [
    "# Chen data"
   ]
  },
  {
   "cell_type": "code",
   "execution_count": 4,
   "metadata": {},
   "outputs": [],
   "source": [
    "dir_ = 'experiments/chen_data'\n",
    "file_name = 'res_chen.json'"
   ]
  },
  {
   "cell_type": "code",
   "execution_count": 21,
   "metadata": {},
   "outputs": [],
   "source": [
    "with open(os.path.join(dir_, file_name), 'r') as file_from:\n",
    "    points_chen = json.load(file_from)"
   ]
  },
  {
   "cell_type": "code",
   "execution_count": 24,
   "metadata": {},
   "outputs": [],
   "source": [
    "def show_chen_plots(f_name, data):\n",
    "    x = list(data.keys())\n",
    "    acc_Raykar = []\n",
    "    acc_DS = []\n",
    "    acc_RaykarDS = []\n",
    "    fig = tools.make_subplots(rows=1, cols=1)\n",
    "    for f in x:\n",
    "        acc_DS.append(data[f]['0'][f_name]['RaykarDS_l'])\n",
    "        acc_Raykar.append(data[f]['1'][f_name]['RaykarDS_l'])\n",
    "        acc_RaykarDS.append(data[f]['1'][f_name]['RaykarDS'])\n",
    "        \n",
    "    trace = go.Scatter(\n",
    "        x=x,\n",
    "        y=acc_DS,\n",
    "        mode='lines+markers',\n",
    "        name='DS'\n",
    "    )\n",
    "\n",
    "    fig.append_trace(trace, 1, 1)\n",
    "\n",
    "    trace = go.Scatter(\n",
    "        x=x,\n",
    "        y=acc_Raykar,\n",
    "        mode='lines+markers',\n",
    "        name='Raykar'\n",
    "    )\n",
    "\n",
    "    fig.append_trace(trace, 1, 1)\n",
    "\n",
    "    trace = go.Scatter(\n",
    "        x=x,\n",
    "        y=acc_RaykarDS,\n",
    "        mode='lines+markers',\n",
    "        name='RaykarDS'\n",
    "    )\n",
    "\n",
    "    fig.append_trace(trace, 1, 1)\n",
    "    iplot(fig)"
   ]
  },
  {
   "cell_type": "code",
   "execution_count": 25,
   "metadata": {},
   "outputs": [
    {
     "name": "stdout",
     "output_type": "stream",
     "text": [
      "This is the format of your plot grid:\n",
      "[ (1,1) x1,y1 ]\n",
      "\n"
     ]
    },
    {
     "data": {
      "application/vnd.plotly.v1+json": {
       "config": {
        "linkText": "Export to plot.ly",
        "plotlyServerURL": "https://plot.ly",
        "showLink": false
       },
       "data": [
        {
         "mode": "lines+markers",
         "name": "DS",
         "type": "scatter",
         "uid": "85d670c8-a15f-44d6-a76a-148ac116eab7",
         "x": [
          "10",
          "20",
          "30",
          "40",
          "50",
          "100",
          "150",
          "200",
          "250",
          "400",
          "500"
         ],
         "xaxis": "x",
         "y": [
          0.8852119302582462,
          0.8852119302582462,
          0.8852119302582462,
          0.8852119302582462,
          0.8852119302582462,
          0.8852119302582462,
          0.8852119302582462,
          0.8852119302582462,
          0.8852119302582462,
          0.8852119302582462,
          0.8852119302582462
         ],
         "yaxis": "y"
        },
        {
         "mode": "lines+markers",
         "name": "Raykar",
         "type": "scatter",
         "uid": "4b5f5b35-ba28-45c7-ad89-003b7dfa8217",
         "x": [
          "10",
          "20",
          "30",
          "40",
          "50",
          "100",
          "150",
          "200",
          "250",
          "400",
          "500"
         ],
         "xaxis": "x",
         "y": [
          0.4737058509629993,
          0.5786478635229065,
          0.5809747537310483,
          0.5808380682991439,
          0.6017718854016088,
          0.6134059142566565,
          0.560331733954653,
          0.5449429064691751,
          0.5461271681079216,
          0.5391453092024957,
          0.5404524987449794
         ],
         "yaxis": "y"
        },
        {
         "mode": "lines+markers",
         "name": "RaykarDS",
         "type": "scatter",
         "uid": "4cfb1ee3-64ad-44eb-aed3-80d137dc3b1d",
         "x": [
          "10",
          "20",
          "30",
          "40",
          "50",
          "100",
          "150",
          "200",
          "250",
          "400",
          "500"
         ],
         "xaxis": "x",
         "y": [
          0.6909535167909292,
          0.6319903355253196,
          0.5986665070321167,
          0.6004500927493779,
          0.5857774404820907,
          0.5579168872318709,
          0.5655421917781347,
          0.5679274182236907,
          0.5485118472445902,
          0.5699961778270775,
          0.5609215074432875
         ],
         "yaxis": "y"
        }
       ],
       "layout": {
        "xaxis": {
         "anchor": "y",
         "domain": [
          0,
          1
         ]
        },
        "yaxis": {
         "anchor": "x",
         "domain": [
          0,
          1
         ]
        }
       }
      },
      "text/html": [
       "<div id=\"c92523bd-fc63-470e-bf0a-98b037fb0ab0\" style=\"height: 525px; width: 100%;\" class=\"plotly-graph-div\"></div><script type=\"text/javascript\">require([\"plotly\"], function(Plotly) { window.PLOTLYENV=window.PLOTLYENV || {};window.PLOTLYENV.BASE_URL=\"https://plot.ly\";Plotly.newPlot(\"c92523bd-fc63-470e-bf0a-98b037fb0ab0\", [{\"mode\": \"lines+markers\", \"name\": \"DS\", \"x\": [\"10\", \"20\", \"30\", \"40\", \"50\", \"100\", \"150\", \"200\", \"250\", \"400\", \"500\"], \"y\": [0.8852119302582462, 0.8852119302582462, 0.8852119302582462, 0.8852119302582462, 0.8852119302582462, 0.8852119302582462, 0.8852119302582462, 0.8852119302582462, 0.8852119302582462, 0.8852119302582462, 0.8852119302582462], \"type\": \"scatter\", \"uid\": \"85d670c8-a15f-44d6-a76a-148ac116eab7\", \"xaxis\": \"x\", \"yaxis\": \"y\"}, {\"mode\": \"lines+markers\", \"name\": \"Raykar\", \"x\": [\"10\", \"20\", \"30\", \"40\", \"50\", \"100\", \"150\", \"200\", \"250\", \"400\", \"500\"], \"y\": [0.4737058509629993, 0.5786478635229065, 0.5809747537310483, 0.5808380682991439, 0.6017718854016088, 0.6134059142566565, 0.560331733954653, 0.5449429064691751, 0.5461271681079216, 0.5391453092024957, 0.5404524987449794], \"type\": \"scatter\", \"uid\": \"4b5f5b35-ba28-45c7-ad89-003b7dfa8217\", \"xaxis\": \"x\", \"yaxis\": \"y\"}, {\"mode\": \"lines+markers\", \"name\": \"RaykarDS\", \"x\": [\"10\", \"20\", \"30\", \"40\", \"50\", \"100\", \"150\", \"200\", \"250\", \"400\", \"500\"], \"y\": [0.6909535167909292, 0.6319903355253196, 0.5986665070321167, 0.6004500927493779, 0.5857774404820907, 0.5579168872318709, 0.5655421917781347, 0.5679274182236907, 0.5485118472445902, 0.5699961778270775, 0.5609215074432875], \"type\": \"scatter\", \"uid\": \"4cfb1ee3-64ad-44eb-aed3-80d137dc3b1d\", \"xaxis\": \"x\", \"yaxis\": \"y\"}], {\"xaxis\": {\"anchor\": \"y\", \"domain\": [0.0, 1.0]}, \"yaxis\": {\"anchor\": \"x\", \"domain\": [0.0, 1.0]}}, {\"showLink\": false, \"linkText\": \"Export to plot.ly\", \"plotlyServerURL\": \"https://plot.ly\"})});</script><script type=\"text/javascript\">window.addEventListener(\"resize\", function(){window._Plotly.Plots.resize(document.getElementById(\"c92523bd-fc63-470e-bf0a-98b037fb0ab0\"));});</script>"
      ],
      "text/vnd.plotly.v1+html": [
       "<div id=\"c92523bd-fc63-470e-bf0a-98b037fb0ab0\" style=\"height: 525px; width: 100%;\" class=\"plotly-graph-div\"></div><script type=\"text/javascript\">require([\"plotly\"], function(Plotly) { window.PLOTLYENV=window.PLOTLYENV || {};window.PLOTLYENV.BASE_URL=\"https://plot.ly\";Plotly.newPlot(\"c92523bd-fc63-470e-bf0a-98b037fb0ab0\", [{\"mode\": \"lines+markers\", \"name\": \"DS\", \"x\": [\"10\", \"20\", \"30\", \"40\", \"50\", \"100\", \"150\", \"200\", \"250\", \"400\", \"500\"], \"y\": [0.8852119302582462, 0.8852119302582462, 0.8852119302582462, 0.8852119302582462, 0.8852119302582462, 0.8852119302582462, 0.8852119302582462, 0.8852119302582462, 0.8852119302582462, 0.8852119302582462, 0.8852119302582462], \"type\": \"scatter\", \"uid\": \"85d670c8-a15f-44d6-a76a-148ac116eab7\", \"xaxis\": \"x\", \"yaxis\": \"y\"}, {\"mode\": \"lines+markers\", \"name\": \"Raykar\", \"x\": [\"10\", \"20\", \"30\", \"40\", \"50\", \"100\", \"150\", \"200\", \"250\", \"400\", \"500\"], \"y\": [0.4737058509629993, 0.5786478635229065, 0.5809747537310483, 0.5808380682991439, 0.6017718854016088, 0.6134059142566565, 0.560331733954653, 0.5449429064691751, 0.5461271681079216, 0.5391453092024957, 0.5404524987449794], \"type\": \"scatter\", \"uid\": \"4b5f5b35-ba28-45c7-ad89-003b7dfa8217\", \"xaxis\": \"x\", \"yaxis\": \"y\"}, {\"mode\": \"lines+markers\", \"name\": \"RaykarDS\", \"x\": [\"10\", \"20\", \"30\", \"40\", \"50\", \"100\", \"150\", \"200\", \"250\", \"400\", \"500\"], \"y\": [0.6909535167909292, 0.6319903355253196, 0.5986665070321167, 0.6004500927493779, 0.5857774404820907, 0.5579168872318709, 0.5655421917781347, 0.5679274182236907, 0.5485118472445902, 0.5699961778270775, 0.5609215074432875], \"type\": \"scatter\", \"uid\": \"4cfb1ee3-64ad-44eb-aed3-80d137dc3b1d\", \"xaxis\": \"x\", \"yaxis\": \"y\"}], {\"xaxis\": {\"anchor\": \"y\", \"domain\": [0.0, 1.0]}, \"yaxis\": {\"anchor\": \"x\", \"domain\": [0.0, 1.0]}}, {\"showLink\": false, \"linkText\": \"Export to plot.ly\", \"plotlyServerURL\": \"https://plot.ly\"})});</script><script type=\"text/javascript\">window.addEventListener(\"resize\", function(){window._Plotly.Plots.resize(document.getElementById(\"c92523bd-fc63-470e-bf0a-98b037fb0ab0\"));});</script>"
      ]
     },
     "metadata": {},
     "output_type": "display_data"
    }
   ],
   "source": [
    "show_chen_plots('acc', points_chen)"
   ]
  },
  {
   "cell_type": "code",
   "execution_count": 32,
   "metadata": {},
   "outputs": [],
   "source": [
    "dir_ = 'experiments/chen_data'\n",
    "file_name = 'test_res_chen1.json'"
   ]
  },
  {
   "cell_type": "code",
   "execution_count": 33,
   "metadata": {},
   "outputs": [],
   "source": [
    "with open(os.path.join(dir_, file_name), 'r') as file_from:\n",
    "    points_chen = json.load(file_from)"
   ]
  },
  {
   "cell_type": "code",
   "execution_count": 34,
   "metadata": {},
   "outputs": [
    {
     "name": "stdout",
     "output_type": "stream",
     "text": [
      "This is the format of your plot grid:\n",
      "[ (1,1) x1,y1 ]\n",
      "\n"
     ]
    },
    {
     "data": {
      "application/vnd.plotly.v1+json": {
       "config": {
        "linkText": "Export to plot.ly",
        "plotlyServerURL": "https://plot.ly",
        "showLink": false
       },
       "data": [
        {
         "mode": "lines+markers",
         "name": "DS",
         "type": "scatter",
         "uid": "44b23d3d-a683-4ac0-ab13-86aab7bd639c",
         "x": [
          "10",
          "20",
          "30",
          "40",
          "50",
          "100",
          "150",
          "200",
          "250",
          "400"
         ],
         "xaxis": "x",
         "y": [
          0.7384615384615385,
          0.7384615384615385,
          0.7384615384615385,
          0.7384615384615385,
          0.7384615384615385,
          0.7384615384615385,
          0.7384615384615385,
          0.7384615384615385,
          0.7384615384615385,
          0.7384615384615385
         ],
         "yaxis": "y"
        },
        {
         "mode": "lines+markers",
         "name": "Raykar",
         "type": "scatter",
         "uid": "9449157d-4fe0-4139-a905-f0bccd52d94a",
         "x": [
          "10",
          "20",
          "30",
          "40",
          "50",
          "100",
          "150",
          "200",
          "250",
          "400"
         ],
         "xaxis": "x",
         "y": [
          0.5692307692307692,
          0.5846153846153846,
          0.6307692307692307,
          0.676923076923077,
          0.6307692307692307,
          0.46153846153846156,
          0.3384615384615385,
          0.3076923076923077,
          0.26153846153846155,
          0.24615384615384617
         ],
         "yaxis": "y"
        },
        {
         "mode": "lines+markers",
         "name": "RaykarDS",
         "type": "scatter",
         "uid": "e2f2b1cf-2131-43c0-a642-0ce4357e69a1",
         "x": [
          "10",
          "20",
          "30",
          "40",
          "50",
          "100",
          "150",
          "200",
          "250",
          "400"
         ],
         "xaxis": "x",
         "y": [
          0.5692307692307692,
          0.5076923076923077,
          0.5076923076923077,
          0.5384615384615384,
          0.5230769230769231,
          0.5230769230769231,
          0.5230769230769231,
          0.5230769230769231,
          0.5230769230769231,
          0.47692307692307695
         ],
         "yaxis": "y"
        }
       ],
       "layout": {
        "xaxis": {
         "anchor": "y",
         "domain": [
          0,
          1
         ]
        },
        "yaxis": {
         "anchor": "x",
         "domain": [
          0,
          1
         ]
        }
       }
      },
      "text/html": [
       "<div id=\"1dcbd62b-5a4f-475d-bf2c-deffee492b06\" style=\"height: 525px; width: 100%;\" class=\"plotly-graph-div\"></div><script type=\"text/javascript\">require([\"plotly\"], function(Plotly) { window.PLOTLYENV=window.PLOTLYENV || {};window.PLOTLYENV.BASE_URL=\"https://plot.ly\";Plotly.newPlot(\"1dcbd62b-5a4f-475d-bf2c-deffee492b06\", [{\"mode\": \"lines+markers\", \"name\": \"DS\", \"x\": [\"10\", \"20\", \"30\", \"40\", \"50\", \"100\", \"150\", \"200\", \"250\", \"400\"], \"y\": [0.7384615384615385, 0.7384615384615385, 0.7384615384615385, 0.7384615384615385, 0.7384615384615385, 0.7384615384615385, 0.7384615384615385, 0.7384615384615385, 0.7384615384615385, 0.7384615384615385], \"type\": \"scatter\", \"uid\": \"44b23d3d-a683-4ac0-ab13-86aab7bd639c\", \"xaxis\": \"x\", \"yaxis\": \"y\"}, {\"mode\": \"lines+markers\", \"name\": \"Raykar\", \"x\": [\"10\", \"20\", \"30\", \"40\", \"50\", \"100\", \"150\", \"200\", \"250\", \"400\"], \"y\": [0.5692307692307692, 0.5846153846153846, 0.6307692307692307, 0.676923076923077, 0.6307692307692307, 0.46153846153846156, 0.3384615384615385, 0.3076923076923077, 0.26153846153846155, 0.24615384615384617], \"type\": \"scatter\", \"uid\": \"9449157d-4fe0-4139-a905-f0bccd52d94a\", \"xaxis\": \"x\", \"yaxis\": \"y\"}, {\"mode\": \"lines+markers\", \"name\": \"RaykarDS\", \"x\": [\"10\", \"20\", \"30\", \"40\", \"50\", \"100\", \"150\", \"200\", \"250\", \"400\"], \"y\": [0.5692307692307692, 0.5076923076923077, 0.5076923076923077, 0.5384615384615384, 0.5230769230769231, 0.5230769230769231, 0.5230769230769231, 0.5230769230769231, 0.5230769230769231, 0.47692307692307695], \"type\": \"scatter\", \"uid\": \"e2f2b1cf-2131-43c0-a642-0ce4357e69a1\", \"xaxis\": \"x\", \"yaxis\": \"y\"}], {\"xaxis\": {\"anchor\": \"y\", \"domain\": [0.0, 1.0]}, \"yaxis\": {\"anchor\": \"x\", \"domain\": [0.0, 1.0]}}, {\"showLink\": false, \"linkText\": \"Export to plot.ly\", \"plotlyServerURL\": \"https://plot.ly\"})});</script><script type=\"text/javascript\">window.addEventListener(\"resize\", function(){window._Plotly.Plots.resize(document.getElementById(\"1dcbd62b-5a4f-475d-bf2c-deffee492b06\"));});</script>"
      ],
      "text/vnd.plotly.v1+html": [
       "<div id=\"1dcbd62b-5a4f-475d-bf2c-deffee492b06\" style=\"height: 525px; width: 100%;\" class=\"plotly-graph-div\"></div><script type=\"text/javascript\">require([\"plotly\"], function(Plotly) { window.PLOTLYENV=window.PLOTLYENV || {};window.PLOTLYENV.BASE_URL=\"https://plot.ly\";Plotly.newPlot(\"1dcbd62b-5a4f-475d-bf2c-deffee492b06\", [{\"mode\": \"lines+markers\", \"name\": \"DS\", \"x\": [\"10\", \"20\", \"30\", \"40\", \"50\", \"100\", \"150\", \"200\", \"250\", \"400\"], \"y\": [0.7384615384615385, 0.7384615384615385, 0.7384615384615385, 0.7384615384615385, 0.7384615384615385, 0.7384615384615385, 0.7384615384615385, 0.7384615384615385, 0.7384615384615385, 0.7384615384615385], \"type\": \"scatter\", \"uid\": \"44b23d3d-a683-4ac0-ab13-86aab7bd639c\", \"xaxis\": \"x\", \"yaxis\": \"y\"}, {\"mode\": \"lines+markers\", \"name\": \"Raykar\", \"x\": [\"10\", \"20\", \"30\", \"40\", \"50\", \"100\", \"150\", \"200\", \"250\", \"400\"], \"y\": [0.5692307692307692, 0.5846153846153846, 0.6307692307692307, 0.676923076923077, 0.6307692307692307, 0.46153846153846156, 0.3384615384615385, 0.3076923076923077, 0.26153846153846155, 0.24615384615384617], \"type\": \"scatter\", \"uid\": \"9449157d-4fe0-4139-a905-f0bccd52d94a\", \"xaxis\": \"x\", \"yaxis\": \"y\"}, {\"mode\": \"lines+markers\", \"name\": \"RaykarDS\", \"x\": [\"10\", \"20\", \"30\", \"40\", \"50\", \"100\", \"150\", \"200\", \"250\", \"400\"], \"y\": [0.5692307692307692, 0.5076923076923077, 0.5076923076923077, 0.5384615384615384, 0.5230769230769231, 0.5230769230769231, 0.5230769230769231, 0.5230769230769231, 0.5230769230769231, 0.47692307692307695], \"type\": \"scatter\", \"uid\": \"e2f2b1cf-2131-43c0-a642-0ce4357e69a1\", \"xaxis\": \"x\", \"yaxis\": \"y\"}], {\"xaxis\": {\"anchor\": \"y\", \"domain\": [0.0, 1.0]}, \"yaxis\": {\"anchor\": \"x\", \"domain\": [0.0, 1.0]}}, {\"showLink\": false, \"linkText\": \"Export to plot.ly\", \"plotlyServerURL\": \"https://plot.ly\"})});</script><script type=\"text/javascript\">window.addEventListener(\"resize\", function(){window._Plotly.Plots.resize(document.getElementById(\"1dcbd62b-5a4f-475d-bf2c-deffee492b06\"));});</script>"
      ]
     },
     "metadata": {},
     "output_type": "display_data"
    }
   ],
   "source": [
    "show_chen_plots('acc', points_chen)"
   ]
  },
  {
   "cell_type": "code",
   "execution_count": null,
   "metadata": {},
   "outputs": [],
   "source": []
  }
 ],
 "metadata": {
  "kernelspec": {
   "display_name": "tensorflow",
   "language": "python",
   "name": "tensorflow"
  },
  "language_info": {
   "codemirror_mode": {
    "name": "ipython",
    "version": 3
   },
   "file_extension": ".py",
   "mimetype": "text/x-python",
   "name": "python",
   "nbconvert_exporter": "python",
   "pygments_lexer": "ipython3",
   "version": "3.6.1"
  }
 },
 "nbformat": 4,
 "nbformat_minor": 1
}
