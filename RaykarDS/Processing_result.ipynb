{
 "cells": [
  {
   "cell_type": "code",
   "execution_count": 113,
   "metadata": {},
   "outputs": [],
   "source": [
    "import json"
   ]
  },
  {
   "cell_type": "code",
   "execution_count": 114,
   "metadata": {},
   "outputs": [],
   "source": [
    "file_name = 'experiments/chen_data/result.json'"
   ]
  },
  {
   "cell_type": "code",
   "execution_count": 127,
   "metadata": {},
   "outputs": [],
   "source": [
    "saving_file_name = 'experiments/chen_data/saving.json'"
   ]
  },
  {
   "cell_type": "code",
   "execution_count": 129,
   "metadata": {},
   "outputs": [],
   "source": [
    "with open(saving_file_name, 'r') as file_from:\n",
    "    res = json.load(file_from)"
   ]
  },
  {
   "cell_type": "code",
   "execution_count": 130,
   "metadata": {},
   "outputs": [
    {
     "name": "stdout",
     "output_type": "stream",
     "text": [
      "100%_5trials RaykarDS_lasso_1_0 0.7934406127963346\n",
      "100%_5trials RaykarDS_lasso_1_0.2 0.7893589801432732\n",
      "100%_5trials RaykarDS_lasso_1_0.4 0.748581705342417\n",
      "100%_5trials RaykarDS_lasso_1_0.5 0.6535726693035357\n",
      "100%_5trials RaykarDS_lasso_1_0.6 0.6447394587901483\n",
      "100%_5trials RaykarDS_lasso_1_0.8 0.6535997272895895\n",
      "100%_5trials RaykarDS_lasso_1_1 0.5453052326310037\n",
      "100%_5trials RaykarDS_lasso_0.1_0 0.7934406127963346\n",
      "100%_5trials RaykarDS_lasso_0.1_0.2 0.7934406127963346\n",
      "100%_5trials RaykarDS_lasso_0.1_0.4 0.789092786709378\n",
      "100%_5trials RaykarDS_lasso_0.1_0.5 0.776581695316299\n",
      "100%_5trials RaykarDS_lasso_0.1_0.6 0.7925222454493956\n",
      "100%_5trials RaykarDS_lasso_0.1_0.8 0.7754246562294778\n",
      "100%_5trials RaykarDS_lasso_0.1_1 0.6298098672040666\n",
      "100%_5trials RaykarDS_lasso_0.01_0 0.7934406127963346\n",
      "100%_5trials RaykarDS_lasso_0.01_0.2 0.7934406127963346\n",
      "100%_5trials RaykarDS_lasso_0.01_0.4 0.7934406127963346\n",
      "100%_5trials RaykarDS_lasso_0.01_0.5 0.7934406127963346\n",
      "100%_5trials RaykarDS_lasso_0.01_0.6 0.7764116272890881\n",
      "100%_5trials RaykarDS_lasso_0.01_0.8 0.7745917615388086\n",
      "100%_5trials RaykarDS_lasso_0.01_1 0.7710028875219948\n",
      "80%_5trials RaykarDS_lasso_1_0 0.8009120759578703\n",
      "80%_5trials RaykarDS_lasso_1_0.2 0.7896648018087117\n",
      "80%_5trials RaykarDS_lasso_1_0.4 0.7441488452418551\n",
      "80%_5trials RaykarDS_lasso_1_0.5 0.6721204362363958\n",
      "80%_5trials RaykarDS_lasso_1_0.6 0.6752837015425183\n",
      "80%_5trials RaykarDS_lasso_1_0.8 0.7238199384396353\n"
     ]
    }
   ],
   "source": [
    "for b_p in res.keys():\n",
    "    for a_p in res[b_p].keys():\n",
    "        print(b_p, a_p, res[b_p][a_p]['mean_acc'])"
   ]
  },
  {
   "cell_type": "code",
   "execution_count": null,
   "metadata": {},
   "outputs": [],
   "source": []
  }
 ],
 "metadata": {
  "kernelspec": {
   "display_name": "tensorflow",
   "language": "python",
   "name": "tensorflow"
  },
  "language_info": {
   "codemirror_mode": {
    "name": "ipython",
    "version": 3
   },
   "file_extension": ".py",
   "mimetype": "text/x-python",
   "name": "python",
   "nbconvert_exporter": "python",
   "pygments_lexer": "ipython3",
   "version": "3.6.1"
  }
 },
 "nbformat": 4,
 "nbformat_minor": 2
}
