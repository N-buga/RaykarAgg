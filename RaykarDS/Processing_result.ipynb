{
 "cells": [
  {
   "cell_type": "code",
   "execution_count": 49,
   "metadata": {},
   "outputs": [],
   "source": [
    "import json"
   ]
  },
  {
   "cell_type": "code",
   "execution_count": 50,
   "metadata": {},
   "outputs": [],
   "source": [
    "file_name = 'experiments/chen_data/result.json'"
   ]
  },
  {
   "cell_type": "code",
   "execution_count": 56,
   "metadata": {},
   "outputs": [],
   "source": [
    "saving_file_name = 'experiments/chen_data/saving.json'"
   ]
  },
  {
   "cell_type": "code",
   "execution_count": 57,
   "metadata": {},
   "outputs": [],
   "source": [
    "with open(saving_file_name, 'r') as file_from:\n",
    "    res = json.load(file_from)"
   ]
  },
  {
   "cell_type": "code",
   "execution_count": 58,
   "metadata": {},
   "outputs": [
    {
     "name": "stdout",
     "output_type": "stream",
     "text": [
      "100%_1trials RaykarDS_lasso_1 [0.7288135593220338]\n",
      "100%_1trials RaykarDS_lasso_0.1 [0.711864406779661]\n",
      "100%_1trials RaykarDS_lasso_0.01 [0.711864406779661]\n",
      "100%_1trials Raykar_lasso_1 [0.4915254237288136]\n",
      "100%_1trials Raykar_lasso_0.1 [0.6610169491525424]\n",
      "100%_1trials Raykar_lasso_0.01 [0.7627118644067796]\n",
      "100%_1trials DS [0.711864406779661]\n",
      "80%_1trials RaykarDS_lasso_1 [0.6949152542372882]\n",
      "80%_1trials RaykarDS_lasso_0.1 [0.6949152542372882]\n",
      "80%_1trials RaykarDS_lasso_0.01 [0.711864406779661]\n",
      "80%_1trials Raykar_lasso_1 [0.3898305084745763]\n",
      "80%_1trials Raykar_lasso_0.1 [0.4745762711864407]\n",
      "80%_1trials Raykar_lasso_0.01 [0.7457627118644068]\n",
      "80%_1trials DS [0.7288135593220338]\n",
      "50%_1trials RaykarDS_lasso_1 [0.6440677966101694]\n",
      "50%_1trials RaykarDS_lasso_0.1 [0.711864406779661]\n"
     ]
    }
   ],
   "source": [
    "for b_p in res.keys():\n",
    "    for a_p in res[b_p].keys():\n",
    "        print(b_p, a_p, res[b_p][a_p]['acc'])"
   ]
  },
  {
   "cell_type": "code",
   "execution_count": null,
   "metadata": {},
   "outputs": [],
   "source": []
  }
 ],
 "metadata": {
  "kernelspec": {
   "display_name": "tensorflow",
   "language": "python",
   "name": "tensorflow"
  },
  "language_info": {
   "codemirror_mode": {
    "name": "ipython",
    "version": 3
   },
   "file_extension": ".py",
   "mimetype": "text/x-python",
   "name": "python",
   "nbconvert_exporter": "python",
   "pygments_lexer": "ipython3",
   "version": "3.6.1"
  }
 },
 "nbformat": 4,
 "nbformat_minor": 2
}
