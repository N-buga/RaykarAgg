{
 "cells": [
  {
   "cell_type": "code",
   "execution_count": 21,
   "metadata": {},
   "outputs": [],
   "source": [
    "import json"
   ]
  },
  {
   "cell_type": "code",
   "execution_count": 22,
   "metadata": {},
   "outputs": [],
   "source": [
    "file_name='experiments/chen_data/r_adagrad2.json'"
   ]
  },
  {
   "cell_type": "code",
   "execution_count": 23,
   "metadata": {},
   "outputs": [],
   "source": [
    "with open(file_name, 'r') as file_to:\n",
    "    results = json.load(file_to)"
   ]
  },
  {
   "cell_type": "code",
   "execution_count": 24,
   "metadata": {},
   "outputs": [],
   "source": [
    "def parse_json(results, metric=\"acc\"):\n",
    "    res = {}\n",
    "    \n",
    "    for key in results:\n",
    "        reg_type, reg_coeff, percent, _ = key.split(\"_\")\n",
    "        result = results[key][\"1\"][metric]\n",
    "        if reg_type not in res:\n",
    "            res[reg_type] = {}\n",
    "        if percent not in res[reg_type]:\n",
    "            res[reg_type][percent] = {}\n",
    "        for method in result:\n",
    "            if method not in res[reg_type][percent]:\n",
    "                res[reg_type][percent][method] = (0, None)\n",
    "            if result[method] > res[reg_type][percent][method][0]:\n",
    "                res[reg_type][percent][method] = (result[method], reg_coeff)\n",
    "    return res"
   ]
  },
  {
   "cell_type": "code",
   "execution_count": 25,
   "metadata": {},
   "outputs": [
    {
     "data": {
      "text/plain": [
       "{'lasso': {'100': {'RaykarDS': (0.8106784536218499, '0.1'),\n",
       "   'RaykarDS_l': (0.8175316004749966, '0.01')},\n",
       "  '15': {'RaykarDS': (0.735553503100673, '0.01'),\n",
       "   'RaykarDS_l': (0.7734083652196859, '5e-05')},\n",
       "  '20': {'RaykarDS': (0.7767256894049346, '2'),\n",
       "   'RaykarDS_l': (0.8013864625940098, '0.01')},\n",
       "  '30': {'RaykarDS': (0.7838891674363373, '0.001'),\n",
       "   'RaykarDS_l': (0.8117606544398998, '0.01')},\n",
       "  '40': {'RaykarDS': (0.7985858292650746, '0.01'),\n",
       "   'RaykarDS_l': (0.8149022298456259, '0.01')},\n",
       "  '60': {'RaykarDS': (0.798513260324581, '0.1'),\n",
       "   'RaykarDS_l': (0.8312439635835862, '0.01')},\n",
       "  '80': {'RaykarDS': (0.8106784536218499, '0.1'),\n",
       "   'RaykarDS_l': (0.812013194352817, '0.01')}},\n",
       " 'ridge': {'100': {'RaykarDS': (0.8106784536218499, '1'),\n",
       "   'RaykarDS_l': (0.8176767383559836, '2')},\n",
       "  '15': {'RaykarDS': (0.7319311254782953, '2'),\n",
       "   'RaykarDS_l': (0.7751932972687691, '1')},\n",
       "  '20': {'RaykarDS': (0.7752571579364034, '5'),\n",
       "   'RaykarDS_l': (0.7976960021110964, '2')},\n",
       "  '30': {'RaykarDS': (0.7839617363768306, '0.01'),\n",
       "   'RaykarDS_l': (0.8405385934819897, '5')},\n",
       "  '40': {'RaykarDS': (0.7948122443594141, '10'),\n",
       "   'RaykarDS_l': (0.8313078242512205, '10')},\n",
       "  '60': {'RaykarDS': (0.798513260324581, '5'),\n",
       "   'RaykarDS_l': (0.8350175484892466, '1')},\n",
       "  '80': {'RaykarDS': (0.8152239081673043, '5'),\n",
       "   'RaykarDS_l': (0.8037606544398997, '1')}}}"
      ]
     },
     "execution_count": 25,
     "metadata": {},
     "output_type": "execute_result"
    }
   ],
   "source": [
    "parse_json(results)"
   ]
  },
  {
   "cell_type": "code",
   "execution_count": null,
   "metadata": {},
   "outputs": [],
   "source": []
  }
 ],
 "metadata": {
  "kernelspec": {
   "display_name": "tensorflow",
   "language": "python",
   "name": "tensorflow"
  },
  "language_info": {
   "codemirror_mode": {
    "name": "ipython",
    "version": 3
   },
   "file_extension": ".py",
   "mimetype": "text/x-python",
   "name": "python",
   "nbconvert_exporter": "python",
   "pygments_lexer": "ipython3",
   "version": "3.6.1"
  }
 },
 "nbformat": 4,
 "nbformat_minor": 2
}
