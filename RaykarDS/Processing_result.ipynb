{
 "cells": [
  {
   "cell_type": "code",
   "execution_count": 1,
   "metadata": {},
   "outputs": [],
   "source": [
    "import json"
   ]
  },
  {
   "cell_type": "code",
   "execution_count": 2,
   "metadata": {},
   "outputs": [],
   "source": [
    "file_name='experiments/chen_data/r_adagrad2.json'"
   ]
  },
  {
   "cell_type": "code",
   "execution_count": 3,
   "metadata": {},
   "outputs": [],
   "source": [
    "with open(file_name, 'r') as file_to:\n",
    "    results = json.load(file_to)"
   ]
  },
  {
   "cell_type": "code",
   "execution_count": 13,
   "metadata": {},
   "outputs": [],
   "source": [
    "def parse_json(results, metric=\"acc\"):\n",
    "    res = {}\n",
    "    \n",
    "    for key in results:\n",
    "        reg_type, reg_coeff, percent, _ = key.split(\"_\")\n",
    "        result = results[key][\"1\"][metric]\n",
    "        if reg_type not in res:\n",
    "            res[reg_type] = {}\n",
    "        if percent not in res[reg_type]:\n",
    "            res[reg_type][percent] = {}\n",
    "        for method in result:\n",
    "            if method == 'RaykarDS_l':\n",
    "                out_name = 'Raykar'\n",
    "            else:\n",
    "                out_name = method\n",
    "            if method not in res[reg_type][percent]:\n",
    "                res[reg_type][percent][out_name] = (0, None)\n",
    "            if result[method] > res[reg_type][percent][out_name][0]:\n",
    "                res[reg_type][percent][out_name] = (result[method], reg_coeff)\n",
    "                \n",
    "        if '0' in results[key].keys():\n",
    "            result_DS = results[key][\"0\"][metric]\n",
    "            if 'DS' not in res[reg_type][percent]:\n",
    "                res[reg_type][percent]['DS'] = (result_DS['RaykarDS_l'])\n",
    "                \n",
    "    return res"
   ]
  },
  {
   "cell_type": "code",
   "execution_count": 14,
   "metadata": {},
   "outputs": [
    {
     "data": {
      "text/plain": [
       "{'lasso': {'100': {'DS': 0.8106784536218499,\n",
       "   'Raykar': (0.7348768966882175, '15'),\n",
       "   'RaykarDS': (0.8106784536218499, '0.1')},\n",
       "  '15': {'DS': 0.7272318247789947,\n",
       "   'Raykar': (0.6223892334081013, '15'),\n",
       "   'RaykarDS': (0.735553503100673, '0.01')},\n",
       "  '20': {'DS': 0.7721802348594802,\n",
       "   'Raykar': (0.6903306504815939, '15'),\n",
       "   'RaykarDS': (0.7767256894049346, '2')},\n",
       "  '30': {'DS': 0.7831898667370366,\n",
       "   'Raykar': (0.6894416149887848, '15'),\n",
       "   'RaykarDS': (0.7838891674363373, '0.001')},\n",
       "  '40': {'DS': 0.7985858292650746,\n",
       "   'Raykar': (0.624066763425254, '15'),\n",
       "   'RaykarDS': (0.7985858292650746, '0.01')},\n",
       "  '60': {'DS': 0.798513260324581,\n",
       "   'Raykar': (0.7220229581739016, '15'),\n",
       "   'RaykarDS': (0.798513260324581, '0.1')},\n",
       "  '80': {'DS': 0.8106784536218499,\n",
       "   'Raykar': (0.6586217179047368, '15'),\n",
       "   'RaykarDS': (0.8106784536218499, '0.1')}},\n",
       " 'ridge': {'100': {'DS': 0.8106784536218499,\n",
       "   'Raykar': (0.7982921229713682, '15'),\n",
       "   'RaykarDS': (0.8106784536218499, '1')},\n",
       "  '15': {'DS': 0.7272318247789947,\n",
       "   'Raykar': (0.7390341733737961, '15'),\n",
       "   'RaykarDS': (0.7319311254782953, '2')},\n",
       "  '20': {'DS': 0.7721802348594802,\n",
       "   'Raykar': (0.7946190790341733, '15'),\n",
       "   'RaykarDS': (0.7752571579364034, '5')},\n",
       "  '30': {'DS': 0.7831898667370366,\n",
       "   'Raykar': (0.8405385934819897, '15'),\n",
       "   'RaykarDS': (0.7839617363768306, '0.01')},\n",
       "  '40': {'DS': 0.7985858292650746,\n",
       "   'Raykar': (0.8313078242512205, '15'),\n",
       "   'RaykarDS': (0.7948122443594141, '10')},\n",
       "  '60': {'DS': 0.798513260324581,\n",
       "   'Raykar': (0.8162483177200158, '15'),\n",
       "   'RaykarDS': (0.798513260324581, '5')},\n",
       "  '80': {'DS': 0.8106784536218499,\n",
       "   'Raykar': (0.8006837313629767, '15'),\n",
       "   'RaykarDS': (0.8152239081673043, '5')}}}"
      ]
     },
     "execution_count": 14,
     "metadata": {},
     "output_type": "execute_result"
    }
   ],
   "source": [
    "parse_json(results)"
   ]
  },
  {
   "cell_type": "code",
   "execution_count": null,
   "metadata": {},
   "outputs": [],
   "source": []
  }
 ],
 "metadata": {
  "kernelspec": {
   "display_name": "tensorflow",
   "language": "python",
   "name": "tensorflow"
  },
  "language_info": {
   "codemirror_mode": {
    "name": "ipython",
    "version": 3
   },
   "file_extension": ".py",
   "mimetype": "text/x-python",
   "name": "python",
   "nbconvert_exporter": "python",
   "pygments_lexer": "ipython3",
   "version": "3.6.1"
  }
 },
 "nbformat": 4,
 "nbformat_minor": 2
}
